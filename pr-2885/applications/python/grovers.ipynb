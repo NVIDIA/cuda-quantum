{
 "cells": [
  {
   "cell_type": "code",
   "execution_count": 1,
   "metadata": {
    "collapsed": false
   },
   "outputs": [],
   "source": [
    "# SPDX-License-Identifier: Apache-2.0 AND CC-BY-NC-4.0\n",
    "#\n",
    "# Licensed under the Apache License, Version 2.0 (the \"License\");\n",
    "# you may not use this file except in compliance with the License.\n",
    "# You may obtain a copy of the License at\n",
    "#\n",
    "# http://www.apache.org/licenses/LICENSE-2.0\n",
    "#\n",
    "# Unless required by applicable law or agreed to in writing, software\n",
    "# distributed under the License is distributed on an \"AS IS\" BASIS,\n",
    "# WITHOUT WARRANTIES OR CONDITIONS OF ANY KIND, either express or implied.\n",
    "# See the License for the specific language governing permissions and\n",
    "# limitations under the License."
   ]
  },
  {
   "cell_type": "markdown",
   "metadata": {
    "collapsed": false
   },
   "source": [
    "# Grover's Algorithm\n",
    "\n"
   ]
  },
  {
   "cell_type": "markdown",
   "metadata": {
    "collapsed": false
   },
   "source": [
    "---\n",
    "\n",
    "## Overview\n",
    "\n",
    "This notebook demonstrates Grover's algorithm applied to an example of searching for 2 marked items in a small unsorted database. Grover's algorithm illustrates patterns and structure that are also used in other quantum algorithms, such as:\n",
    "\n",
    "- [Deutsch-Jozsa algorithm](https://nvidia.github.io/cuda-quantum/latest/applications/python/deutsch_jozsa.html) (distinguishing constant from balanced functions)\n",
    "- Simon’s algorithm (finding hidden periodicity)\n",
    "- [Shor’s algorithm](https://nvidia.github.io/cuda-quantum/latest/applications/python/shors.html) (factoring via [quantum Fourier transform](https://nvidia.github.io/cuda-quantum/latest/applications/python/quantum_fourier_transform.html)).\n",
    "\n",
    "For more explanations of Grover's algorithm, check out the CUDA-Q Academic resources. INSERT LINK\n",
    "\n",
    "Before we get started, we will need to import a few libraries:\n"
   ]
  },
  {
   "cell_type": "code",
   "execution_count": 2,
   "metadata": {
    "collapsed": false
   },
   "outputs": [],
   "source": [
    "import cudaq\n",
    "import matplotlib.pyplot as plt\n",
    "import numpy as np\n"
   ]
  },
  {
   "cell_type": "markdown",
   "metadata": {
    "collapsed": false
   },
   "source": [
    "---\n",
    "\n",
    "## Problem\n",
    "\n",
    "We consider the problem of searching for a marked element or a set of marked elements in an unstructured database. We can make this explicit by considering a database made up of binary strings of length $n$. Let $\\mathbb{B}^n$ denote the set of binary strings of length $n$.  A Boolean function\n",
    "$$f: \\mathbb{B}^n\n",
    "\\to \\{0,1\\}$$\n",
    "encodes the marked elements, where $f(x) =1$ if $x$ is a marked string. Our goal is to find all strings $x$ such that $f(x) = 1$.\n",
    "\n",
    "Classically, if we have no prior knowledge about $f$ (i.e., it is given as a black-box oracle), the best strategy requires $O(N)$ evaluations, where $N = 2^n$ is the total number of binary strings. However, there exists a quantum algorithm due to L. Grover that finds a solution using only $O(\\sqrt{N})$ oracle queries  ([Grover, 1996](https://arxiv.org/abs/quant-ph/9605043)).  \n",
    "\n",
    "We will use computational basis states on $n$ qubits to represent the $2^n$ elements in the database $B^n$.  Our goal is to create a quantum kernel that separates the marked states from the non-marked states. That is, sampling from the kernel yields a marked state with high probability and a non-marked state with low probability.  \n",
    "\n"
   ]
  },
  {
   "cell_type": "markdown",
   "metadata": {
    "collapsed": false
   },
   "source": [
    "\n",
    "\n",
    "In this notebook, we will use a specific example to illustrate the steps and key concepts of Grover's algorithm. \n",
    "\n",
    "Let $n=4$ and mark the states `1001` and `1111`.  \n",
    "\n"
   ]
  },
  {
   "cell_type": "markdown",
   "metadata": {
    "collapsed": false
   },
   "source": [
    "---\n",
    "\n",
    "## Structure of Grover's Algorithm\n",
    "\n",
    "Grover's Algorithm can be broken down into the following steps:\n",
    "\n",
    "1. Preparation: Initialize $n$ qubits in an equal superposition state and initialize an auxiliary qubit in the minus state.\n",
    "2. Oracle Application: Apply an oracle to mark the desired states by flipping their phase.\n",
    "3. Amplitude Amplification: Use a diffusion operator to amplify the amplitudes of the marked states.\n",
    "4. Iteration: Repeat Steps 2 and 3 a specified number of times, which depends on the number of marked elements and $n$. \n",
    "5. Measurement: Measure the qubits. With high probability, the result will be one of the marked states.\n",
    "\n",
    "\n",
    "We will describe each of these steps in detail. Between Step 1 and Step 2, we will introduce two quantum states (the good and the bad state) and their geometric interpretation that will help motivate Steps 3 and 4.\n"
   ]
  },
  {
   "cell_type": "markdown",
   "metadata": {
    "collapsed": false
   },
   "source": [
    "### Step 1: Preparation\n",
    "The first step of Grover's algorithm requires initializing $n$ qubits and one auxilary qubit.  The auxilary qubit is initialized in the minus state.\n",
    "We apply the $H$ gate to the remaining qubits to initialize them in an equal superposition of all possible binary strings.  We'll refer to this state as $|\\xi\\rangle$.\n",
    "\n",
    "$$\n",
    "\\ket{\\xi}:= H^{\\otimes n} (|0\\rangle^{\\otimes n}) = \\frac{1}{\\sqrt{N}} \\sum\\limits_{i=0}^{N-1} |i\\rangle,\n",
    "$$\n",
    "where each binary string is identified with the integer it represents (e.g., $|5\\rangle = |0101\\rangle$).\n",
    "\n",
    "The kernels in the code block below carries out this step.\n"
   ]
  },
  {
   "cell_type": "code",
   "execution_count": 3,
   "metadata": {
    "collapsed": false
   },
   "outputs": [],
   "source": [
    "# Kernel to initialize the auxiliary qubit in the minus state\n",
    "@cudaq.kernel\n",
    "def minus_state(aux_qubit_in_zero_state : cudaq.qview):\n",
    "    x(aux_qubit_in_zero_state)\n",
    "    h(aux_qubit_in_zero_state)\n",
    "\n",
    "# Kernel to create an equal superposition state of qubits initialized to |0>\n",
    "@cudaq.kernel\n",
    "def equal_superposition(qubits_in_zero_state : cudaq.qview):\n",
    "    h(qubits_in_zero_state)  "
   ]
  },
  {
   "cell_type": "markdown",
   "metadata": {
    "collapsed": false
   },
   "source": [
    "### Good and Bad States\n",
    "\n",
    "We can simplify our analysis of Grover's Algorithm by focusing on two useful quantum states, which we'll refer to as the \"good\" and \"bad\" states.  The \"good\" state captures the marked bitstrings and the \"bad\" state is orthogonal to the \"good\" state.\n",
    "\n",
    "Suppose there are $t$ marked states, i.e., there are $t$ elements $x \\in \\mathbb{B}^n$ with $f(x) = 1$. Letting $N=2^n$, we introduce the following quantum states:\n",
    "\n",
    "$$\n",
    "|G\\rangle := \\frac{1}{\\sqrt{t}} \\sum\\limits_{i, f(i) = 1} |i\\rangle, \\quad |B\\rangle := \\frac{1}{\\sqrt{N - t}} \\sum\\limits_{i, f(i) = 0} |i\\rangle.\n",
    "$$\n",
    "\n",
    "These are the uniform superpositions of marked and unmarked states, referred to as the \"good\" and \"bad\" states, respectively.  \n",
    "\n",
    "Rewriting the uniform superposition state $\\ket{\\xi}$ in terms of $|G\\rangle$ and $|B\\rangle$, we obtain:\n",
    "\n",
    "$$\n",
    "\\ket{\\xi} = \\frac{1}{\\sqrt{N}} \\sum\\limits_{i, f(i) = 1} |i\\rangle + \\frac{1}{\\sqrt{N}} \\sum\\limits_{i, f(i) = 0} |i\\rangle\n",
    "= \\frac{\\sqrt{t}}{\\sqrt{N}} |G\\rangle + \\frac{\\sqrt{N - t}}{\\sqrt{N}} |B\\rangle.\n",
    "$$\n",
    "\n"
   ]
  },
  {
   "cell_type": "markdown",
   "metadata": {
    "collapsed": false
   },
   "source": [
    "\n",
    "\n",
    "Let's see what this look likes for our example of $n=4$ and marked states `1001` and `1111`.  Here $\\ket{\\xi} = \\frac{1}{16}\\sum_{k=0}^{15}\\ket{k}$ since there are 4 qubits and 16 computational basis states with $\\ket{0} = \\ket{0000}, \\ket{1} = \\ket{0001}, \\cdots \\ket{15} = \\ket{1111}$.  The good state is a equal superposition of the states $\\ket{9} =\\ket{1001}$ and $\\ket{15} =\\ket{1111}$: \n",
    "$$\\ket{G} =  \\frac{1}{\\sqrt{2}}(\\ket{9}+\\ket{15} )= \\frac{1}{\\sqrt{2}}(\\ket{1001}+\\ket{1111}).$$\n",
    "\n",
    "The bad state is an equal superposition of the remaining states:\n",
    "$$\\ket{B} = \\frac{1}{\\sqrt{14}}(\\ket{0}+\\ket{1}+\\ket{2}+\\cdots+\\ket{8}+\\ket{10}+\\cdots+\\ket{14}) = \\frac{1}{\\sqrt{14}}\\sum_{x\\in B^4}f(x)\\ket{x}. $$\n",
    "\n",
    "Notice that $\\ket{G}$ and $\\ket{B}$ are orthogonal. \n"
   ]
  },
  {
   "cell_type": "markdown",
   "metadata": {
    "collapsed": false
   },
   "source": [
    "\n",
    "Next, we observe that the coefficients $\\frac{\\sqrt{t}}{\\sqrt{N}}$ and $\\frac{\\sqrt{N - t}}{\\sqrt{N}}$ are real numbers satisfying:\n",
    "\n",
    "$$\n",
    "\\left(\\frac{\\sqrt{t}}{\\sqrt{N}}\\right)^2 + \\left(\\frac{\\sqrt{N - t}}{\\sqrt{N}}\\right)^2 = 1.\n",
    "$$\n",
    "\n",
    "This naturally leads us to apply a trigonometry identity to define an angle $\\theta$ such that:\n",
    "\n",
    "$$\n",
    "\\theta = \\arcsin\\left(\\frac{\\sqrt{t}}{\\sqrt{N}}\\right).\n",
    "$$\n",
    "\n",
    "With this notation, we can rewrite $\\ket{\\xi}$ as:\n",
    "\n",
    "$$\n",
    "\\ket{\\xi} = \\sin(\\theta) |G\\rangle + \\cos(\\theta) |B\\rangle.\n",
    "$$\n",
    "\n"
   ]
  },
  {
   "cell_type": "markdown",
   "metadata": {
    "collapsed": false
   },
   "source": [
    "For our example, we have 2 marked states and 4 qubits, in other words $t =2$ and $ N = 2^4 = 16$.\n",
    "In this case,  $\\theta = \\arcsin(\\frac{\\sqrt{2}}{\\sqrt{16}}) = \\arcsin(\\frac{1}{\\sqrt{8}}))\\approx 21^\\circ$.  "
   ]
  },
  {
   "cell_type": "markdown",
   "metadata": {
    "collapsed": false
   },
   "source": [
    "Let us now examine the geometric picture behind our current discussion. We'll consider the ambient Hilbert space to be spanned by the standard basis vectors $|0\\rangle, |1\\rangle, \\dots, |N-1\\rangle$, where the full dimension is $N = 2^n$. Since the uniform superposition state $|\\xi\\rangle$ can be expressed as a linear combination of the states $|G\\rangle$ and $|B\\rangle$ with real coefficients, all three states $|\\xi\\rangle, |G\\rangle,$ and $|B\\rangle$ reside in a two-dimensional real subspace of the ambient Hilbert space, which we can visualize as a 2D plane as in the image below.  Since, $|G\\rangle$ and $|B\\rangle$ are orthogonal, we can imagine them graphed as unit vectors in the positive $y$ and positive $x$ directions, respectively.  From our previous expression, $\\ket{\\xi} = \\sin(\\theta) |G\\rangle + \\cos(\\theta) |B\\rangle,$ we see that the state $|\\xi\\rangle$ forms an angle $\\theta$ with $|B\\rangle$.\n",
    "\n",
    "<div style=\"text-align: center;\">\n",
    "    <img src=\"images/grovers-2D-plane.png\" style=\"width: 20%;\">\n",
    "</div>\n",
    "\n",
    "Given that the number of marked states $t$ is typically small compared to $N$, it follows that $\\theta = \\arcsin\\left(\\sqrt{\\frac{t}{N}}\\right)$is a small angle. This assumption is reasonable, as otherwise, a sufficient number of independent queries to the oracle would likely yield a solution through classical search methods.\n",
    "\n",
    "\n"
   ]
  },
  {
   "cell_type": "markdown",
   "metadata": {
    "collapsed": false
   },
   "source": [
    "### Step 2: Oracle application\n",
    "\n"
   ]
  },
  {
   "cell_type": "markdown",
   "metadata": {
    "collapsed": false
   },
   "source": [
    "\n",
    "\n",
    "After we have created a state of equal superposition, the good state is marked by flipping its phase.  This is done with a **phase oracle**.  A phase oracle $U$ is a unitary operation that has the property that for a computational basis state $\\ket{x}$\n",
    "\n",
    "$$\n",
    "U |x\\rangle = \n",
    "\\begin{cases} \n",
    "-|x\\rangle & \\text{if } |x\\rangle \\text{ is marked} \\\\\n",
    "|x\\rangle & \\text{if } |x\\rangle \\text{ is not marked}\n",
    "\\end{cases}\n",
    "$$\n",
    "\n",
    "In order to implement $U$ we need an auxillary qubit initialized in the $\\ket{-}$ state.\n",
    "\n",
    "\n",
    "\n",
    "Let's consider our example of the two marked states $\\ket{9} =\\ket{1001}$ and $\\ket{15} =\\ket{1111}$.  We'll first write a unitary matrix $U_{15}$ that flips the computational basis state $\\ket{15}$ but keeps all other computational basis states fixed.  Notice that applying a controlled-$Z$ gate to a qubit pair in which the target is in the $|-\\rangle$ state and the control is in the $|1\\rangle$ state will filp the phase of the control qubit.  This is referred to as phase kickback, and we'll use it in our definition of $U_{15}$ and $U_9$ below.\n",
    "\n"
   ]
  },
  {
   "cell_type": "code",
   "execution_count": 4,
   "metadata": {
    "collapsed": false
   },
   "outputs": [],
   "source": [
    "# Define U_15 so that U_15|1111> = -|1111> but fixes \n",
    "# all other computational basis states |x>\n",
    "\n",
    "# Set the number of qubits for the computational basis states\n",
    "num_qubits = 4\n",
    "\n",
    "\n",
    "# Using phase kickback, apply a multi-controlled Z gate\n",
    "# with the auxiliary qubit as the target and all other qubits\n",
    "# as the control\n",
    "@cudaq.kernel\n",
    "def U15(qubits: cudaq.qvector, aux_qubit: cudaq.qubit):\n",
    "    z.ctrl(qubits, aux_qubit)\n",
    "\n",
    "# Define U_9 so that U_9|1001> = -|1001> but fixes \n",
    "# all other computational basis states |x>\n",
    "    \n",
    "# By wrapping the U15 kernel with x gates applied to \n",
    "# qubits 1 and 2 we're able to mark the state |1001> similarly\n",
    "@cudaq.kernel\n",
    "def U9(qubits: cudaq.qvector, aux_qubit: cudaq.qubit):\n",
    "    \n",
    "    x(qubits[1])\n",
    "    x(qubits[2])\n",
    "    U15(qubits, aux_qubit)\n",
    "    x(qubits[1])\n",
    "    x(qubits[2])\n",
    "\n",
    "# Define a phase oracle that flips the phase of both 1111 and 1001, fixing all other computational basis states\n",
    "# assuming that the aux_qubit is initialized in the minus state\n",
    "@cudaq.kernel\n",
    "def phase_oracle(qubits: cudaq.qvector, aux_qubit: cudaq.qubit):\n",
    "    U9(qubits, aux_qubit)\n",
    "    U15(qubits, aux_qubit)"
   ]
  },
  {
   "cell_type": "markdown",
   "metadata": {
    "collapsed": false
   },
   "source": [
    "### Step 3: Amplitude amplification\n",
    "\n"
   ]
  },
  {
   "cell_type": "markdown",
   "metadata": {
    "collapsed": false
   },
   "source": [
    "The main idea behind Grover's algorithm is to construct an operator that performs a clockwise rotation by $2\\theta$ in the two-dimensional plane spanned by the state vectors $|G\\rangle$ and $|B\\rangle$. This is carried out through a composition of two rotations.  First $|\\xi\\rangle$ is reflected over $|B\\rangle$ (by a rotation operation $r_B$) and then this state is reflected over $|\\xi\\rangle$ by a rotation operation $r_\\xi$, as depicted in the animation below.\n",
    "\n",
    "![](https://raw.githubusercontent.com/NVIDIA/cuda-q-academic/refs/heads/main/images/grovers.gif)\n",
    "\n"
   ]
  },
  {
   "cell_type": "markdown",
   "metadata": {
    "collapsed": false
   },
   "source": [
    "#### Reflecting over the |0000&gt; State\n",
    "\n",
    "Before defining $r_\\xi$, we'll first define a gate sequence that will reflect a state over the all zero state.\n",
    "\n",
    "For \\( n = 4 \\), the reflection operator  \n",
    "$$\n",
    "r_0 = 2 |0^{\\otimes 4} \\rangle \\langle 0^{\\otimes 4} | - \\text{Id}\n",
    "$$\n",
    "acts as the identity on $|0000\\rangle$ and multiplies all other computational basis states by $ -1 $.\n",
    "\n",
    "This is coded in the cell block below."
   ]
  },
  {
   "cell_type": "code",
   "execution_count": 5,
   "metadata": {
    "collapsed": false
   },
   "outputs": [],
   "source": [
    "# Reflection about the all zero state\n",
    "\n",
    "@cudaq.kernel\n",
    "def all_zero_reflection(qubits: cudaq.qview):\n",
    "    num_qubits = len(qubits)\n",
    "    z(qubits[0])\n",
    "    x(qubits[0])\n",
    "    z(qubits[0])\n",
    "    x(qubits[0])\n",
    "    x(qubits)    \n",
    "    z.ctrl(qubits[0:num_qubits-1], qubits[num_qubits-1])\n",
    "    x(qubits)\n"
   ]
  },
  {
   "cell_type": "markdown",
   "metadata": {
    "collapsed": false
   },
   "source": [
    "#### Reflecting over the equal superposition state\n",
    "\n",
    "Now let's adapt the `all_zero_reflection` to instead reflect about the equal superposition state.  To do this we'll wrap the `all_zero_reflection` kernel with Hadamard gates which will transform the qubits from the equal superposition state to the all zero state and back.\n",
    "\n"
   ]
  },
  {
   "cell_type": "code",
   "execution_count": 6,
   "metadata": {
    "collapsed": false,
    "scrolled": true
   },
   "outputs": [],
   "source": [
    "# Reflection about the equal superposition state\n",
    "\n",
    "# Wrap the all_zero_reflection kernel with hadamard gates applied to the n qubits\n",
    "@cudaq.kernel\n",
    "def reflection_about_xi(qubits : cudaq.qview):\n",
    "    h(qubits)\n",
    "    all_zero_reflection(qubits)\n",
    "    h(qubits)"
   ]
  },
  {
   "cell_type": "markdown",
   "metadata": {
    "collapsed": false
   },
   "source": [
    "Now that we've defined $r_\\xi$, we're only left with defining $r_B$.  But we've actually already done that! Notice that the controlled-phase oracle that we discussed earlier has the effect of reflecting the state $\\ket{\\xi}$ over the state $\\ket{B}$, which is exactly what we need for $r_B$."
   ]
  },
  {
   "cell_type": "markdown",
   "metadata": {
    "collapsed": false
   },
   "source": [
    "#### Completing Step 3\n",
    "\n",
    "\n",
    "We are now able to realize the iterated operator in Grover's algorithm, which we will denote by $\\mathcal{G}$.\n",
    "\n",
    "$$\n",
    "\\mathcal{G} = r_\\xi \\circ r_B = H^{\\otimes n} \\big( 2|0^{\\otimes n} \\rangle \\langle 0^{\\otimes n}| - \\text{Id} \\big) H^{\\otimes n} \\mathcal{O}_f.\n",
    "$$\n",
    "The circuit diagram below puts together steps 1 through 3:\n",
    "<div style=\"text-align: center;\">\n",
    "    <img src=\"images/grovers-steps1-3.png\" style=\"width: 50%;\">\n",
    "</div>\n",
    "\n",
    "Running this circuit  initializes $\\ket{\\xi}$ and performs a rotation by $2\\theta$ \\(twice the angle between $|\\xi\\rangle$ and $|B\\rangle$\\) in the direction from $|B\\rangle$ to $|G\\rangle$.\n",
    "\n",
    "<div style=\"text-align: center;\">\n",
    "    <img src=\"images/grovers-full-rotation.png\" style=\"width: 25%;\">\n",
    "</div>\n",
    "\n",
    "Recall that in our example the state $\\ket{\\xi}$ is approximately $21^\\circ$ away from $\\ket{B}$. Let's verify that the state resulting from one iteration of Grover's algorithm is $90^\\circ\n",
    "-3\\theta\\approx 27^\\circ$ away from $\\ket{G}$.  Moreover, notice that the amplitudes of `1001` and `1111` in the resulting state have been amplified compared to the equal superposition of states.\n"
   ]
  },
  {
   "cell_type": "code",
   "execution_count": 7,
   "metadata": {
    "collapsed": false
   },
   "outputs": [
    {
     "data": {
      "image/png": "[encoded data removed]",
      "text/plain": [
       "<Figure size 640x480 with 1 Axes>"
      ]
     },
     "metadata": {},
     "output_type": "display_data"
    },
    {
     "name": "stdout",
     "output_type": "stream",
     "text": [
      "<iterator object at 0x72f4a377d3b0>\n",
      "The angle between the resulting state and the good state\n",
      " after one iteration of the circuit is  47.74677827265565\n"
     ]
    }
   ],
   "source": [
    "# Define the Grover diffusion operator\n",
    "\n",
    "@cudaq.kernel\n",
    "def diffusion_operator(qubits: cudaq.qview):\n",
    "\n",
    "    # Apply Hadamard gates\n",
    "    h(qubits)\n",
    "    # Apply rotation about the all zero state\n",
    "    all_zero_reflection(qubits)\n",
    "    # Apply Hadamard gates\n",
    "    h(qubits)\n",
    "\n",
    "num_qubits = 4    \n",
    "\n",
    "# Apply the Grover diffusion operation to the equal superposition state\n",
    "@cudaq.kernel\n",
    "def one_iteration(num_qubits: int):\n",
    "    qubits = cudaq.qvector(num_qubits)\n",
    "    aux_qubit =cudaq.qubit()\n",
    "    # Initialize qubits in an equal superposition state\n",
    "    equal_superposition(qubits)\n",
    "    # Initialize the auxillary qubit in the minus state\n",
    "    x(aux_qubit)\n",
    "    h(aux_qubit)\n",
    "    # Apply the phase oracle once\n",
    "    phase_oracle(qubits, aux_qubit)\n",
    "    # Apply one iteration of the diffusion operator\n",
    "    diffusion_operator(qubits)\n",
    "    \n",
    "    # Measure all qubits, except the auxillary qubit\n",
    "    mz(qubits)\n",
    "\n",
    "# Sample \n",
    "sample_result = cudaq.sample(one_iteration, num_qubits, shots_count = 5000)\n",
    "\n",
    "\n",
    "# Plot the histogram of sampling results\n",
    "\n",
    "# Define a function to draw the histogram of the results of sampling a kernel\n",
    "def plot_results(result, num_qubits):\n",
    "    # Define a dictionary of results \n",
    "\n",
    "    # Initialize the dictionary with all possible bit strings of length 4 for the x axis\n",
    "    result_dictionary = {}\n",
    "\n",
    "    # Generate all possible bit strings of length num_qubits\n",
    "    for i in range(2**num_qubits):\n",
    "        bitstr = bin(i)[2:].zfill(num_qubits)\n",
    "        result_dictionary[bitstr] = 0\n",
    "\n",
    "    # Update the results dictionary of results from the circuit sampling\n",
    "    for k,v in result.items():\n",
    "        result_dictionary[k] = v\n",
    "\n",
    "    # Convert the dictionary to lists for x and y values\n",
    "    x = list(result_dictionary.keys())\n",
    "    y = list(result_dictionary.values())\n",
    "\n",
    "    # Create the histogram\n",
    "    plt.bar(x, y, color='#76B900')\n",
    "\n",
    "    # Add title and labels\n",
    "    plt.title(\"Sampling\")\n",
    "    plt.xlabel(\"Bitstrings\")\n",
    "    plt.ylabel(\"Frequency\")\n",
    "\n",
    "    # Rotate x-axis labels for readability\n",
    "    plt.xticks(rotation=45)\n",
    "\n",
    "    # Show the plot\n",
    "    plt.tight_layout()\n",
    "    plt.show()\n",
    "\n",
    "\n",
    "plot_results(sample_result, num_qubits)\n",
    "\n",
    "print(sample_result.items())\n",
    "\n",
    "# compute the angle between the resulting state and |G> from their dot product\n",
    "dot_product = 0\n",
    "for marked_item in ['1001','1111']:\n",
    "    dot_product+=(1/np.sqrt(2))*np.sqrt(sample_result.probability(marked_item))\n",
    "angle = np.arccos(dot_product)*180/np.pi\n",
    "print('The angle between the resulting state and the good state\\n after one iteration of the circuit is ',angle)\n"
   ]
  },
  {
   "cell_type": "markdown",
   "metadata": {
    "collapsed": false
   },
   "source": [
    "### Steps 4 and 5: Iteration and measurement\n",
    "\n",
    "Depending on $n$ and the number of marked states $t$, one iteration of the gate sequence $\\mathcal{G}$ may not amplifiy the good states enough to distinguish them from the bad states.  However, iterating this sequence one more time will result in a vector $\\pi-3\\theta$ radians away from the state $\\ket{G}$, further amplifying the good states.  We can repeat this until we are close enough to the good state.  But we have to be careful not to repeat this gate sequence too many times as we may overshoot the good state.  \n"
   ]
  },
  {
   "cell_type": "markdown",
   "metadata": {
    "collapsed": false
   },
   "source": [
    "\n",
    "Edit the `num_iterations` variable in the code block below to compute the angle between the resulting state of `num_iterations` iterations of the Grover diffusion operator and the state $\\ket{G}$ along with the histogram of the resulting sampling distribution.  Notice how increasing the number of iterations beyond a certain point produces states with lower probability amplitudes of the marked states than desired.  Why might this happen? What number of iterations results in a better chance of sampling a marked state? How does this compare from the number of iterations that are prescribed by the formula: \n",
    "$\n",
    "m \\approx \\left\\lfloor \\frac{\\pi}{4} \\sqrt{\\frac{N}{t}} \\right\\rfloor?\n",
    "$\n"
   ]
  },
  {
   "cell_type": "code",
   "execution_count": 8,
   "metadata": {
    "collapsed": false,
    "scrolled": true
   },
   "outputs": [
    {
     "name": "stdout",
     "output_type": "stream",
     "text": [
      "{ 0000:182 0001:157 0010:139 0011:182 0100:151 0101:168 0110:180 0111:186 1000:154 1001:1385 1010:158 1011:155 1100:179 1101:170 1110:149 1111:1305 }\n",
      "\n"
     ]
    },
    {
     "data": {
      "image/png": "[encoded data removed]",
      "text/plain": [
       "<Figure size 640x480 with 1 Axes>"
      ]
     },
     "metadata": {},
     "output_type": "display_data"
    }
   ],
   "source": [
    "num_qubits = 4    \n",
    "num_iterations = 2 # CHANGE ME\n",
    "\n",
    "# Apply the Grover diffusion operation to the equal superposition state\n",
    "@cudaq.kernel\n",
    "def grovers(num_qubits: int, num_iterations : int):\n",
    "    qubits = cudaq.qvector(num_qubits)\n",
    "    aux_qubit =cudaq.qubit()\n",
    "    # Initialize qubits in an equal superposition state\n",
    "    equal_superposition(qubits)\n",
    "    # Initialize the auxillary qubit in the minus state\n",
    "    x(aux_qubit)\n",
    "    h(aux_qubit)    \n",
    "    # Apply num_iteration iterations of the diffusion operator\n",
    "    for _ in range(num_iterations):\n",
    "        phase_oracle(qubits, aux_qubit)\n",
    "        diffusion_operator(qubits)\n",
    "    \n",
    "    # Measure all qubits, except the auxillary qubit\n",
    "    mz(qubits)\n",
    "\n",
    "\n",
    "# Sample\n",
    "sample_result = cudaq.sample(grovers, num_qubits, num_iterations, shots_count = 5000)\n",
    "\n",
    "print(sample_result)\n",
    "\n",
    "# Plot the histogram of sampling results\n",
    "plot_results(sample_result, num_qubits)"
   ]
  },
  {
   "cell_type": "markdown",
   "metadata": {
    "collapsed": false
   },
   "source": [
    "As an exercise, adapt the code to search for a different set of unmarked elements on another unstructured database."
   ]
  }
 ],
 "metadata": {
  "kernelspec": {
   "display_name": "Python 3",
   "language": "python",
   "name": "python3"
  },
  "language_info": {
   "codemirror_mode": {
    "name": "ipython",
    "version": 3
   },
   "file_extension": ".py",
   "mimetype": "text/x-python",
   "name": "python",
   "nbconvert_exporter": "python",
   "pygments_lexer": "ipython3",
   "version": "3.10.12"
  }
 },
 "nbformat": 4,
 "nbformat_minor": 4
}
