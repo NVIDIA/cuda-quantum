{
    "cells": [
        {
            "cell_type": "markdown",
            "metadata": {},
            "source": [
                "# Molecular docking via DC-QAOA\n",
                "\n",
                "Drugs often work by binding to an active site of a protein, inhibiting or activating its function for some therapeutic purpose. Finding new candidate drugs is extremely difficult. The study of molecular docking helps guide this search and involves the prediction of how strongly a certain ligand (drug) will bind to its target (usually a protein).  \n",
                "\n",
                "One of the primary challenges to molecular docking arises from the many geometric degrees of freedom present in proteins and ligands, making it difficult to predict the optimal orientation and assess if the drug is a good candidate or not. One solution is to formulate the problem as a mathematical optimization problem where the optimal solution corresponds to the most likely ligand-protein configuration. This optimization problem can be solved on a quantum computer using methods like the Quantum Approximate Optimization Algorithm (QAOA). This tutorial demonstrates how this [paper](https://arxiv.org/pdf/2308.04098) used digitized-counteradiabatic (DC) QAOA to study molecular docking.  This tutorial assumes you have an understanding of QAOA, if not, please see the CUDA-Q MaxCut tutorial found [here](https://nvidia.github.io/cuda-quantum/latest/applications/python/qaoa.html).\n",
                "\n",
                "The next section provides more detail on the problem setup followed by CUDA-Q implementations below."
            ]
        },
        {
            "cell_type": "markdown",
            "metadata": {},
            "source": [
                "### Setting up the Molecular Docking Problem\n",
                "\n",
                "The figure from the [paper](https://arxiv.org/pdf/2308.04098) provides a helpful diagram for understanding the workflow.\n",
                "\n",
                "![docking](./images/docking.png)\n",
                "\n",
                "\n",
                "There are 6 key steps:\n",
                "1.  The experimental protein and ligand structures are determined and used to select pharmacores, or an important chemical group that will govern the chemical interactions.\n",
                "2. Two labeled distance graphs (LAGs) of size $N$ and $M$ represent the protein and the ligand, respectively. Each node corresponds to a pharmacore and each edge weight corresponds to the distance between pharmacores.\n",
                "3.  A $M*N$ node binding interaction graph (BIG) is created from the LAGs. Each node in the BIG graph corresponds to a pair of pharmacores, one from the ligand and the other from the protein. The existence of edges between nodes in the BIG graph are determined from the LAGs and correspond to interactions that can feesibly coexist. Therefore, cliques in the graph correspond to mutually possible interactions. \n",
                "4. The problem is mapped to a QAOA circuit and corresponding Hamiltonian. From there, the ground state solution is determined.\n",
                "5.  The ground state will produce the maximum weighted clique which corresponds to the best (most strongly bound) orientation of the ligand and protein.\n",
                "6.  The predicted docking structure is interpreted from the QAOA result and is used for further analysis.\n"
            ]
        },
        {
            "cell_type": "markdown",
            "metadata": {},
            "source": [
                "### CUDA-Q Implementation\n",
                "\n",
                "First, the appropriate libraries are imported and the `nvidia` backend is selected to run on GPUs if available."
            ]
        },
        {
            "cell_type": "code",
            "execution_count": 1,
            "metadata": {},
            "outputs": [],
            "source": [
                "import cudaq\n",
                "from cudaq import spin\n",
                "import numpy as np\n"
            ]
        },
        {
            "cell_type": "markdown",
            "metadata": {},
            "source": [
                "The block below defines two of the BIG data sets from the paper. The first is a smaller example, but it can be swapped with the commented out example below at your discretion. The weights are specified for each node based on the nature of the ligand and protein pharmacores represented by the node."
            ]
        },
        {
            "cell_type": "code",
            "execution_count": 2,
            "metadata": {},
            "outputs": [
                {
                    "name": "stdout",
                    "output_type": "stream",
                    "text": [
                        "Edges:  [[0, 1], [0, 2], [0, 4], [0, 5], [1, 2], [1, 3], [1, 5], [2, 3], [2, 4], [3, 4], [3, 5], [4, 5]]\n",
                        "Non-Edges:  [[0, 3], [1, 4], [2, 5]]\n"
                    ]
                }
            ],
            "source": [
                "# The two graph inputs from the paper\n",
                "\n",
                "# BIG 1\n",
                "\n",
                "nodes = [0, 1, 2, 3, 4, 5]\n",
                "qubit_num = len(nodes)\n",
                "edges = [[0, 1], [0, 2], [0, 4], [0, 5], [1, 2], [1, 3], [1, 5], [2, 3], [2, 4],\n",
                "         [3, 4], [3, 5], [4, 5]]\n",
                "non_edges = [\n",
                "    [u, v] for u in nodes for v in nodes if u < v and [u, v] not in edges\n",
                "]\n",
                "\n",
                "print('Edges: ', edges)\n",
                "print('Non-Edges: ', non_edges)\n",
                "\n",
                "weights = [0.6686, 0.6686, 0.6686, 0.1453, 0.1453, 0.1453]\n",
                "penalty = 6.0\n",
                "num_layers = 3\n",
                "\n",
                "# BIG 2 (More expensive simulation)\n",
                "#nodes=[0,1,2,3,4,5,6,7]\n",
                "#qubit_num=len(nodes)\n",
                "#edges=[[0,1],[0,2],[0,5],[0,6],[0,7],[1,2],[1,4],[1,6],[1,7],[2,4],[2,5],[2,7],[3,4],[3,5],[3,6],\\\n",
                "#    [4,5],[4,6],[5,6]]\n",
                "#non_edges=[[u,v] for u in nodes for v in nodes if u<v and [u,v] not in edges]\n",
                "#print('Edges: ', edges)\n",
                "#print('Non-edges: ', non_edges)\n",
                "#weights=[0.6686,0.6686,0.6886,0.1091,0.0770,0.0770,0.0770,0.0770]\n",
                "#penalty=8.0\n",
                "#num_layers=8"
            ]
        },
        {
            "cell_type": "markdown",
            "metadata": {},
            "source": [
                "Next, the Hamiltonian is constructed: \n",
                "\n",
                "$$H = \\frac{1}{2}\\sum_{i \\in V}w_i(\\sigma^z_i - 1) + \\frac{P}{4} \\sum_{(i,j) \\notin E, i \\neq j} (\\sigma^z_i -1)(\\sigma^z_j - 1) $$\n",
                "\n",
                "\n",
                "The first term concerns the vertices and the weights of the given pharmacores.  The second term is a penalty term that penalizes edges of the graph with no interactions.  The penalty $P$ is set by the user and is defined as 6 in the cell above. The function below returns the Hamiltonian as a CUDA-Q `spin_op` object.\n",
                "\n"
            ]
        },
        {
            "cell_type": "code",
            "execution_count": 3,
            "metadata": {},
            "outputs": [],
            "source": [
                "# Generate the Hamiltonian\n",
                "def ham_clique(penalty, nodes, weights, non_edges) -> cudaq.SpinOperator:\n",
                "\n",
                "    spin_ham = 0\n",
                "    for wt, node in zip(weights, nodes):\n",
                "        #print(wt,node)\n",
                "        spin_ham += 0.5 * wt * spin.z(node)\n",
                "        spin_ham -= 0.5 * wt * spin.i(node)\n",
                "\n",
                "    for non_edge in non_edges:\n",
                "        u, v = (non_edge[0], non_edge[1])\n",
                "        #print(u,v)\n",
                "        spin_ham += penalty / 4.0 * (spin.z(u) * spin.z(v) - spin.z(u) -\n",
                "                                     spin.z(v) + spin.i(u) * spin.i(v))\n",
                "\n",
                "    return spin_ham"
            ]
        },
        {
            "cell_type": "markdown",
            "metadata": {},
            "source": [
                "The code below strips the Hamiltonian into a list of coefficients and corresponding Pauli words which can be passed into a quantum kernel."
            ]
        },
        {
            "cell_type": "code",
            "execution_count": 4,
            "metadata": {},
            "outputs": [
                {
                    "name": "stdout",
                    "output_type": "stream",
                    "text": [
                        "(-0.072650+0.000000i) * I5 + (-1.427350+0.000000i) * Z5 + (-0.072650+0.000000i) * I4 + (-1.427350+0.000000i) * Z4 + (-0.072650+0.000000i) * I3 + (-1.427350+0.000000i) * Z3 + (-0.334300+0.000000i) * I2 + (-1.165700+0.000000i) * Z2 + (-0.334300+0.000000i) * I1 + (-1.165700+0.000000i) * Z1 + (-0.334300+0.000000i) * I0 + (-1.165700+0.000000i) * Z0 + (0.000000+0.000000i) + (1.500000+0.000000i) * I0I3 + (1.500000+0.000000i) * Z0Z3 + (1.500000+0.000000i) * I1I4 + (1.500000+0.000000i) * Z1Z4 + (1.500000+0.000000i) * I2I5 + (1.500000+0.000000i) * Z2Z5\n",
                        "[(-0.07265+0j), (0.07265+0j), (-0.07265+0j), (0.07265+0j), (-0.07265+0j), (0.07265+0j), (-0.3343+0j), (0.3343+0j), (-0.3343+0j), (0.3343+0j), (-0.3343+0j), (0.3343+0j), 0j, (1.5+0j), (-1.5+0j), (-1.5+0j), (1.5+0j), (1.5+0j), (-1.5+0j), (-1.5+0j), (1.5+0j), (1.5+0j), (-1.5+0j), (-1.5+0j), (1.5+0j)]\n",
                        "['IIIIII', 'IIIIIZ', 'IIIIII', 'IIIIZI', 'IIIIII', 'IIIZII', 'IIIIII', 'IIZIII', 'IIIIII', 'IZIIII', 'IIIIII', 'ZIIIII', 'IIIIII', 'IIIIII', 'IIIZII', 'ZIIIII', 'ZIIZII', 'IIIIII', 'IIIIZI', 'IZIIII', 'IZIIZI', 'IIIIII', 'IIIIIZ', 'IIZIII', 'IIZIIZ']\n"
                    ]
                }
            ],
            "source": [
                "# Collect coefficients from a spin operator so we can pass them to a kernel\n",
                "def term_coefficients(ham: cudaq.SpinOperator) -> list[complex]:\n",
                "    result = []\n",
                "    for term in ham:\n",
                "        result.append(term.get_coefficient())\n",
                "    return result\n",
                "\n",
                "    # Collect Pauli words from a spin operator so we can pass them to a kernel\n",
                "\n",
                "\n",
                "def term_words(ham: cudaq.SpinOperator) -> list[str]:\n",
                "    # Our kernel uses these words to apply exp_pauli to the entire state.\n",
                "    # we hence ensure that each pauli word covers the entire space.\n",
                "    n_spins = ham.get_qubit_count()\n",
                "    result = []\n",
                "    for term in ham:\n",
                "        result.append(term.get_pauli_word(n_spins))\n",
                "    return result\n",
                "\n",
                "\n",
                "ham = ham_clique(penalty, nodes, weights, non_edges)\n",
                "print(ham)\n",
                "\n",
                "coef = term_coefficients(ham)\n",
                "words = term_words(ham)\n",
                "\n",
                "print(term_coefficients(ham))\n",
                "print(term_words(ham))"
            ]
        },
        {
            "cell_type": "markdown",
            "metadata": {},
            "source": [
                "The kernel below defines a DC-QAOA circuit.  What makes the approach \"DC\" is the inclusion of additional counteradiabatic terms to better drive the optimization to the ground state. These terms are digitized and applied as additional operations following each QAOA layer.  The increase in parameters is hopefully offset by requiring fewer layers. In this example, the DC terms are the additional parameterized $Y$ operations applied to each qubit. These can be commented out to run conventional QAOA."
            ]
        },
        {
            "cell_type": "code",
            "execution_count": 5,
            "metadata": {},
            "outputs": [],
            "source": [
                "@cudaq.kernel\n",
                "def dc_qaoa(qubit_num:int, num_layers:int, thetas:list[float],\\\n",
                "    coef:list[complex], words:list[cudaq.pauli_word]):\n",
                "\n",
                "    qubits = cudaq.qvector(qubit_num)\n",
                "\n",
                "    h(qubits)\n",
                "\n",
                "    count = 0\n",
                "    for p in range(num_layers):\n",
                "\n",
                "        for i in range(len(coef)):\n",
                "            exp_pauli(thetas[count] * coef[i].real, qubits, words[i])\n",
                "            count += 1\n",
                "\n",
                "        for j in range(qubit_num):\n",
                "            rx(thetas[count], qubits[j])\n",
                "            count += 1\n",
                "\n",
                "        #Comment out this for loop for conventional QAOA\n",
                "        for k in range(qubit_num):\n",
                "            ry(thetas[count], qubits[k])\n",
                "            count += 1"
            ]
        },
        {
            "cell_type": "markdown",
            "metadata": {},
            "source": [
                "The classical optimizer for the QAOA procedure can be specified as one of the built-in CUDA-Q optimizers, in this case Nelder Mead. The parameter count is defined for DC-QAOA, but can be swapped with the commented line below for conventional QAOA."
            ]
        },
        {
            "cell_type": "code",
            "execution_count": 6,
            "metadata": {},
            "outputs": [
                {
                    "name": "stdout",
                    "output_type": "stream",
                    "text": [
                        "Total number of parameters:  111\n",
                        "Initial parameters =  [0.21810696323572243, -0.20613464375211488, 0.2546877639814583, 0.3657985647468064, 0.37118004688049144, -0.03656087558321203, 0.08564174998504231, 0.21639801853794682, 0.11122286088634259, 0.1743727097033635, -0.36518146001762486, -0.15829741539542244, -0.3467434780387345, 0.28043500852894776, -0.09986021299050934, 0.14125225086023052, -0.19141728018199775, -0.11970943368650361, -0.3853063093646483, -0.1112643868789806, 0.3527177454825464, -0.22156160012057186, -0.1418496891385843, 0.32811766468303116, -0.367642000671186, -0.34158180583996006, 0.10196745745501312, 0.29359239180502594, -0.3858537615546677, 0.19366130907065582, 0.24570488114056754, -0.3332307385378807, 0.12287973244618389, 0.007274514934614895, -0.015799547372526146, 0.3578070967202224, -0.39268963055535144, -0.19872246354138554, 0.16668715544467982, -0.13777293592446055, -0.17514665212709513, 0.15350249947988204, 0.32872977428061945, -0.20068831419712105, -0.032919322131134854, -0.19399909325771983, -0.09477141125241506, 0.08210460401106645, 0.21392577760158515, -0.3393568044538389, 0.14615087942938465, 0.03790339186006314, -0.2843250892879255, -0.3151384847055956, -0.19983741137121905, -0.27348611567665115, 0.33457528180906904, 0.14145414847455462, -0.20604220093940323, 0.05410235084309195, 0.04447870918600966, -0.3355714098595045, 0.266806440171265, -0.07436189654442632, -0.2789176729721685, -0.2427508182662484, -0.007351219158674538, 0.16652355413124942, 0.3808697740391629, 0.2943566301288585, -0.0007526597041920824, -0.3088342705284747, 0.3245365797019699, -0.10609475622422088, -0.21473737933378598, 0.29250730067679076, -0.28560348266311547, -0.20704653805110443, 0.07492639208926116, 0.050204699769995864, 0.3604464956189818, -0.036725741805424705, -0.2914156467694673, 0.20464937477384804, -0.2343360494257549, -0.2546811698770065, -0.04938739737483455, -0.1254588720659109, 0.3669797333052197, -0.2803666634362036, 0.27061563884884454, 0.13305127120906368, -0.3068512076427221, -0.3233849134464092, 0.36635843051388706, -0.240098193659686, -0.32837492497817505, -0.181124836778538, 0.1179122331174225, 0.036738762582488205, 0.1545073310569931, 0.363716379700769, -0.17457710231173657, -0.20920928764228694, 0.2714901967257429, -0.21660301905921672, 0.14836666072760274, -0.27214467572455214, -0.23279347949098783, -0.3396070348147753, 0.19594560698856422]\n"
                    ]
                }
            ],
            "source": [
                "# Specify the optimizer and its initial parameters.\n",
                "optimizer = cudaq.optimizers.NelderMead()\n",
                "\n",
                "#Specify random seeds\n",
                "np.random.seed(13)\n",
                "cudaq.set_random_seed(13)\n",
                "\n",
                "# if dc_qaoa used\n",
                "parameter_count = (2 * qubit_num + len(coef)) * num_layers\n",
                "\n",
                "# if qaoa used\n",
                "# parameter_count=(qubit_num+len(coef))*num_layers\n",
                "\n",
                "print('Total number of parameters: ', parameter_count)\n",
                "optimizer.initial_parameters = np.random.uniform(-np.pi / 8, np.pi / 8,\n",
                "                                                 parameter_count)\n",
                "print(\"Initial parameters = \", optimizer.initial_parameters)"
            ]
        },
        {
            "cell_type": "markdown",
            "metadata": {},
            "source": [
                "A cost function is specified which computes the expectation value of the DC-QAOA circuit and the Hamiltonian using the `observe` function. Running the optimization returns the minimized expectation value and the optimal parameters."
            ]
        },
        {
            "cell_type": "code",
            "execution_count": 7,
            "metadata": {},
            "outputs": [
                {
                    "name": "stdout",
                    "output_type": "stream",
                    "text": [
                        "optimal_expectation = -2.005748270379595\n",
                        "optimal_parameters = [0.17576464307887707, 1.4848306387533396, 1.9143085381619223, 2.002118131030208, 0.33632701711782076, 1.587519795579704, 1.737066482512641, 0.23329536118733668, 0.16936735323861488, 0.13057738706246813, -0.3411775611657995, 1.3883721560273572, 0.9917773419115768, 1.6057700902560956, -0.18979534767209766, 0.23904764313445614, 0.0011044114507255853, -0.08786989059789757, 0.5063599556344257, -0.24581889330918832, 0.03777170732191358, -0.0421078041501959, 0.9594504980394571, -0.3510930712943139, -0.10170527107798188, -0.2732851611784905, 2.0024675638280125, 0.2810916872761711, -0.6441540064872276, 0.7131200849689061, 1.834369894480892, 0.20110580791781296, 0.26201228741693994, 0.21560785320140888, -0.6913416812540294, 0.3360724245382795, 1.4658579541242658, 2.01119269111667, 0.40305962296842834, 0.16715001495475162, 0.06373714816956161, 1.4174541527386297, 0.28744535065853316, -0.11144457307740356, 0.9838100747648171, -0.4592225867168316, -0.32844455974376896, -0.13096484833448632, 0.052702869365487265, 1.589647653550549, 2.6476558587518118, -0.20173339736842594, -0.11093262963784412, -0.116572898924135, -0.8362927400515681, 0.219488703910662, 0.06999157567050396, 0.06863001989376344, 0.012646626837876854, 0.022456483679027202, 2.810503410063524, -0.2404788460274312, 0.49346805888596584, -0.20354734150278564, 0.2928560358159552, -0.21274666376909057, 0.1921968092072488, -0.4352872943173568, 0.8011877391269554, 0.26427816334422716, 0.2912985599797482, -0.16344686437647044, 0.386268538494336, -0.02919691152579508, 0.524708029740582, -0.24135889742418942, 0.31518636582723103, -0.06101418023991616, 0.31575539874217246, 0.4929638167140593, 0.43334778737811985, -0.4704013682248823, -0.3230148758426816, 0.6713851869911511, -0.490526587442989, 0.24256688249946967, 1.2459128631553105, -0.2461500526203213, 0.2339523609416535, -0.4887426805969012, 0.2771926373277283, 1.7793088975628617, 1.5629372449029462, -0.2876115331698138, 2.113785213373891, -0.041127204740079235, 0.2455044916970957, -0.6892763009857277, 0.3697764260654725, 0.2362854903602551, 0.04910050065863437, 1.3303536877362205, -0.44541793312340544, -0.08396552404839075, 0.3312617334500346, -0.5212842068128023, 0.30652883792939006, -0.22227144068070853, -0.3683916976515427, -0.8729170862146759, 0.0562440521165778]\n"
                    ]
                }
            ],
            "source": [
                "cost_values = []\n",
                "\n",
                "\n",
                "def objective(parameters):\n",
                "\n",
                "    cost = cudaq.observe(dc_qaoa, ham, qubit_num, num_layers, parameters, coef,\n",
                "                         words).expectation()\n",
                "    cost_values.append(cost)\n",
                "    return cost\n",
                "\n",
                "\n",
                "# Optimize!\n",
                "optimal_expectation, optimal_parameters = optimizer.optimize(\n",
                "    dimensions=parameter_count, function=objective)\n",
                "\n",
                "print('optimal_expectation =', optimal_expectation)\n",
                "print('optimal_parameters =', optimal_parameters)"
            ]
        },
        {
            "cell_type": "markdown",
            "metadata": {},
            "source": [
                "Sampling the circuit with the optimal parameters allows for the `most_probable` command to reveal the bitsting corresponding to the ideal graph partitioning solution. This indicates what sort of interactions are present in the ideal docking configuration"
            ]
        },
        {
            "cell_type": "code",
            "execution_count": 8,
            "metadata": {},
            "outputs": [
                {
                    "name": "stdout",
                    "output_type": "stream",
                    "text": [
                        "{ 101010:20 111000:199980 }\n",
                        "\n",
                        "The MVWCP is given by the partition:  111000\n"
                    ]
                }
            ],
            "source": [
                "shots = 200000\n",
                "\n",
                "counts = cudaq.sample(dc_qaoa,\n",
                "                      qubit_num,\n",
                "                      num_layers,\n",
                "                      optimal_parameters,\n",
                "                      coef,\n",
                "                      words,\n",
                "                      shots_count=shots)\n",
                "print(counts)\n",
                "\n",
                "print('The MVWCP is given by the partition: ', counts.most_probable())"
            ]
        },
        {
            "cell_type": "markdown",
            "metadata": {},
            "source": [
                "<img src=\"./images/partition.png\" alt=\"dockin\" width=\"300\" />"
            ]
        },
        {
            "cell_type": "markdown",
            "metadata": {},
            "source": [
                "The convergence of the optimization can be plotted below."
            ]
        },
        {
            "cell_type": "code",
            "execution_count": 9,
            "metadata": {},
            "outputs": [
                {
                    "data": {
                        "image/png": "[encoded data removed]",
                        "text/plain": [
                            "<Figure size 640x480 with 1 Axes>"
                        ]
                    },
                    "metadata": {},
                    "output_type": "display_data"
                }
            ],
            "source": [
                "import matplotlib.pyplot as plt\n",
                "\n",
                "x_values = list(range(len(cost_values)))\n",
                "y_values = cost_values\n",
                "\n",
                "plt.plot(x_values, y_values)\n",
                "\n",
                "plt.xlabel(\"Epochs\")\n",
                "plt.ylabel(\"Cost Value\")\n",
                "plt.show()"
            ]
        }
    ],
    "metadata": {
        "kernelspec": {
            "display_name": "Python 3 (ipykernel)",
            "language": "python",
            "name": "python3"
        },
        "language_info": {
            "codemirror_mode": {
                "name": "ipython",
                "version": 3
            },
            "file_extension": ".py",
            "mimetype": "text/x-python",
            "name": "python",
            "nbconvert_exporter": "python",
            "pygments_lexer": "ipython3",
            "version": "3.10.12"
        }
    },
    "nbformat": 4,
    "nbformat_minor": 4
}
