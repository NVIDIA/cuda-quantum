{
 "cells": [
  {
   "attachments": {},
   "cell_type": "markdown",
   "metadata": {},
   "source": [
    "# Variational Quantum Eigensolver"
   ]
  },
  {
   "cell_type": "markdown",
   "metadata": {},
   "source": [
    "A common application of the Variational Quantum Eigensolver (VQE) algorithm is to compute the ground state energy of a molecular system. The code below demonstrates how to perform classical preprocessing for a $H_2$ molecule (i.e. obtain the integrals from a Hartree-Fock computation to build the molecular Hamiltonian), prepare the initial Hartree-Fock state on the quantum register, add the parameterized UCCSD ansatz to the kernel, and select the COBYLA optimizer.  We are then ready to call `cudaq:vqe` to estimate the minimum energy of the system."
   ]
  },
  {
   "cell_type": "code",
   "execution_count": 1,
   "metadata": {},
   "outputs": [],
   "source": [
    "!pip install openfermionpyscf==0.5 matplotlib==3.8.4 scipy==1.13.0 -q"
   ]
  },
  {
   "cell_type": "code",
   "execution_count": 2,
   "metadata": {},
   "outputs": [],
   "source": [
    "import cudaq\n",
    "import matplotlib.pyplot as plt\n",
    "from scipy.optimize import minimize\n",
    "import numpy as np\n",
    "\n",
    "# Single precision\n",
    "cudaq.set_target(\"nvidia\")\n",
    "# Double precision\n",
    "#cudaq.set_target(\"nvidia-fp64\")"
   ]
  },
  {
   "attachments": {},
   "cell_type": "markdown",
   "metadata": {},
   "source": [
    "The problem of interest here is a chain of hydrogen atoms seperated along the z-axis at a fixed interval called the bond distance. \n",
    "\n",
    "The interatomic electrostatic forces due to the electrons and protons and the shielding by the neutrons creates a chemical system whose energy can be minimised to find a stable configuration. \n",
    "\n",
    "Let us first begin by defining the molecule and other metadata about the problem.\n"
   ]
  },
  {
   "cell_type": "code",
   "execution_count": 3,
   "metadata": {},
   "outputs": [],
   "source": [
    "# Number of hydrogen atoms.\n",
    "hydrogen_count = 2\n",
    "\n",
    "# Distance between the atoms in Angstroms.\n",
    "bond_distance = 0.7474\n",
    "\n",
    "# Define a linear chain of Hydrogen atoms\n",
    "geometry = [('H', (0, 0, i * bond_distance)) for i in range(hydrogen_count)]\n",
    "\n",
    "hamiltonian, data = cudaq.chemistry.create_molecular_hamiltonian(\n",
    "    geometry, 'sto-3g', 1, 0)\n",
    "\n",
    "electron_count = data.n_electrons\n",
    "qubit_count = 2 * data.n_orbitals"
   ]
  },
  {
   "attachments": {},
   "cell_type": "markdown",
   "metadata": {},
   "source": [
    "We now generate a Unitary Coupled-Cluster Singles and Doubles (UCCSD) ansatz from the template provided by CUDA-Q.  "
   ]
  },
  {
   "cell_type": "code",
   "execution_count": 4,
   "metadata": {},
   "outputs": [],
   "source": [
    "@cudaq.kernel\n",
    "def kernel(thetas: list[float]):\n",
    "\n",
    "    qubits = cudaq.qvector(qubit_count)\n",
    "\n",
    "    for i in range(electron_count):\n",
    "        x(qubits[i])\n",
    "\n",
    "    cudaq.kernels.uccsd(qubits, thetas, electron_count, qubit_count)\n",
    "\n",
    "\n",
    "parameter_count = cudaq.kernels.uccsd_num_parameters(electron_count,\n",
    "                                                     qubit_count)"
   ]
  },
  {
   "attachments": {},
   "cell_type": "markdown",
   "metadata": {},
   "source": [
    "### Using CUDA-Q Optimizers\n",
    "\n",
    "We use the builtin optimizers within CUDA-Q for the minimization procedure."
   ]
  },
  {
   "cell_type": "code",
   "execution_count": 5,
   "metadata": {},
   "outputs": [
    {
     "name": "stdout",
     "output_type": "stream",
     "text": [
      "-1.1371744305855906\n"
     ]
    }
   ],
   "source": [
    "optimizer = cudaq.optimizers.COBYLA()\n",
    "\n",
    "energy, parameters = cudaq.vqe(kernel,\n",
    "                               hamiltonian,\n",
    "                               optimizer,\n",
    "                               parameter_count=parameter_count)\n",
    "\n",
    "print(energy)"
   ]
  },
  {
   "attachments": {},
   "cell_type": "markdown",
   "metadata": {},
   "source": [
    "### Integration with Third-Party Optimizers\n",
    "\n",
    "We can also integrate popular libraries like scipy with CUDA-Q. "
   ]
  },
  {
   "cell_type": "code",
   "execution_count": 6,
   "metadata": {},
   "outputs": [
    {
     "data": {
      "image/png": "[encoded data removed]",
      "text/plain": [
       "<Figure size 640x480 with 1 Axes>"
      ]
     },
     "metadata": {},
     "output_type": "display_data"
    }
   ],
   "source": [
    "# Define a function to minimize\n",
    "def cost(theta):\n",
    "\n",
    "    exp_val = cudaq.observe(kernel, hamiltonian, theta).expectation()\n",
    "\n",
    "    return exp_val\n",
    "\n",
    "\n",
    "exp_vals = []\n",
    "\n",
    "\n",
    "def callback(xk):\n",
    "    exp_vals.append(cost(xk))\n",
    "\n",
    "\n",
    "# Initial variational parameters.\n",
    "np.random.seed(42)\n",
    "x0 = np.random.normal(0, np.pi, parameter_count)\n",
    "\n",
    "# Use the scipy optimizer to minimize the function of interest\n",
    "result = minimize(cost,\n",
    "                  x0,\n",
    "                  method='COBYLA',\n",
    "                  callback=callback,\n",
    "                  options={'maxiter': 40})\n",
    "\n",
    "plt.plot(exp_vals)\n",
    "plt.xlabel('Epochs')\n",
    "plt.ylabel('Energy')\n",
    "plt.title('VQE')\n",
    "plt.show()"
   ]
  }
 ],
 "metadata": {
  "kernelspec": {
   "display_name": "Python 3",
   "language": "python",
   "name": "python3"
  },
  "language_info": {
   "codemirror_mode": {
    "name": "ipython",
    "version": 3
   },
   "file_extension": ".py",
   "mimetype": "text/x-python",
   "name": "python",
   "nbconvert_exporter": "python",
   "pygments_lexer": "ipython3",
   "version": "3.10.12"
  },
  "orig_nbformat": 4,
  "vscode": {
   "interpreter": {
    "hash": "31f2aee4e71d21fbe5cf8b01ff0e069b9275f58929596ceb00d14d90e3e16cd6"
   }
  }
 },
 "nbformat": 4,
 "nbformat_minor": 2
}
