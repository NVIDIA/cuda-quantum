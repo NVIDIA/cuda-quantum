{
 "cells": [
  {
   "cell_type": "markdown",
   "id": "231113c7-9432-497b-91f1-c4d068dd61b8",
   "metadata": {},
   "source": [
    "# Computing Magnetization With The Suzuki-Trotter Approximation\n",
    "\n",
    "A key application for quantum computers is the simulation of quantum systems. This tutorial will demonstrate a CUDA-Q implementation of a Suzuki-Trotter simulation of a Heisenberg Model Hamiltonian to compute the magnetization of a spin chain.\n",
    "\n",
    "This example takes advantage of CUDA-Q's state handling abilities to perform the recursive Trotter simulations. "
   ]
  },
  {
   "cell_type": "markdown",
   "id": "5ccd64e3-9e36-470b-9b15-2a7de6bf6ee3",
   "metadata": {},
   "source": [
    "### Problem Setup"
   ]
  },
  {
   "cell_type": "code",
   "execution_count": 1,
   "id": "5c2633a0-979b-46b8-a7a6-44fa61bc62c4",
   "metadata": {
    "execution": {
     "iopub.execute_input": "2025-03-18T21:04:53.804056Z",
     "iopub.status.busy": "2025-03-18T21:04:53.802545Z",
     "iopub.status.idle": "2025-03-18T21:04:55.812402Z",
     "shell.execute_reply": "2025-03-18T21:04:55.810778Z"
    }
   },
   "outputs": [],
   "source": [
    "import cudaq\n",
    "import time\n",
    "import numpy as np\n",
    "from typing import List"
   ]
  },
  {
   "cell_type": "markdown",
   "id": "fbbf2909-2607-48d1-aa72-6594f09bbd88",
   "metadata": {},
   "source": [
    "The goal of this problem is to estimate the time evolution of an initial quantum state, governed by a Hamiltonian, and then compute the average magnetization fo the final state.  The time evolution can be approximated using the Trotter method:\n",
    "\n",
    "$$  e^{-iHt} \\approx \\prod_{n=0}^N e^{\\frac{-iHt}{n}}$$\n",
    "\n",
    "The Heisenberg Hamiltonian is defined below, parameterized by these predefined constants: $g$, $Jx$, $Jy$, and $\\omega = 2\\pi$.   The time step $dt$ is selected for this problem as well as `n_steps` and `n_spins` ($N$), determining the size of the simulation.  The default setup considers 11 spins and 10 steps, which can easily be simulated on a CPU.  If you have access to at least one GPU, the problem can be increased to around 25 steps and 100 time steps.\n",
    "\n",
    "\n",
    "$$ H = \\sum_{j=1}^{N}(J_x\\sigma^x_j\\sigma^x_{j+1} + J_x\\sigma^y_j\\sigma^y_{j+1} + J_x\\sigma^z_j\\sigma^z_{j+1} + \\cos(\\omega * t)\\sigma^x_j   )$$\n"
   ]
  },
  {
   "cell_type": "code",
   "execution_count": 2,
   "id": "e409539e-e97b-4815-8021-477308726155",
   "metadata": {
    "execution": {
     "iopub.execute_input": "2025-03-18T21:04:55.818651Z",
     "iopub.status.busy": "2025-03-18T21:04:55.816954Z",
     "iopub.status.idle": "2025-03-18T21:04:55.831671Z",
     "shell.execute_reply": "2025-03-18T21:04:55.829611Z"
    }
   },
   "outputs": [],
   "source": [
    "g = 1.0\n",
    "Jx = 1.0\n",
    "Jy = 1.0\n",
    "Jz = g\n",
    "dt = 0.05\n",
    "n_steps = 10\n",
    "n_spins = 11\n",
    "omega = 2 * np.pi\n",
    "\n",
    "\n",
    "def heisenbergModelHam(t: float) -> cudaq.SpinOperator:\n",
    "    tdOp = cudaq.SpinOperator.empty()\n",
    "    for i in range(0, n_spins - 1):\n",
    "        tdOp += (Jx * cudaq.spin.x(i) * cudaq.spin.x(i + 1))\n",
    "        tdOp += (Jy * cudaq.spin.y(i) * cudaq.spin.y(i + 1))\n",
    "        tdOp += (Jz * cudaq.spin.z(i) * cudaq.spin.z(i + 1))\n",
    "    for i in range(0, n_spins):\n",
    "        tdOp += (np.cos(omega * t) * cudaq.spin.x(i))\n",
    "    return tdOp"
   ]
  },
  {
   "cell_type": "markdown",
   "id": "067ae183-8e36-4171-adaf-c8506ac2ac48",
   "metadata": {},
   "source": [
    "Next, two CUDA-Q kernels are defined. The first, `getInitState`, prepares an initial state where an $X$ gate is applied to the first and then every other qubit to initialize a chain of alternating spins. "
   ]
  },
  {
   "cell_type": "code",
   "execution_count": 3,
   "id": "1b64301b-f967-4e69-95d7-64a0091054cb",
   "metadata": {
    "execution": {
     "iopub.execute_input": "2025-03-18T21:04:55.837358Z",
     "iopub.status.busy": "2025-03-18T21:04:55.836758Z",
     "iopub.status.idle": "2025-03-18T21:04:55.859158Z",
     "shell.execute_reply": "2025-03-18T21:04:55.856971Z"
    }
   },
   "outputs": [],
   "source": [
    "@cudaq.kernel\n",
    "def getInitState(numSpins: int):\n",
    "    q = cudaq.qvector(numSpins)\n",
    "    for qId in range(0, numSpins, 2):\n",
    "        x(q[qId])"
   ]
  },
  {
   "cell_type": "markdown",
   "id": "0077726b-7c07-4699-8f05-b685d8a4d3a7",
   "metadata": {},
   "source": [
    "The second, `trotter`, performs a single Trotter step given some provided initial state and then returns the resulting state.  Two notes should be made about this kernel. \n",
    "1. It takes advantage of CUDA-Q's state handling abilities, allowing each step to proceed from the previous, still stored in GPU memory during the simulation.  This provides a significant speedup which is demonstrated in the plot at the end of this tutorial.\n",
    "2. This kernel takes advantage of the `pauli_word` object which allows a list of Pauli words and their coefficients to be passed into the kernel and applied as an exponentiated matrix operation using `exp_pauli`. "
   ]
  },
  {
   "cell_type": "code",
   "execution_count": 4,
   "id": "4bd5de1b-76c5-4dd7-844a-dfc598a78e6a",
   "metadata": {
    "execution": {
     "iopub.execute_input": "2025-03-18T21:04:55.865343Z",
     "iopub.status.busy": "2025-03-18T21:04:55.864230Z",
     "iopub.status.idle": "2025-03-18T21:04:55.890535Z",
     "shell.execute_reply": "2025-03-18T21:04:55.888407Z"
    }
   },
   "outputs": [],
   "source": [
    "@cudaq.kernel\n",
    "def trotter(state: cudaq.State, coefficients: List[complex],\n",
    "            words: List[cudaq.pauli_word], dt: float):\n",
    "    q = cudaq.qvector(state)\n",
    "    for i in range(len(coefficients)):\n",
    "        exp_pauli(coefficients[i].real * dt, q, words[i])"
   ]
  },
  {
   "cell_type": "markdown",
   "id": "74593ace-c2d5-4b4b-931f-54fc4f6ee855",
   "metadata": {},
   "source": [
    "The functions below are used to strip the Hamiltonian spin operator into a list of coefficients and Pauli words."
   ]
  },
  {
   "cell_type": "code",
   "execution_count": 5,
   "id": "0aeba077-3a12-4c1d-919e-efc521f531fe",
   "metadata": {
    "execution": {
     "iopub.execute_input": "2025-03-18T21:04:55.896721Z",
     "iopub.status.busy": "2025-03-18T21:04:55.895680Z",
     "iopub.status.idle": "2025-03-18T21:04:55.907114Z",
     "shell.execute_reply": "2025-03-18T21:04:55.905181Z"
    }
   },
   "outputs": [],
   "source": [
    "def termCoefficients(op: cudaq.SpinOperator) -> List[complex]:\n",
    "    result = []\n",
    "    for term in op:\n",
    "        result.append(term.get_coefficient())\n",
    "    return result\n",
    "\n",
    "\n",
    "def termWords(op: cudaq.SpinOperator) -> List[str]:\n",
    "    # Our kernel uses these words to apply exp_pauli to the entire state.\n",
    "    # we hence ensure that each pauli word covers the entire space.\n",
    "    n_spins = op.get_qubit_count()\n",
    "    result = []\n",
    "    for term in op:\n",
    "        result.append(term.get_pauli_word(n_spins))\n",
    "    return result"
   ]
  },
  {
   "cell_type": "markdown",
   "id": "02aa14dc-bf7a-40e2-b55c-77e4e1d13d33",
   "metadata": {},
   "source": [
    "Finally, a second spin operator is defined which will be used to compute the expectation value corresponding to the average magnetization."
   ]
  },
  {
   "cell_type": "code",
   "execution_count": 6,
   "id": "e0be9949-0d1a-44f5-bdeb-6be751dfe136",
   "metadata": {
    "execution": {
     "iopub.execute_input": "2025-03-18T21:04:55.912991Z",
     "iopub.status.busy": "2025-03-18T21:04:55.911975Z",
     "iopub.status.idle": "2025-03-18T21:04:55.920577Z",
     "shell.execute_reply": "2025-03-18T21:04:55.918743Z"
    }
   },
   "outputs": [],
   "source": [
    "average_magnetization = cudaq.SpinOperator.empty()\n",
    "for i in range(0, n_spins):\n",
    "    average_magnetization += ((1.0 / n_spins) * cudaq.spin.z(i))"
   ]
  },
  {
   "cell_type": "markdown",
   "id": "b5527c9b-86e0-4f3d-b5cf-db887d07b375",
   "metadata": {},
   "source": [
    "### Running the Simulation\n",
    "\n",
    "Before looping through the Trotter steps, the initial state is constructed."
   ]
  },
  {
   "cell_type": "code",
   "execution_count": 7,
   "id": "78348fa1-6f14-4238-a6ec-b0c8449892d6",
   "metadata": {
    "execution": {
     "iopub.execute_input": "2025-03-18T21:04:55.926357Z",
     "iopub.status.busy": "2025-03-18T21:04:55.925360Z",
     "iopub.status.idle": "2025-03-18T21:04:56.217917Z",
     "shell.execute_reply": "2025-03-18T21:04:56.215725Z"
    }
   },
   "outputs": [],
   "source": [
    "state = cudaq.get_state(getInitState, n_spins)"
   ]
  },
  {
   "cell_type": "markdown",
   "id": "812b8f44-0a96-4d43-a622-8a4b4a59241d",
   "metadata": {},
   "source": [
    "Next, the time steps are looped through. At each step, the time dependent Hamiltonian is defined. This Hamiltonian is used to construct the Trotter kernel for that time step, which is then used to compute the average magnetization expectation value.  The state is saved, and used as the initial state for the next time step. "
   ]
  },
  {
   "cell_type": "code",
   "execution_count": 8,
   "id": "57e4929d-9b79-4d21-b48a-27d47d7e65a1",
   "metadata": {
    "execution": {
     "iopub.execute_input": "2025-03-18T21:04:56.224502Z",
     "iopub.status.busy": "2025-03-18T21:04:56.223437Z",
     "iopub.status.idle": "2025-03-18T21:05:08.865037Z",
     "shell.execute_reply": "2025-03-18T21:05:08.862565Z"
    }
   },
   "outputs": [
    {
     "name": "stdout",
     "output_type": "stream",
     "text": [
      "Step 0: time [s]: 1.5979282855987549, result: -0.09045492411618333\n"
     ]
    },
    {
     "name": "stdout",
     "output_type": "stream",
     "text": [
      "Step 1: time [s]: 1.2472047805786133, result: -0.0891842902112794\n"
     ]
    },
    {
     "name": "stdout",
     "output_type": "stream",
     "text": [
      "Step 2: time [s]: 1.1704421043395996, result: -0.08746828784221615\n",
      "Step 3: time [s]: 1.1461787223815918, result: -0.08586188047766233\n"
     ]
    },
    {
     "name": "stdout",
     "output_type": "stream",
     "text": [
      "Step 4: time [s]: 1.248096227645874, result: -0.08489801006386904\n"
     ]
    },
    {
     "name": "stdout",
     "output_type": "stream",
     "text": [
      "Step 5: time [s]: 1.2154357433319092, result: -0.08489801006386798\n"
     ]
    },
    {
     "name": "stdout",
     "output_type": "stream",
     "text": [
      "Step 6: time [s]: 1.2587661743164062, result: -0.08586188047765986\n"
     ]
    },
    {
     "name": "stdout",
     "output_type": "stream",
     "text": [
      "Step 7: time [s]: 1.2403604984283447, result: -0.08746828784221186\n"
     ]
    },
    {
     "name": "stdout",
     "output_type": "stream",
     "text": [
      "Step 8: time [s]: 1.2469470500946045, result: -0.0891842902112737\n"
     ]
    },
    {
     "name": "stdout",
     "output_type": "stream",
     "text": [
      "Step 9: time [s]: 1.255791187286377, result: -0.09045492411617581\n",
      "Step times: [1.5979282855987549, 1.2472047805786133, 1.1704421043395996, 1.1461787223815918, 1.248096227645874, 1.2154357433319092, 1.2587661743164062, 1.2403604984283447, 1.2469470500946045, 1.255791187286377]\n",
      "Results: [-0.09045492411618333, -0.0891842902112794, -0.08746828784221615, -0.08586188047766233, -0.08489801006386904, -0.08489801006386798, -0.08586188047765986, -0.08746828784221186, -0.0891842902112737, -0.09045492411617581]\n"
     ]
    }
   ],
   "source": [
    "results = []\n",
    "times = []\n",
    "for i in range(0, n_steps):\n",
    "    start_time = time.time()\n",
    "    ham = heisenbergModelHam(i * dt)\n",
    "    coefficients = termCoefficients(ham)\n",
    "    words = termWords(ham)\n",
    "    magnetization_exp_val = cudaq.observe(trotter, average_magnetization, state,\n",
    "                                          coefficients, words, dt)\n",
    "    result = magnetization_exp_val.expectation()\n",
    "    results.append(result)\n",
    "    state = cudaq.get_state(trotter, state, coefficients, words, dt)\n",
    "    stepTime = time.time() - start_time\n",
    "    times.append(stepTime)\n",
    "    print(f\"Step {i}: time [s]: {stepTime}, result: {result}\")\n",
    "\n",
    "print(f\"Step times: {times}\")\n",
    "print(f\"Results: {results}\")"
   ]
  },
  {
   "cell_type": "markdown",
   "id": "b46a3b14-31c0-4711-9064-51ca1f48e7d4",
   "metadata": {},
   "source": [
    "CUDA-Q's state handling capabilities provide a massive performance boost for this algorithm. Rather than resimulate all previous operation at any given time step, saving the previous state in GPU memory allows completion of the simulation with fewer operations. The figure below demonstrates the 24X speedup realized by a 100 step Trotter simulation.\n",
    "\n",
    "![Htest](./images/statehandle.png)\n"
   ]
  },
  {
   "cell_type": "code",
   "execution_count": 9,
   "id": "f59cf33e-e939-4abe-ae48-2a77f25be5a0",
   "metadata": {},
   "outputs": [],
   "source": []
  }
 ],
 "metadata": {
  "kernelspec": {
   "display_name": "Python 3 (ipykernel)",
   "language": "python",
   "name": "python3"
  },
  "language_info": {
   "codemirror_mode": {
    "name": "ipython",
    "version": 3
   },
   "file_extension": ".py",
   "mimetype": "text/x-python",
   "name": "python",
   "nbconvert_exporter": "python",
   "pygments_lexer": "ipython3",
   "version": "3.10.12"
  }
 },
 "nbformat": 4,
 "nbformat_minor": 5
}
