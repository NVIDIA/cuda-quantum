{
 "cells": [
  {
   "cell_type": "markdown",
   "id": "b01c5570",
   "metadata": {},
   "source": [
    "# Wavefunction ansatz"
   ]
  },
  {
   "cell_type": "code",
   "execution_count": null,
   "id": "ad507956",
   "metadata": {},
   "outputs": [],
   "source": [
    "# Requires pyscf to be installed\n",
    "#%pip install pyscf"
   ]
  },
  {
   "cell_type": "code",
   "execution_count": 1,
   "id": "68a9f31e",
   "metadata": {},
   "outputs": [],
   "source": [
    "import cudaq\n",
    "\n",
    "# When use mpi \n",
    "#cudaq.mpi.initialize()\n",
    "#print(f\"My rank {cudaq.mpi.rank()} of {cudaq.mpi.num_ranks()}\", flush=True)\n",
    "\n",
    "# Set the traget\n",
    "# Double precision.\n",
    "cudaq.set_target(\"nvidia\", option = \"fp64\")\n",
    "\n",
    "#cudaq.set_target(\"nvidia\")"
   ]
  },
  {
   "cell_type": "code",
   "execution_count": 2,
   "id": "1bff58fd",
   "metadata": {},
   "outputs": [],
   "source": [
    "from qchem.classical_pyscf import get_mol_hamiltonian\n",
    "from qchem.hamiltonian import jordan_wigner_fermion"
   ]
  },
  {
   "cell_type": "code",
   "execution_count": 3,
   "id": "732bcd12",
   "metadata": {},
   "outputs": [
    {
     "name": "stdout",
     "output_type": "stream",
     "text": [
      "output file: H 0-pyscf.log\n",
      "[pyscf] Total number of orbitals =  2\n",
      "[pyscf] Total number of electrons =  2\n",
      "[pyscf] HF energy =  -1.116325564486115\n",
      "[pyscf] Total R-CCSD energy =  -1.1371758844013342\n"
     ]
    }
   ],
   "source": [
    "#geometry = 'Li 0.3925 0.0 0.0; H -1.1774 0.0 0.0'\n",
    "geometry = 'H 0.0 0.0 0.0; H 0.0 0.0 0.7474'\n",
    "\n",
    "molecular_data = get_mol_hamiltonian(xyz=geometry, spin=0, charge=0, basis='sto3g', ccsd=True, verbose=True)\n",
    "\n",
    "obi = molecular_data[0]\n",
    "tbi = molecular_data[1]\n",
    "e_nn = molecular_data[2]\n",
    "electron_count = molecular_data[3]\n",
    "norbitals = molecular_data[4]\n",
    "qubits_num = 2 * norbitals\n",
    "\n",
    "hamiltonian = jordan_wigner_fermion(obi, tbi, 0.0, tolerance = 1e-12)\n"
   ]
  },
  {
   "cell_type": "code",
   "execution_count": 4,
   "id": "2d355130",
   "metadata": {},
   "outputs": [
    {
     "name": "stdout",
     "output_type": "stream",
     "text": [
      "Number of parameters: 2 singles, 1 doubles, 3 total\n",
      "word_single: ['YZXI', 'XZYI', 'IYZX', 'IXZY']\n",
      "word_double: ['XXXY', 'XXYX', 'XYYY', 'YXYY', 'XYXX', 'YXXX', 'YYXY', 'YYYX']\n",
      "coef_single: [0.5, -0.5, 0.5, -0.5]\n",
      "coef_double: [0.125, 0.125, 0.125, 0.125, -0.125, -0.125, -0.125, -0.125]\n"
     ]
    }
   ],
   "source": [
    "from qchem.uccsd import get_uccsd_op, uccsd_circuit, uccsd_parameter_size\n",
    "\n",
    "spin_mult, only_singles, only_doubles = 0, False, False\n",
    "\n",
    "# Get the number of parameters\n",
    "single, doubles, total = uccsd_parameter_size(electron_count, qubits_num, spin_mult)\n",
    "print(f\"Number of parameters: {single} singles, {doubles} doubles, {total} total\")\n",
    "\n",
    "# Get the UCCSD pool\n",
    "word_single, word_double, coef_single, coef_double = get_uccsd_op(electron_count, qubits_num, \n",
    "                                                                  spin_mult = 0, only_singles = False, only_doubles = False)\n",
    "#word_double, coef_double = get_uccsd_op(electron_count, qubits_num, spin_mult = 0, only_singles = False, only_doubles = True)\n",
    "#word_single, coef_single = get_uccsd_op(electron_count, qubits_num, spin_mult = 0, only_singles = True, only_doubles = False)\n",
    "\n",
    "print(f\"word_single: {word_single}\")\n",
    "print(f\"word_double: {word_double}\")\n",
    "print(f\"coef_single: {coef_single}\")\n",
    "print(f\"coef_double: {coef_double}\")\n",
    "\n",
    "# Get the UCCSD circuit\n",
    "@cudaq.kernel\n",
    "def uccsd_kernel(qubits_num: int, electron_count: int, theta: list[float], \n",
    "                 word_single: list[cudaq.pauli_word], word_double: list[cudaq.pauli_word], coef_single: list[float], coef_double: list[float]):\n",
    "    \"\"\"\n",
    "    UCCSD kernel\n",
    "    \"\"\"\n",
    "    # Prepare the state\n",
    "    qubits = cudaq.qvector(qubits_num)\n",
    "\n",
    "    # Initialize the qubits\n",
    "    for i in range(electron_count):\n",
    "        x(qubits[i])\n",
    "    \n",
    "    # Apply the UCCSD circuit\n",
    "    uccsd_circuit(qubits, theta, word_single, coef_single, word_double, coef_double)\n",
    "\n",
    "\n",
    "# Get the UCCSD circuit when only doubles excitations are included.\n",
    "@cudaq.kernel\n",
    "def uccsd_double_kernel(qubits_num: int, electron_count: int, theta: list[float], \n",
    "                word_double: list[cudaq.pauli_word], coef_double: list[float]):\n",
    "    \"\"\"\n",
    "    UCCSD kernel\n",
    "    \"\"\"\n",
    "    # Prepare the state\n",
    "    qubits = cudaq.qvector(qubits_num)\n",
    "\n",
    "    # Initialize the qubits\n",
    "    for i in range(electron_count):\n",
    "        x(qubits[i])\n",
    "    \n",
    "    # Apply the UCCSD circuit\n",
    "    uccsd_circuit_double(qubits, theta, word_double, coef_double)\n"
   ]
  },
  {
   "cell_type": "code",
   "execution_count": 5,
   "id": "1c7436df",
   "metadata": {},
   "outputs": [
    {
     "name": "stdout",
     "output_type": "stream",
     "text": [
      "Total energy: -1.1371757102 Hartree\n"
     ]
    }
   ],
   "source": [
    "import numpy as np\n",
    "from scipy.optimize import minimize\n",
    "\n",
    "# Initial guess for the parameters  \n",
    "theta = [0.0] * total\n",
    "#theta = [0.0] * doubles\n",
    "\n",
    "\n",
    "#print(cudaq.draw(kernel, qubits_num, electron_count, theta, word_single, word_double, coef_single, coef_double))\n",
    "\n",
    "# The ansatz is a variational circuit, so we need to optimize the parameters\n",
    "\n",
    "# We use parameter shift to compute the gradient\n",
    "def parameter_shift(theta):\n",
    "            \n",
    "    parameter_count = len(theta)\n",
    "    epsilon = np.pi / 4\n",
    "    # The gradient is calculated using parameter shift.\n",
    "    grad = np.zeros(parameter_count)\n",
    "    theta2 = theta.copy()\n",
    "\n",
    "    for i in range(parameter_count):\n",
    "        theta2[i] = theta[i] + epsilon\n",
    "        exp_val_plus = cost(theta2)\n",
    "        theta2[i] = theta[i] - epsilon\n",
    "        exp_val_minus = cost(theta2)\n",
    "        grad[i] = (exp_val_plus - exp_val_minus) / (2 * epsilon)\n",
    "        theta2[i] = theta[i]\n",
    "    return grad\n",
    "\n",
    "def cost(theta):\n",
    "            \n",
    "    theta=theta.tolist()\n",
    "            \n",
    "    energy = cudaq.observe(uccsd_kernel, hamiltonian, qubits_num, electron_count, \n",
    "                         theta, word_single, word_double, coef_single, coef_double).expectation()\n",
    "    \n",
    "    #energy = cudaq.observe(uccsd_double_kernel, hamiltonian, qubits_num, \n",
    "    #                       electron_count, theta, word_double, coef_double).expectation()\n",
    "    \n",
    "    return energy\n",
    "\n",
    "result_vqe=minimize(cost, theta, method='L-BFGS-B', jac='2-point', tol=1e-7)\n",
    "\n",
    "total_energy = result_vqe.fun + e_nn\n",
    "print(f\"Total energy: {total_energy:.10f} Hartree\")"
   ]
  }
 ],
 "metadata": {
  "kernelspec": {
   "display_name": "Python 3 (ipykernel)",
   "language": "python",
   "name": "python3"
  },
  "language_info": {
   "codemirror_mode": {
    "name": "ipython",
    "version": 3
   },
   "file_extension": ".py",
   "mimetype": "text/x-python",
   "name": "python",
   "nbconvert_exporter": "python",
   "pygments_lexer": "ipython3",
   "version": "3.10.12"
  }
 },
 "nbformat": 4,
 "nbformat_minor": 5
}
