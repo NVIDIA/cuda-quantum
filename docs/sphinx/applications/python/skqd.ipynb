{
 "cells": [
  {
   "cell_type": "markdown",
   "id": "b26c5874",
   "metadata": {},
   "source": [
    "# Sample-Based Krylov Quantum Diagonalization (SKQD)\n",
    "\n",
    "**Sample-Based Krylov Quantum Diagonalization (SKQD)** is a hybrid quantum-classical algorithm that combines the theoretical guarantees of Krylov Quantum Diagonalization (KQD) with the practical efficiency of sample-based methods. Instead of expensive quantum measurements to compute Hamiltonian matrix elements, SKQD samples from quantum states to construct a computational subspace, then diagonalizes the Hamiltonian within that subspace classically.\n",
    "\n",
    "## Why SKQD?\n",
    "\n",
    "Traditional quantum algorithms like VQE face several fundamental challenges:\n",
    "\n",
    "- **Optimization complexity**: VQE requires optimizing many variational parameters in a high-dimensional, non-convex landscape\n",
    "- **Measurement overhead**: Computing expectation values $\\langle\\psi(\\theta)|H|\\psi(\\theta)\\rangle$ requires many measurements for each Pauli term\n",
    "- **Barren plateaus**: Optimization landscapes can become exponentially flat, making gradient-based optimization ineffective\n",
    "- **Parameter initialization**: Poor initial parameters can lead to local minima far from the global optimum\n",
    "\n",
    "SKQD addresses these fundamental limitations:\n",
    "\n",
    "- ✅ **No optimization required**: Uses deterministic quantum time evolution instead of variational circuits\n",
    "- ✅ **Provable convergence**: Theoretical guarantees based on the Rayleigh-Ritz variational principle\n",
    "- ✅ **Measurement efficient**: Only requires computational basis measurements (Z-basis), the most natural measurement on quantum hardware  \n",
    "- ✅ **Noise resilient**: Can filter out problematic measurement outcomes and handle finite sampling\n",
    "- ✅ **Systematic improvement**: Increasing Krylov dimension monotonically improves ground state estimates\n",
    "- ✅ **Hardware friendly**: Time evolution circuits are more amenable to near-term quantum devices than deep variational ansätze\n",
    "\n",
    "\n",
    "\n"
   ]
  },
  {
   "cell_type": "markdown",
   "id": "e3b64321",
   "metadata": {},
   "source": [
    "## Setup and Imports\n",
    "\n",
    "\n"
   ]
  },
  {
   "cell_type": "code",
   "execution_count": 1,
   "id": "c726160d",
   "metadata": {
    "execution": {
     "iopub.execute_input": "2025-09-08T14:32:49.164309Z",
     "iopub.status.busy": "2025-09-08T14:32:49.164205Z",
     "iopub.status.idle": "2025-09-08T14:32:51.746424Z",
     "shell.execute_reply": "2025-09-08T14:32:51.745880Z"
    }
   },
   "outputs": [
    {
     "name": "stdout",
     "output_type": "stream",
     "text": [
      "Using: CUDA-Q Version amd64-cu12-latest (https://github.com/NVIDIA/cuda-quantum e1958798aad2b53eea1bb398be1187da31835020)\n"
     ]
    }
   ],
   "source": [
    "import cudaq\n",
    "\n",
    "import numpy as np\n",
    "import matplotlib.pyplot as plt\n",
    "\n",
    "from skqd_src.pre_and_postprocessing import *\n",
    "\n",
    "cudaq.set_target(\"nvidia\")\n",
    "\n",
    "cudaq.set_random_seed(42)\n",
    "np.random.seed(43)\n",
    "\n",
    "print(\"Using:\", cudaq.__version__)"
   ]
  },
  {
   "cell_type": "markdown",
   "id": "375be8e5",
   "metadata": {},
   "source": [
    "## Understanding Krylov Subspaces\n",
    "\n",
    "### What is a Krylov Subspace?\n",
    "\n",
    "A **Krylov subspace** $\\mathcal{K}^r$ of dimension $r$ is the space spanned by vectors obtained by repeatedly applying an operator $A$ to a reference vector $|\\psi\\rangle$:\n",
    "\n",
    "$$\\mathcal{K}^r = \\text{span}\\{|\\psi\\rangle, A|\\psi\\rangle, A^2|\\psi\\rangle, \\ldots, A^{r-1}|\\psi\\rangle\\}$$\n",
    "\n",
    "\n",
    "\n",
    "### The SKQD Algorithm\n",
    "\n",
    "The key insight of SKQD is that we can:\n",
    "1. **Generate** Krylov states $U^k|\\psi\\rangle$ using quantum time evolution\n",
    "2. **Sample** from these states to get computational basis measurements\n",
    "3. **Combine** all samples to form a computational subspace\n",
    "4. **Diagonalize** the Hamiltonian within this subspace classically\n",
    "\n",
    "This approach is much more efficient than computing matrix elements via quantum measurements!\n"
   ]
  },
  {
   "cell_type": "code",
   "execution_count": 2,
   "id": "24ddc5de",
   "metadata": {
    "execution": {
     "iopub.execute_input": "2025-09-08T14:32:51.766899Z",
     "iopub.status.busy": "2025-09-08T14:32:51.766785Z",
     "iopub.status.idle": "2025-09-08T14:32:51.772257Z",
     "shell.execute_reply": "2025-09-08T14:32:51.771867Z"
    }
   },
   "outputs": [],
   "source": [
    "num_spins = 22  # Number of qubits/spins in our chain\n",
    "measurement_shots = 100_000  # Number of measurements per Krylov state\n",
    "\n",
    "# Krylov subspace parameters\n",
    "krylov_subspace_dimension = 5  # Size of Krylov subspace K^r\n",
    "num_trotter_steps = 8  # Trotter decomposition steps for time evolution\n",
    "total_evolution_time = np.pi  # Total evolution time per Krylov step\n",
    "time_step = total_evolution_time / num_trotter_steps  # Individual Trotter time step\n",
    "\n",
    "# Classical eigenvalue solver configuration\n",
    "eigenvalue_solver_options = {\n",
    "    \"k\": 2,\n",
    "    \"which\": \"SA\"\n",
    "}  # Find 2 smallest eigenvalues\n",
    "\n",
    "Jx, Jy, Jz = 1.0, 1.0, 1.0  # Coupling coefficients for Heisenberg Hamiltonian\n",
    "h_x, h_y, h_z = np.ones(num_spins), np.ones(num_spins), np.ones(num_spins)\n",
    "spin_hamiltonian = create_heisenberg_hamiltonian(num_spins, Jx, Jy, Jz, h_x,\n",
    "                                                 h_y, h_z)\n",
    "exact_ground_state_energy = -38.272304  # Exact ground state energy (computed via classical exact diagonalization)\n",
    "\n",
    "# Extract Hamiltonian components for CUDA-Q circuits and classical processing\n",
    "hamiltonian_coefficients, pauli_operator_words, pauli_operator_strings = extract_hamiltonian_data(\n",
    "    spin_hamiltonian)\n",
    "hamiltonian_coefficients_numpy = np.array(hamiltonian_coefficients)"
   ]
  },
  {
   "cell_type": "markdown",
   "id": "68915ab5",
   "metadata": {},
   "source": [
    "## Krylov State Generation via Repeated Evolution\n",
    "\n",
    "For SKQD, we generate the Krylov sequence:\n",
    "$$|\\psi_0\\rangle, U|\\psi_0\\rangle, U^2|\\psi_0\\rangle, \\ldots, U^{r-1}|\\psi_0\\rangle$$\n",
    "\n",
    "where $U = e^{-iH\\Delta t}$ is approximated via Trotter decomposition.\n",
    "\n",
    "**Implementation Strategy**:\n",
    "1. Start with reference state $|\\psi_0\\rangle$\n",
    "2. Apply Trotter-decomposed time evolution $k$ times for $U^k|\\psi_0\\rangle$\n",
    "3. Measure each Krylov state in computational basis\n",
    "4. Accumulate measurement statistics across all Krylov powers\n",
    "\n"
   ]
  },
  {
   "cell_type": "code",
   "execution_count": 3,
   "id": "44e3422c",
   "metadata": {
    "execution": {
     "iopub.execute_input": "2025-09-08T14:32:51.773472Z",
     "iopub.status.busy": "2025-09-08T14:32:51.773267Z",
     "iopub.status.idle": "2025-09-08T14:32:51.783809Z",
     "shell.execute_reply": "2025-09-08T14:32:51.783445Z"
    }
   },
   "outputs": [],
   "source": [
    "@cudaq.kernel\n",
    "def quantum_krylov_evolution_circuit(\n",
    "        num_qubits: int, krylov_power: int, trotter_steps: int,\n",
    "        time_step: float, pauli_operator_words: list[cudaq.pauli_word],\n",
    "        hamiltonian_coefficients: list[float]):\n",
    "    \"\"\"\n",
    "    CUDA-Q kernel for generating Krylov states via quantum time evolution.\n",
    "    \n",
    "    This kernel implements the core quantum computation of SKQD:\n",
    "    1. Prepare Néel reference state |ψ⟩ = |010101...⟩\n",
    "    2. Apply time evolution U = e^{-iH*dt} using Trotter decomposition  \n",
    "    3. Repeat k times to get U^k|ψ⟩\n",
    "    4. Measure in computational basis\n",
    "    \"\"\"\n",
    "\n",
    "    # Allocate quantum register\n",
    "    qubits = cudaq.qvector(num_qubits)\n",
    "\n",
    "    # Step 1: Prepare Néel state as reference |010101...⟩\n",
    "    for qubit_index in range(num_qubits):\n",
    "        if qubit_index % 2 == 0:\n",
    "            x(qubits[qubit_index])\n",
    "\n",
    "    # Step 2: Apply time evolution U^k = (e^{-iH*dt})^k\n",
    "    for _ in range(krylov_power):  # Apply U exactly k times\n",
    "\n",
    "        # Each application of U uses Trotter decomposition: U ≈ ∏ᵢ e^{-ih_i*dt/n}\n",
    "        for _ in range(trotter_steps):\n",
    "\n",
    "            # Apply each Pauli term in the Hamiltonian\n",
    "            # exp_pauli(θ, qubits, P) implements e^{-iθP} for Pauli string P\n",
    "            for term_index in range(len(hamiltonian_coefficients)):\n",
    "\n",
    "                coefficient = hamiltonian_coefficients[term_index]\n",
    "                pauli_term = pauli_operator_words[term_index]\n",
    "\n",
    "                exp_pauli(coefficient * time_step, qubits, pauli_term)\n",
    "\n",
    "    # Step 3: Measure all qubits in computational (Z) basis\n",
    "    mz(qubits)"
   ]
  },
  {
   "cell_type": "markdown",
   "id": "bfe32121",
   "metadata": {},
   "source": [
    "## Quantum Measurements and Sampling\n",
    "\n",
    "\n",
    "### The Sampling Process\n",
    "\n",
    "For each $k = 0, 1, 2, \\ldots, r-1$:\n",
    "1. **Prepare** the state $U^k|\\psi\\rangle$ using our quantum circuit\n",
    "2. **Measure** in the computational basis many times\n",
    "3. **Collect** the resulting bitstring counts\n",
    "\n",
    "The key insight: these measurement outcomes give us a statistical representation of each Krylov state, which we can then use to construct our computational subspace classically.\n"
   ]
  },
  {
   "cell_type": "code",
   "execution_count": 4,
   "id": "b7d39e9d",
   "metadata": {
    "execution": {
     "iopub.execute_input": "2025-09-08T14:32:51.784748Z",
     "iopub.status.busy": "2025-09-08T14:32:51.784627Z",
     "iopub.status.idle": "2025-09-08T14:32:52.478971Z",
     "shell.execute_reply": "2025-09-08T14:32:52.478409Z"
    }
   },
   "outputs": [
    {
     "name": "stdout",
     "output_type": "stream",
     "text": [
      "   • Sampling U^0|ψ⟩...\n",
      "   • Sampling U^1|ψ⟩...\n",
      "   • Sampling U^2|ψ⟩...\n",
      "   • Sampling U^3|ψ⟩...\n",
      "   • Sampling U^4|ψ⟩...\n"
     ]
    }
   ],
   "source": [
    "# Storage for measurement results from each Krylov state\n",
    "measurement_results_all = []\n",
    "\n",
    "# Execute quantum circuit for each Krylov power k = 0, 1, 2, ..., r-1\n",
    "for krylov_power in range(krylov_subspace_dimension):\n",
    "\n",
    "    print(f\"   • Sampling U^{krylov_power}|ψ⟩...\")\n",
    "\n",
    "    # Run the quantum circuit and collect measurement statistics\n",
    "    sampling_result = cudaq.sample(\n",
    "        quantum_krylov_evolution_circuit,\n",
    "        num_spins,  # Number of qubits\n",
    "        krylov_power,  # How many times to apply U\n",
    "        num_trotter_steps,  # Trotter decomposition steps\n",
    "        time_step,  # Time step per evolution\n",
    "        pauli_operator_words,  # Hamiltonian Pauli terms\n",
    "        hamiltonian_coefficients,  # Hamiltonian coefficients\n",
    "        shots_count=measurement_shots  # Number of measurements\n",
    "    )\n",
    "\n",
    "    # Convert CUDA-Q result to standard dictionary format\n",
    "    measurement_dict = dict(sampling_result.items())\n",
    "    measurement_results_all.append(measurement_dict)\n",
    "\n",
    "accumulated_measurement_data = accumulate_krylov_measurements(\n",
    "    measurement_results_all, krylov_subspace_dimension)"
   ]
  },
  {
   "cell_type": "markdown",
   "id": "87a8788c",
   "metadata": {},
   "source": [
    "## Classical Post-Processing and Diagonalization\n",
    "\n",
    "Now comes the classical part of SKQD: we use our quantum measurement data to construct and diagonalize the Hamiltonian within each Krylov subspace.\n",
    "\n",
    "1. **Extract basis states** from measurement counts\n",
    "2. **Project Hamiltonian** onto the computational subspace spanned by these states  \n",
    "3. **Diagonalize** the projected Hamiltonian classically\n",
    "4. **Extract ground state energy** estimate\n",
    "\n",
    "\n",
    "\n",
    "### The SKQD Algorithm: Matrix Construction Details\n",
    "\n",
    "The core of SKQD is constructing the effective Hamiltonian matrix within the computational subspace:\n",
    "\n",
    "1. **Computational Subspace Formation**: From quantum measurements, we obtain a set of computational basis states $\\{|s_1\\rangle, |s_2\\rangle, \\ldots, |s_d\\rangle\\}$ that spans our approximation to the Krylov subspace.\n",
    "\n",
    "2. **Matrix Element Computation**: For each Pauli term $P_k$ in the Hamiltonian with coefficient $h_k$:\n",
    "   $$H = \\sum_k h_k P_k$$\n",
    "   \n",
    "   We compute matrix elements: $\\langle s_i | P_k | s_j \\rangle$ by applying the Pauli string $P_k$ to each basis state $|s_j\\rangle$.\n",
    "\n",
    "3. **Effective Hamiltonian**: The projected Hamiltonian becomes:\n",
    "   $$H_{\\text{eff}}[i,j] = \\sum_k h_k \\langle s_i | P_k | s_j \\rangle$$\n",
    "\n"
   ]
  },
  {
   "cell_type": "code",
   "execution_count": 5,
   "id": "56dccb91",
   "metadata": {
    "execution": {
     "iopub.execute_input": "2025-09-08T14:32:52.481026Z",
     "iopub.status.busy": "2025-09-08T14:32:52.480900Z",
     "iopub.status.idle": "2025-09-08T14:33:02.212271Z",
     "shell.execute_reply": "2025-09-08T14:33:02.211367Z"
    }
   },
   "outputs": [
    {
     "name": "stdout",
     "output_type": "stream",
     "text": [
      "Performing classical diagonalization for each Krylov subspace...\n",
      "   • Krylov dimension 2\n",
      "   • Krylov dimension 3\n",
      "   • Krylov dimension 4\n",
      "   • Krylov dimension 5\n"
     ]
    }
   ],
   "source": [
    "# Storage for ground state energy estimates at each Krylov dimension\n",
    "estimated_ground_state_energies = []\n",
    "\n",
    "print(\"Performing classical diagonalization for each Krylov subspace...\")\n",
    "\n",
    "# Process each accumulated subspace (k=1,2,3,... since k=0 is just the reference state)\n",
    "for subspace_index, measurement_data in enumerate(accumulated_measurement_data):\n",
    "\n",
    "    # Extract unique computational basis states from measurement data\n",
    "    computational_basis_states = extract_basis_states_from_measurements(\n",
    "        measurement_data)\n",
    "    subspace_dimension = computational_basis_states.shape[0]\n",
    "\n",
    "    # Skip k=0 case (just reference state, no interesting physics)\n",
    "    if subspace_index > 0:\n",
    "\n",
    "        print(f\"   • Krylov dimension {subspace_index + 1}\")\n",
    "\n",
    "        # Project Hamiltonian onto this subspace and find lowest eigenvalues\n",
    "        eigenvalues = diagonalize_subspace_hamiltonian(\n",
    "            computational_basis_states,\n",
    "            pauli_operator_strings,\n",
    "            hamiltonian_coefficients_numpy,\n",
    "            verbose=False,\n",
    "            **eigenvalue_solver_options)\n",
    "\n",
    "        # Extract ground state energy estimate (lowest eigenvalue)\n",
    "        ground_state_energy = np.min(eigenvalues)\n",
    "        estimated_ground_state_energies.append(ground_state_energy)\n",
    "\n",
    "estimated_ground_state_energies = [\n",
    "    energy.get() if hasattr(energy, 'get') else energy\n",
    "    for energy in estimated_ground_state_energies\n",
    "]"
   ]
  },
  {
   "cell_type": "markdown",
   "id": "0ee7ab01",
   "metadata": {},
   "source": [
    "## Results Analysis and Convergence\n",
    "\n",
    "Let's visualize our results and analyze how SKQD converges to the true ground state energy. This is the moment of truth - does our quantum-classical hybrid algorithm work?\n",
    "\n",
    "### What to Expect:\n",
    "\n",
    "- **Monotonic improvement**: Each additional Krylov dimension should give a better (lower) energy estimate\n",
    "- **Convergence**: The estimates should approach the exact ground state energy  \n",
    "- **Diminishing returns**: Later Krylov dimensions provide smaller improvements\n",
    "\n",
    "The exact ground state energy for our selected Hamiltonian was computed earlier via classical exact diagonalization and will be used as the reference for comparison with SKQD results.\n"
   ]
  },
  {
   "cell_type": "code",
   "execution_count": 13,
   "id": "13037304",
   "metadata": {
    "execution": {
     "iopub.execute_input": "2025-09-08T14:33:02.214500Z",
     "iopub.status.busy": "2025-09-08T14:33:02.214329Z",
     "iopub.status.idle": "2025-09-08T14:33:02.317453Z",
     "shell.execute_reply": "2025-09-08T14:33:02.316959Z"
    }
   },
   "outputs": [
    {
     "data": {
      "image/png": "[encoded data removed]",
      "text/plain": [
       "<Figure size 600x500 with 1 Axes>"
      ]
     },
     "metadata": {},
     "output_type": "display_data"
    }
   ],
   "source": [
    "# Create visualization of SKQD convergence\n",
    "plt.figure(figsize=(6, 5))\n",
    "\n",
    "krylov_dims_used = range(2, krylov_subspace_dimension + 1)\n",
    "all_dims = range(1, krylov_subspace_dimension + 1)\n",
    "\n",
    "plt.plot(krylov_dims_used,\n",
    "         estimated_ground_state_energies,\n",
    "         'o-',\n",
    "         linewidth=2,\n",
    "         markersize=8,\n",
    "         label='SKQD')\n",
    "\n",
    "plt.plot(all_dims, [exact_ground_state_energy] * krylov_subspace_dimension,\n",
    "         'g',\n",
    "         linewidth=2,\n",
    "         label='Exact ground state')\n",
    "\n",
    "plt.xticks(all_dims)\n",
    "plt.xlabel(\"Krylov Subspace Dimension\", fontsize=12)\n",
    "plt.ylabel(\"Ground State Energy\", fontsize=12)\n",
    "plt.title(\"Ground State Energy vs Krylov Dimension\", fontsize=14, pad=20)\n",
    "plt.legend(fontsize=11)\n",
    "plt.grid(True, alpha=0.3)\n",
    "\n",
    "# Add convergence analysis text\n",
    "final_error = abs(estimated_ground_state_energies[-1] -\n",
    "                  exact_ground_state_energy)\n",
    "plt.text(\n",
    "    0.02,\n",
    "    0.98,\n",
    "    f'Final error: {final_error:.6f}\\nExact energy: {exact_ground_state_energy:.6f}',\n",
    "    transform=plt.gca().transAxes,\n",
    "    verticalalignment='top',\n",
    "    bbox=dict(boxstyle='round', facecolor='wheat', alpha=0.8))\n",
    "\n",
    "plt.tight_layout()\n",
    "\n",
    "plt.show()"
   ]
  },
  {
   "cell_type": "code",
   "execution_count": null,
   "id": "2aa03975",
   "metadata": {},
   "outputs": [],
   "source": []
  }
 ],
 "metadata": {
  "kernelspec": {
   "display_name": "Python 3",
   "language": "python",
   "name": "python3"
  },
  "language_info": {
   "codemirror_mode": {
    "name": "ipython",
    "version": 3
   },
   "file_extension": ".py",
   "mimetype": "text/x-python",
   "name": "python",
   "nbconvert_exporter": "python",
   "pygments_lexer": "ipython3",
   "version": "3.10.12"
  }
 },
 "nbformat": 4,
 "nbformat_minor": 5
}
