{
 "cells": [
  {
   "attachments": {},
   "cell_type": "markdown",
   "metadata": {},
   "source": [
    "# Multiple Qubits\n",
    "\n",
    "If we have 2 classical bits, the possible states we could encode information in would be 00, 01, 10 and 11. Correspondingly, multiple qubits can be combined and the possible combinations of their states used to process information. \n",
    "\n",
    "A two qubit system has 4 computational basis states: $\\ket{00}, \\ket{01}, \\ket{10}, \\ket{11}$. \n",
    "\n",
    "Classically, we cannot encode information within states such as 00 + 11 but quantum mechanics allows us to write linear superpositions \n",
    "\n",
    "$$  \\ket{\\psi} = \\alpha_{00}\\ket{00} + \\alpha_{01}\\ket{01} + \\alpha_{10}\\ket{10} + \\alpha_{11}\\ket{11}$$ \n",
    "\n",
    "where the probability of measuring $x = 00, 01, 10, 11$ occurs with probability $\\lvert \\alpha_{x} \\rvert ^2$ with the normalization condition that $\\sum_{x \\in \\{ 0,1 \\}^2} \\lvert  \\alpha_{x} \\rvert ^2  = 1$\n",
    "\n",
    "More generally, the quantum state of a $n$ qubit system is written as a sum of $2^n$ possible basis states where the coefficients track the probability of the system collapsing into that state if a measurement is applied. \n",
    "\n",
    "For $n = 500$, $2^n \\approx 10^{150}$ which is greater than the number of atoms in the universe. Storing the complex numbers associated with $2^{500}$ amplitudes would not be feasible using bits and classical computations but nature seems to only require 500 qubits to do so. The art of quantum computation is thus to build quantum systems that we can manipulate with fine precision such that evolving a large statevector can be offloaded onto a quantum computer.\n",
    "\n"
   ]
  },
  {
   "attachments": {},
   "cell_type": "markdown",
   "metadata": {},
   "source": [
    "## Some notation conventions\n",
    "\n",
    "Qubit counting starts from 0 and the 0<sup>th</sup> qubit is represented on the left most side in Dirac notation. For e.g. in $\\ket{01}$ the 0<sup>th</sup> qubit is in state $\\ket{0}$ and the first in state $\\ket{1}$. \n",
    "\n",
    "\n",
    "\n",
    "For brevity, we denote gate application with subscripts to reference the qubit it acts on. For e.g. $X_{0}\\ket{00} = \\ket{10}$ refers to $X_{0}$ acting on the 0<sup>th</sup> qubit flipping it to the state 1 as shown. Below we see how this is done in CUDA-Q."
   ]
  },
  {
   "cell_type": "code",
   "execution_count": 1,
   "metadata": {},
   "outputs": [
    {
     "name": "stdout",
     "output_type": "stream",
     "text": [
      "     ╭───╮\n",
      "q0 : ┤ x ├\n",
      "     ╰───╯\n",
      "\n",
      "{ 10:1000 }\n",
      "\n"
     ]
    }
   ],
   "source": [
    "import cudaq\n",
    "\n",
    "\n",
    "@cudaq.kernel\n",
    "def kernel():\n",
    "    # 2 qubits both initialised to the ground/ zero state.\n",
    "    qvector = cudaq.qvector(2)\n",
    "\n",
    "    # Application of a flip gate to see ordering notation.\n",
    "    x(qvector[0])\n",
    "\n",
    "    mz(qvector[0])\n",
    "    mz(qvector[1])\n",
    "\n",
    "\n",
    "print(cudaq.draw(kernel))\n",
    "\n",
    "result = cudaq.sample(kernel)\n",
    "print(result)"
   ]
  },
  {
   "attachments": {},
   "cell_type": "markdown",
   "metadata": {},
   "source": [
    "## Controlled-NOT gate\n",
    "\n",
    "Analogous to classical computing, we now introduce multi-qubit gates to quantum computing. \n",
    "\n",
    "The controlled-NOT or CNOT gate acts on 2 qubits: the control qubit and the target qubit. Its effect is to flip the target if the control is in the excited $\\ket{1}$ state.\n",
    "\n",
    "We use the notation CNOT<sub>01</sub>$\\ket{10} = \\ket{11}$ to describe its effects. The subscripts denote that the 0<sup>th</sup> qubit is the control qubit and the 1<sup>st</sup> qubit is the target qubit. "
   ]
  },
  {
   "cell_type": "code",
   "execution_count": 2,
   "metadata": {},
   "outputs": [
    {
     "name": "stdout",
     "output_type": "stream",
     "text": [
      "{ 11:1000 }\n",
      "\n"
     ]
    }
   ],
   "source": [
    "@cudaq.kernel\n",
    "def kernel():\n",
    "    # 2 qubits both initialised to the ground/ zero state.\n",
    "    qvector = cudaq.qvector(2)\n",
    "\n",
    "    x(qvector[0])\n",
    "\n",
    "    # Controlled-not gate operation.\n",
    "    x.ctrl(qvector[0], qvector[1])\n",
    "\n",
    "    mz(qvector[0])\n",
    "    mz(qvector[1])\n",
    "\n",
    "\n",
    "result = cudaq.sample(kernel)\n",
    "print(result)"
   ]
  },
  {
   "attachments": {},
   "cell_type": "markdown",
   "metadata": {},
   "source": [
    "In summary, the CNOT gate in matrix notation is represented as: \n",
    "\n",
    "\n",
    "\n",
    "$$ CNOT \\equiv \\begin{bmatrix} 1 & 0 & 0 & 0 \\\\ 0 & 1 & 0 & 0 \\\\ 0 & 0 & 0 & 1 \\\\ 0 & 0 & 1 & 0 \\end{bmatrix} $$\n",
    "\n",
    "To conserve probabilites and preserve the normalization condition, quantum gates must obey unitarity and one can check that $CNOT^\\dagger CNOT = \\mathbb{I}$\n",
    "\n",
    "and its effect on the computational basis states is: \n",
    "\n",
    "$$ CNOT_{01}\\ket{00} = \\ket{00} $$\n",
    "$$ CNOT_{01}\\ket{01} = \\ket{01} $$\n",
    "$$ CNOT_{01}\\ket{10} = \\ket{11} $$\n",
    "$$ CNOT_{01}\\ket{11} = \\ket{10} $$\n",
    "\n"
   ]
  }
 ],
 "metadata": {
  "kernelspec": {
   "display_name": "Python 3",
   "language": "python",
   "name": "python3"
  },
  "language_info": {
   "codemirror_mode": {
    "name": "ipython",
    "version": 3
   },
   "file_extension": ".py",
   "mimetype": "text/x-python",
   "name": "python",
   "nbconvert_exporter": "python",
   "pygments_lexer": "ipython3",
   "version": "3.10.12"
  },
  "orig_nbformat": 4,
  "vscode": {
   "interpreter": {
    "hash": "916dbcbb3f70747c44a77c7bcd40155683ae19c65e1c03b4aa3499c5328201f1"
   }
  }
 },
 "nbformat": 4,
 "nbformat_minor": 2
}
