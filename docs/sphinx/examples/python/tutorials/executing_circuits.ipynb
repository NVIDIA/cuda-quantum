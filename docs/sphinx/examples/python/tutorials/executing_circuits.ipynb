{
 "cells": [
  {
   "attachments": {},
   "cell_type": "markdown",
   "metadata": {},
   "source": [
    "# Executing Quantum Circuits \n",
    "\n",
    "One can excute CUDA Quantum kernels via the `sample` and `observe` function calls. \n",
    "\n",
    "Quantum states collapse upon measurement and hence need to be sampled from many times to gather statistics. The CUDA Quantum `sample` call enables this: \n",
    "\n",
    "## Sample"
   ]
  },
  {
   "cell_type": "code",
   "execution_count": null,
   "metadata": {},
   "outputs": [],
   "source": [
    "import cudaq\n",
    "\n",
    "qubit_count = 2\n",
    "\n",
    "# Define the simulation target.\n",
    "cudaq.set_target(\"qpp-cpu\")\n",
    "\n",
    "# Define a quantum kernel function.\n",
    "kernel = cudaq.make_kernel()\n",
    "\n",
    "# Allocate our `qubit_count` to the kernel.\n",
    "qubits = kernel.qalloc(qubit_count)\n",
    "\n",
    "# 2-qubit GHZ state.\n",
    "kernel.h(qubits[0])\n",
    "for i in range(1, qubit_count):\n",
    "    kernel.cx(qubits[0], qubits[i])\n",
    "\n",
    "# If we dont specify measurements, all qubits are measured in\n",
    "# the Z-basis by default.\n",
    "kernel.mz(qubits)\n",
    "\n",
    "result = cudaq.sample(kernel, shots_count=1000)\n",
    "\n",
    "result.dump()"
   ]
  },
  {
   "attachments": {},
   "cell_type": "markdown",
   "metadata": {},
   "source": [
    "In simulation mode, the quantum state is built once and then sampled from $s$ times where $s$ equals the `shots_count` . In hardware execution mode, the quantum state collapses upon measurement and hence needs to be rebuilt over and over again. \n",
    "\n",
    "\n"
   ]
  },
  {
   "attachments": {},
   "cell_type": "markdown",
   "metadata": {},
   "source": [
    "\n",
    "### Sample Async\n",
    "\n",
    "Asynchronous programming is a technique that enables your program to start a potentially long-running task and still be able to be responsive to other events while that task runs, rather than having to wait until that task has finished. Once that task has finished, your program is presented with the result. \n",
    "\n",
    "`sample` can be a time intensive task. We can parallelize the execution of `sample` via the arguments it accepts. "
   ]
  },
  {
   "cell_type": "code",
   "execution_count": null,
   "metadata": {},
   "outputs": [],
   "source": [
    "# Parallelize over the various kernels one would like to execute.\n",
    "\n",
    "import cudaq\n",
    "\n",
    "cudaq.set_target(\"nvidia-mqpu\")\n",
    "target = cudaq.get_target()\n",
    "num_qpus = target.num_qpus()\n",
    "\n",
    "qubit_count = 2\n",
    "\n",
    "# Kernel 1\n",
    "\n",
    "kernel1 = cudaq.make_kernel()\n",
    "qubits = kernel1.qalloc(qubit_count)\n",
    "# 2-qubit GHZ state.\n",
    "kernel1.h(qubits[0])\n",
    "for i in range(1, qubit_count):\n",
    "    kernel1.cx(qubits[0], qubits[i])\n",
    "kernel1.mz(qubits)\n",
    "\n",
    "# Kernel 2\n",
    "\n",
    "kernel2 = cudaq.make_kernel()\n",
    "qubits = kernel2.qalloc(qubit_count)\n",
    "# 2-qubit GHZ state.\n",
    "kernel2.h(qubits[0])\n",
    "for i in range(1, qubit_count):\n",
    "    kernel2.cx(qubits[0], qubits[i])\n",
    "kernel2.mz(qubits)\n",
    "\n",
    "# Asynchronous execution on multiple qpus via nvidia gpus.\n",
    "\n",
    "result1 = cudaq.sample_async(kernel1, shots_count=1000, qpu_id=0)\n",
    "result2 = cudaq.sample_async(kernel2, shots_count=1000, qpu_id=1)\n",
    "\n",
    "result1.get().dump()\n",
    "result2.get().dump()"
   ]
  },
  {
   "attachments": {},
   "cell_type": "markdown",
   "metadata": {},
   "source": [
    "Similar to the above, one can also parallelize over the `shots_count` or the variational parameters of a quantum circuit."
   ]
  },
  {
   "attachments": {},
   "cell_type": "markdown",
   "metadata": {},
   "source": [
    "\n",
    "## Observe\n",
    "\n",
    "`observe` allows us to gather qubit statistics and calculate expectation values. We must supply a spin operator in the form of a hamiltonian from which we would like to calculate $\\bra{\\psi}H\\ket{\\psi}$."
   ]
  },
  {
   "cell_type": "code",
   "execution_count": null,
   "metadata": {},
   "outputs": [],
   "source": [
    "import cudaq\n",
    "from cudaq import spin\n",
    "\n",
    "qubit_count = 2\n",
    "\n",
    "# Define the simulation target.\n",
    "cudaq.set_target(\"qpp-cpu\")\n",
    "\n",
    "# Define a quantum kernel function.\n",
    "kernel = cudaq.make_kernel()\n",
    "\n",
    "# Allocate our `qubit_count` to the kernel.\n",
    "qubits = kernel.qalloc(qubit_count)\n",
    "\n",
    "# 2-qubit GHZ state.\n",
    "kernel.h(qubits[0])\n",
    "\n",
    "for i in range(1, qubit_count):\n",
    "    kernel.cx(qubits[0], qubits[i])\n",
    "\n",
    "# Define a Hamiltonian in terms of Pauli Spin operators.\n",
    "hamiltonian = spin.z(0) + spin.y(1) + spin.x(0) * spin.z(0)\n",
    "\n",
    "# Compute the expectation value given the state prepared by the kernel.\n",
    "result = cudaq.observe(kernel, hamiltonian).expectation()\n",
    "\n",
    "print('<H> =', result)"
   ]
  },
  {
   "attachments": {},
   "cell_type": "markdown",
   "metadata": {},
   "source": [
    "### Observe Async\n",
    "\n",
    "Similar to `sample_async` above, `observe` also supports asynchronous execution for the [arguments it accepts](https://nvidia.github.io/cuda-quantum/latest/api/languages/python_api.html#cudaq.sample_async:~:text=cudaq.observe_async(),%C2%B6). One can parallelize over various kernels, spin operators, variational parameters or even noise models."
   ]
  }
 ],
 "metadata": {
  "kernelspec": {
   "display_name": "Python 3",
   "language": "python",
   "name": "python3"
  },
  "language_info": {
   "codemirror_mode": {
    "name": "ipython",
    "version": 3
   },
   "file_extension": ".py",
   "mimetype": "text/x-python",
   "name": "python",
   "nbconvert_exporter": "python",
   "pygments_lexer": "ipython3",
   "version": "3.10.12 (main, Jun 11 2023, 05:26:28) [GCC 11.4.0]"
  },
  "orig_nbformat": 4,
  "vscode": {
   "interpreter": {
    "hash": "31f2aee4e71d21fbe5cf8b01ff0e069b9275f58929596ceb00d14d90e3e16cd6"
   }
  }
 },
 "nbformat": 4,
 "nbformat_minor": 2
}
