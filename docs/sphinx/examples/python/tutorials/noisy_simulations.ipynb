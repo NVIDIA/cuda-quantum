{
 "cells": [
  {
   "attachments": {},
   "cell_type": "markdown",
   "metadata": {},
   "source": [
    "## Noisy Simulation \n",
    "\n",
    "Quantum noise can be characterised into coherent and incoherent sources of errors that arise during a computation. Coherent noise is commonly due to systematic errors originating from device miscalibrations, for example, gates implementing a rotation $\\theta + \\epsilon$ instead of $\\theta$.\n",
    "\n",
    "Incoherent noise has its origins in quantum states being entangled with the environment due to decoherence. This leads to mixed states which are probability distributions over pure states and are described by employing the density matrix formalism. \n",
    "\n",
    "We can model incoherent noise via quantum channels which are linear, completely positive, and trave preserving maps. The mathematical language used is of Kraus operators, $\\{ K_i \\}$, which satisfy the condition $\\sum_{i} K_i^\\dagger K_i = \\mathbb{I}$. \n",
    "\n",
    "The bit-flip operation flips the qubit with probability $p$ and leaves it unchanged with probability $1-p$. This can be represented by employing Kraus operators: \n",
    "\n",
    "$$K_0 = \\sqrt{1-p} \\begin{pmatrix}\n",
    "    1 & 0 \\\\\n",
    "    0 & 1\n",
    "\\end{pmatrix}$$\n",
    "\n",
    "$$K_1 = \\sqrt{p} \\begin{pmatrix}\n",
    "  0 & 1 \\\\\n",
    "  1 & 0\n",
    "\\end{pmatrix}$$\n",
    "\n",
    "Lets implement the bit-flip channel using CUDA Quantum:"
   ]
  },
  {
   "cell_type": "code",
   "execution_count": 1,
   "metadata": {},
   "outputs": [],
   "source": [
    "import cudaq\n",
    "import numpy as np\n",
    "\n",
    "# To model quantum noise, we need to utilise the density matrix simulator target.\n",
    "cudaq.set_target(\"density-matrix-cpu\")"
   ]
  },
  {
   "cell_type": "code",
   "execution_count": 2,
   "metadata": {},
   "outputs": [],
   "source": [
    "# Let's define a simple kernel that we will add noise to.\n",
    "qubit_count = 2\n",
    "\n",
    "kernel = cudaq.make_kernel()\n",
    "qubits = kernel.qalloc(qubit_count)\n",
    "\n",
    "kernel.x(qubits[0])\n",
    "kernel.x(qubits[1])"
   ]
  },
  {
   "cell_type": "code",
   "execution_count": 3,
   "metadata": {},
   "outputs": [],
   "source": [
    "# In the ideal noiseless case, we get |11> 100% of the time.\n",
    "\n",
    "ideal_counts = cudaq.sample(kernel, shots_count=1000)\n",
    "ideal_counts.dump()"
   ]
  },
  {
   "cell_type": "code",
   "execution_count": 4,
   "metadata": {},
   "outputs": [
    {
     "name": "stdout",
     "output_type": "stream",
     "text": [
      "|11> : 831\n",
      "|10> : 107\n",
      "|01> :  56\n",
      "|00> :   6\n"
     ]
    }
   ],
   "source": [
    "# First, we will define an out of the box noise channel. In this case,\n",
    "# we choose depolarization noise. This depolarization will result in\n",
    "# the qubit state decaying into a mix of the basis states, |0> and |1>,\n",
    "# with our provided probability.\n",
    "error_probability = 0.1\n",
    "depolarization_channel = cudaq.DepolarizationChannel(error_probability)\n",
    "\n",
    "# We can also define our own, custom noise channels through\n",
    "# Kraus Operator's. Here we will define two operators repsenting\n",
    "# bit flip errors.\n",
    "\n",
    "# Define the Kraus Error Operator as a complex ndarray.\n",
    "I2      = np.eye(2,dtype=np.complex128)\n",
    "kraus_0 = np.sqrt(1 - error_probability) * I2\n",
    "kraus_1 = np.sqrt(error_probability) * I2[::-1]\n",
    "\n",
    "# Add the Kraus Operator to create a quantum channel.\n",
    "bitflip_channel = cudaq.KrausChannel([kraus_0, kraus_1])\n",
    "\n",
    "# Add the two channels to our Noise Model.\n",
    "noise_model = cudaq.NoiseModel()\n",
    "\n",
    "# Apply the depolarization channel to any X-gate on the 0th qubit.\n",
    "noise_model.add_channel(\"x\", [0], depolarization_channel)\n",
    "# Apply the bitflip channel to any X-gate on the 1st qubit.\n",
    "noise_model.add_channel(\"x\", [1], bitflip_channel)\n",
    "\n",
    "# Due to the impact of noise, our measurements will no longer be uniformly\n",
    "# in the |11> state.\n",
    "noisy_counts = cudaq.sample(kernel, noise_model=noise_model, shots_count=1000)\n",
    "#noisy_counts.dump()\n",
    "for state,value in noisy_counts.items(): print(f'|{state}> : {value:3d}') "
   ]
  },
  {
   "cell_type": "code",
   "execution_count": null,
   "metadata": {},
   "outputs": [],
   "source": []
  }
 ],
 "metadata": {
  "kernelspec": {
   "display_name": "CUDA-Quantum-0.4.1",
   "language": "python",
   "name": "cuda-quantum-0.4.1"
  },
  "language_info": {
   "codemirror_mode": {
    "name": "ipython",
    "version": 3
   },
   "file_extension": ".py",
   "mimetype": "text/x-python",
   "name": "python",
   "nbconvert_exporter": "python",
   "pygments_lexer": "ipython3",
   "version": "3.10.13"
  },
  "vscode": {
   "interpreter": {
    "hash": "31f2aee4e71d21fbe5cf8b01ff0e069b9275f58929596ceb00d14d90e3e16cd6"
   }
  }
 },
 "nbformat": 4,
 "nbformat_minor": 4
}
