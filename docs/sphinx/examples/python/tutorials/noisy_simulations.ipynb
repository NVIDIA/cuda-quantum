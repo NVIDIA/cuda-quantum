{
 "cells": [
  {
   "attachments": {},
   "cell_type": "markdown",
   "metadata": {},
   "source": [
    "## Noisy simulations \n",
    "\n",
    "Quantum noise can be characterised into coherent and incoherent sources of errors that arise during a computation. Coherent noise is commonly due to systematic errors originating from device miscalibrations, for example, gates implementing a rotation $\\theta + \\epsilon$ instead of $\\theta$.\n",
    "\n",
    "Incoherent noise has its origins in quantum states being entangled with the environment due to decoherence. This leads to mixed states which are probability distributions over pure states and are described by employing the density matrix formalism. \n",
    "\n",
    "We can model incoherent noise via quantum channels which are linear, completely positive, and trave preserving maps. The mathematical language used is of Kraus operators, $\\{ K_i \\}$, which satisfy the condition $\\sum_{i} K_i^\\dagger K_i = \\mathbb{I}$. \n",
    "\n",
    "The bit-flip operation flips the qubit with probability $p$ and leaves it unchanged with probability $1-p$. This can be represented by employing Kraus operators: \n",
    "\n",
    "\n",
    "$K_0 = \\sqrt{1-p} \\begin{pmatrix}\n",
    "  1 & 0 \\\\\n",
    "  0 & 1\n",
    "\\end{pmatrix} $\n",
    "\n",
    "\n",
    "$K_1 = \\sqrt{p} \\begin{pmatrix}\n",
    "  0 & 1 \\\\\n",
    "  1 & 0\n",
    "\\end{pmatrix} $\n",
    "\n",
    "Lets implement the bit-flip channel using CUDA Quantum:"
   ]
  },
  {
   "cell_type": "code",
   "execution_count": 1,
   "metadata": {},
   "outputs": [],
   "source": [
    "import cudaq\n",
    "import numpy as np\n",
    "\n",
    "# to model quantum noise, we need to utilise the density matrix simulator target\n",
    "cudaq.set_target(\"density-matrix-cpu\")"
   ]
  },
  {
   "cell_type": "code",
   "execution_count": 2,
   "metadata": {},
   "outputs": [],
   "source": [
    "# Let's define a circuit\n",
    "\n",
    "n_qubits = 2\n",
    "\n",
    "kernel = cudaq.make_kernel()\n",
    "\n",
    "qubits = kernel.qalloc(n_qubits)\n",
    "\n",
    "kernel.x(qubits[0])\n",
    "kernel.x(qubits[1])"
   ]
  },
  {
   "cell_type": "code",
   "execution_count": 3,
   "metadata": {},
   "outputs": [
    {
     "name": "stdout",
     "output_type": "stream",
     "text": [
      "{ 11:1000 }\n"
     ]
    }
   ],
   "source": [
    "# In the ideal noiseless case, we get 11 100% of the time as expected\n",
    "\n",
    "ideal_counts = cudaq.sample(kernel, shots_count=1000)\n",
    "ideal_counts.dump()"
   ]
  },
  {
   "cell_type": "code",
   "execution_count": 4,
   "metadata": {},
   "outputs": [
    {
     "name": "stdout",
     "output_type": "stream",
     "text": [
      "{ 11:847 10:91 01:57 00:5 }\n"
     ]
    }
   ],
   "source": [
    "# You can build your own Kraus channels\n",
    "\n",
    "p = 0.1  # probability of error\n",
    "\n",
    "k0 = np.sqrt(1 - p) * np.array([[1.0, 0.0], [0.0, 1.0]], dtype=np.complex128)\n",
    "k1 = np.sqrt(p) * np.array([[0.0, 1.0], [1.0, 0.0]], dtype=np.complex128)\n",
    "\n",
    "# add the kraus operator to create a quantum channel\n",
    "bitflip = cudaq.KrausChannel([k0, k1])\n",
    "\n",
    "# you can also use built in noise channels\n",
    "depol = cudaq.DepolarizationChannel(p)\n",
    "\n",
    "# add the noise channels to an overall noise model\n",
    "noise = cudaq.NoiseModel()\n",
    "\n",
    "noise.add_channel(\"x\", [0], depol)  # apply the depol channel on the x operation on the 0th qubit\n",
    "noise.add_channel(\"x\", [1], bitflip)  # apply the bitflip channel on the x operation on the 1st qubit\n",
    "\n",
    "# we see unwanted results due to the effects of the noise channels\n",
    "noisy_counts = cudaq.sample(kernel, noise_model=noise, shots_count=1000)\n",
    "noisy_counts.dump()"
   ]
  },
  {
   "cell_type": "code",
   "execution_count": null,
   "metadata": {},
   "outputs": [],
   "source": []
  }
 ],
 "metadata": {
  "kernelspec": {
   "display_name": "Python 3 (ipykernel)",
   "language": "python",
   "name": "python3"
  },
  "language_info": {
   "codemirror_mode": {
    "name": "ipython",
    "version": 3
   },
   "file_extension": ".py",
   "mimetype": "text/x-python",
   "name": "python",
   "nbconvert_exporter": "python",
   "pygments_lexer": "ipython3",
   "version": "3.10.6 (main, May 29 2023, 11:10:38) [GCC 11.3.0]"
  },
  "orig_nbformat": 4,
  "vscode": {
   "interpreter": {
    "hash": "31f2aee4e71d21fbe5cf8b01ff0e069b9275f58929596ceb00d14d90e3e16cd6"
   }
  }
 },
 "nbformat": 4,
 "nbformat_minor": 2
}
