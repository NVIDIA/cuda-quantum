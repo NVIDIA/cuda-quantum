{
 "cells": [
  {
   "cell_type": "markdown",
   "metadata": {},
   "source": [
    "# Hadamard Test\n",
    "\n",
    "Consider the observable $O$ and two generic quantum states $\\ket{\\psi}$ and $\\ket{\\phi}$. We want to calculate the quantity\n",
    "$$\n",
    "\\braket{\\psi | O | \\psi}.\n",
    "$$\n",
    "where $O$ is a Pauli operator.\n",
    "\n",
    "First of all we shall prepare the states $\\ket{\\psi}$ and $\\ket{\\phi}$ using a quantum circuit for each of them. So we  have\n",
    "$$\n",
    "\\ket{\\psi} = U_{\\psi}\\ket{0} \\qquad \\ket{\\phi} = U_{\\phi}\\ket{0}\n",
    "$$\n",
    "\n",
    "Let's define an observable we want to use:\n",
    "$$\n",
    "O = X_1X_2\n",
    "$$\n",
    "\n",
    "Now we can evaluate the matrix element using the following fact:\n",
    "$$\n",
    "\\bra{\\psi}O\\ket{\\phi} = \\bra{0}U_\\psi^\\dagger O U_\\phi\\ket{0}\n",
    "$$\n",
    "This is just an expectation value which can be solved with a simple Hadamard test. The probability to measure $0$ or $1$ in the ancilla qubit is\n",
    "\n",
    "$$\n",
    "P(0) = \\frac{1}{2} \\left[ I + \\operatorname{Re} \\bra{\\psi} O \\ket{\\phi} \\right]\n",
    "$$\n",
    "\n",
    "$$\n",
    "P(1) = \\frac{1}{2} \\left[ I - \\operatorname{Re} \\bra{\\psi} O \\ket{\\phi} \\right]\n",
    "$$\n",
    "\n",
    "The difference between the probability of $0$ and $1$ gives \n",
    "\n",
    "$$\n",
    "\\braket{X} = P(0)-P(1) = \\operatorname{Re} \\braket{\\psi | O | \n",
    "\\phi}.\n",
    "$$\n",
    "\n",
    "Similarly, the imaginary part can be obtained from Y measurement\n",
    "$$\n",
    "\\braket{Y} = \\operatorname{Im} \\braket{\\psi | O | \\phi}.\n",
    "$$\n",
    "\n",
    "Combining these results, the quantity $\\braket{\\psi | O | \\psi}$ is obtained."
   ]
  },
  {
   "cell_type": "markdown",
   "metadata": {},
   "source": [
    "### Numerical result as a reference: "
   ]
  },
  {
   "cell_type": "code",
   "execution_count": 1,
   "metadata": {},
   "outputs": [
    {
     "name": "stdout",
     "output_type": "stream",
     "text": [
      "Psi state:  [0.70710677+0.j 0.        +0.j 0.70710677+0.j 0.        +0.j]\n",
      "Phi state:  [0.+0.j 1.+0.j 0.+0.j 0.+0.j]\n",
      "hamiltonian:  [[0.+0.j 0.+0.j 0.+0.j 1.+0.j]\n",
      " [0.+0.j 0.+0.j 1.+0.j 0.+0.j]\n",
      " [0.+0.j 1.+0.j 0.+0.j 0.+0.j]\n",
      " [1.+0.j 0.+0.j 0.+0.j 0.+0.j]] \n",
      "\n",
      "Numerical expectation value:  (0.7071067690849304+0j)\n"
     ]
    }
   ],
   "source": [
    "from functools import reduce\n",
    "\n",
    "import numpy as np\n",
    "\n",
    "import cudaq\n",
    "\n",
    "cudaq.set_target(\"nvidia\")\n",
    "\n",
    "num_qubits = 2\n",
    "\n",
    "\n",
    "@cudaq.kernel\n",
    "def psi(num_qubits: int):\n",
    "    q = cudaq.qvector(num_qubits)\n",
    "    h(q[1])\n",
    "\n",
    "\n",
    "@cudaq.kernel\n",
    "def phi(num_qubits: int):\n",
    "    q = cudaq.qvector(num_qubits)\n",
    "    x(q[0])\n",
    "\n",
    "\n",
    "psi_state = cudaq.get_state(psi, num_qubits)\n",
    "print(\"Psi state: \", np.array(psi_state))\n",
    "\n",
    "phi_state = cudaq.get_state(phi, num_qubits)\n",
    "print(\"Phi state: \", np.array(phi_state))\n",
    "\n",
    "ham = cudaq.spin.x(0) * cudaq.spin.x(1)\n",
    "ham_matrix = ham.to_matrix()\n",
    "print(\"hamiltonian: \", np.array(ham_matrix), \"\\n\")\n",
    "\n",
    "num_exp_val = np.array(psi_state).conj() @ ham_matrix @ np.array(phi_state).T\n",
    "\n",
    "print(\"Numerical expectation value: \", num_exp_val)"
   ]
  },
  {
   "cell_type": "markdown",
   "metadata": {},
   "source": [
    "### Using ``observe`` algorithmic primitive to compute the expectation value for ancilla qubits."
   ]
  },
  {
   "cell_type": "code",
   "execution_count": 2,
   "metadata": {},
   "outputs": [
    {
     "name": "stdout",
     "output_type": "stream",
     "text": [
      "QC result: 0.70458+-0.00489999999999996i ± 0.0022440299097828444+0.0031622396967971927i\n",
      "Numerical result (0.7071067690849304+0j)\n"
     ]
    }
   ],
   "source": [
    "import cudaq\n",
    "\n",
    "cudaq.set_target(\"nvidia\")\n",
    "\n",
    "\n",
    "@cudaq.kernel\n",
    "def u_psi(q: cudaq.qview):\n",
    "    h(q[1])\n",
    "\n",
    "\n",
    "@cudaq.kernel\n",
    "def u_phi(q: cudaq.qview):\n",
    "    x(q[0])\n",
    "\n",
    "\n",
    "@cudaq.kernel\n",
    "def apply_pauli(q: cudaq.qview):\n",
    "    x(q[0])\n",
    "    x(q[1])\n",
    "\n",
    "\n",
    "@cudaq.kernel\n",
    "def kernel(num_qubits: int):\n",
    "    ancilla = cudaq.qubit()\n",
    "    q = cudaq.qvector(num_qubits)\n",
    "    h(ancilla)\n",
    "    cudaq.control(u_phi, ancilla, q)\n",
    "    cudaq.control(apply_pauli, ancilla, q)\n",
    "    cudaq.control(u_psi, ancilla, q)\n",
    "\n",
    "\n",
    "num_qubits = 2\n",
    "shots = 100000\n",
    "x_0 = cudaq.spin.x(0)\n",
    "y_0 = cudaq.spin.y(0)\n",
    "results = cudaq.observe(kernel, [x_0, y_0], num_qubits, shots_count=shots)\n",
    "exp_vals = np.array([result.expectation() for result in results])\n",
    "std_errors = np.sqrt((1 - exp_vals**2) / shots)\n",
    "\n",
    "print(f\"QC result: {exp_vals[0]}+{exp_vals[1]}i ± {std_errors[0]}+{std_errors[1]}i\")\n",
    "print(\"Numerical result\", num_exp_val)"
   ]
  }
 ],
 "metadata": {
  "kernelspec": {
   "display_name": "Python 3 (ipykernel)",
   "language": "python",
   "name": "python3"
  },
  "language_info": {
   "codemirror_mode": {
    "name": "ipython",
    "version": 3
   },
   "file_extension": ".py",
   "mimetype": "text/x-python",
   "name": "python",
   "nbconvert_exporter": "python",
   "pygments_lexer": "ipython3",
   "version": "3.10.12"
  }
 },
 "nbformat": 4,
 "nbformat_minor": 4
}
