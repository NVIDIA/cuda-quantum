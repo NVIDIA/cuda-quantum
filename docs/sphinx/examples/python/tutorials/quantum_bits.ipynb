{
 "cells": [
  {
   "attachments": {},
   "cell_type": "markdown",
   "metadata": {},
   "source": [
    "# Quantum Bits\n",
    "\n",
    "## Qubit\n",
    "\n",
    "The fundamental unit of classical information storage, processing and transmission is the bit. Analogously, we define its quantum counterpart, a quantum bit or simply the qubit. Below we define a qubit in CUDA-Q. "
   ]
  },
  {
   "cell_type": "code",
   "execution_count": 1,
   "metadata": {},
   "outputs": [],
   "source": [
    "import cudaq\n",
    "\n",
    "# Build a cudaq kernel.\n",
    "\n",
    "\n",
    "@cudaq.kernel\n",
    "def kernel():\n",
    "    # Allocate a single qubit to the kernel.\n",
    "    qubit = cudaq.qubit()"
   ]
  },
  {
   "attachments": {},
   "cell_type": "markdown",
   "metadata": {},
   "source": [
    "Classcial bits are transistor elements whose states can be altered to perform computations. Similarly qubits too have physical relizations within superconducting materials, ion-traps and photonic systems. We shall not concern ourselves with specific qubit architectures but rather think of them as systems which obey the laws of quantum mechanics and the mathematical language physicists have developed to describe the theory: linear algebra.\n",
    "\n",
    "Information storage scales linearly if bits have a single state. Access to multiple states, namely a 0 and a 1 allows for information encoding to scale logarithmically. Similarly we define a qubit to have the states $\\ket{0}$ and $\\ket{1}$ in Dirac notation where: \n",
    "\n",
    "$$\\ket{0} = \\begin{bmatrix} 1 \\\\ 0 \\\\ \\end{bmatrix}$$\n",
    "$$\\ket{1} = \\begin{bmatrix} 0 \\\\ 1 \\\\ \\end{bmatrix}$$ \n",
    "\n",
    "## Pauli X gate\n",
    "\n",
    "We can manipulate the state of the qubit via quantum gates. The pauli X gate allows us to flip the state of the qubit: \n",
    "\n",
    "$$ X \\ket{0} = \\ket{1} $$ \n",
    "\n",
    "$$ \\begin{bmatrix} 0 & 1 \\\\ 1 & 0 \\end{bmatrix} \\begin{bmatrix} 1 \\\\ 0 \\\\ \\end{bmatrix} = \\begin{bmatrix} 0 \\\\ 1 \\\\ \\end{bmatrix} $$"
   ]
  },
  {
   "cell_type": "code",
   "execution_count": 2,
   "metadata": {},
   "outputs": [
    {
     "name": "stdout",
     "output_type": "stream",
     "text": [
      "{ 1:1000 }\n",
      "\n"
     ]
    }
   ],
   "source": [
    "@cudaq.kernel\n",
    "def kernel():\n",
    "    # A single qubit initialised to the ground/ zero state.\n",
    "    qubit = cudaq.qubit()\n",
    "\n",
    "    # Apply the pauli x gate to the qubit.\n",
    "    x(qubit)\n",
    "\n",
    "    # Measurement operator.\n",
    "    mz(qubit)\n",
    "\n",
    "\n",
    "# Sample the qubit for 1000 shots to gather statsitics.\n",
    "result = cudaq.sample(kernel, shots_count=1000)\n",
    "\n",
    "print(result)"
   ]
  },
  {
   "attachments": {},
   "cell_type": "markdown",
   "metadata": {},
   "source": [
    "## Superpositions & Measurements\n",
    "\n",
    "We have explored the 2 states accessible to us via a qubit. In fact, quantum theory allows one to explore linear combinations of states namely superpositions: \n",
    "\n",
    "$$  \\ket{\\psi} = \\alpha\\ket{0} + \\beta\\ket{1} $$ \n",
    "\n",
    "where $\\alpha$ and $\\beta$ $\\in \\mathbb{C}$. It is important to note that this is still the state of one qubit even though $\\ket{\\psi}$ has 2 kets. \n",
    "\n",
    "Quantum theory is probabilistic and hence requires statistical inference to derive observations. Prior to measurement, the state of a qubit is all possible combinations of $\\alpha$ and $\\beta$ and upon measurement, wavefunction collapse yields either a classical 0 or 1. \n",
    "\n",
    "The mathematical theory devised to explain quantum phenomena tells us that the probability of observing the qubit in the state $\\ket{0}$/ $\\ket{1}$ yielding a classical 0/ 1 is $\\lvert \\alpha \\rvert ^2$ / $\\lvert \\beta \\rvert ^2$. The theory has been verified experimentally countless times and we shall verify it once more below. \n",
    "\n",
    "The hadamard gate allows us to put the qubit in an equal superposition state:\n",
    "\n",
    "$$ H \\ket{0} =  \\tfrac{1}{\\sqrt{2}} \\ket{0} + \\tfrac{1}{\\sqrt{2}} \\ket{1}  \\equiv \\ket{+}$$\n",
    "\n",
    "$$\\tfrac{1}{\\sqrt{2}}\\begin{bmatrix} 1 & 1 \\\\ 1 & -1 \\end{bmatrix} \\begin{bmatrix} 1 \\\\ 0 \\\\ \\end{bmatrix} = \\tfrac{1}{\\sqrt{2}} \\begin{bmatrix} 1 \\\\ 0 \\\\ \\end{bmatrix} + \\tfrac{1}{\\sqrt{2}} \\begin{bmatrix} 0 \\\\ 1 \\\\ \\end{bmatrix}. $$\n",
    "\n",
    "The probability of finding the qubit in the 0 / 1 state is hence $\\lvert \\tfrac{1}{\\sqrt{2}} \\rvert ^2 = \\tfrac{1}{2}$. Lets verify this with some code: "
   ]
  },
  {
   "cell_type": "code",
   "execution_count": 3,
   "metadata": {},
   "outputs": [
    {
     "name": "stdout",
     "output_type": "stream",
     "text": [
      "{ 0:502 1:498 }\n",
      "\n"
     ]
    }
   ],
   "source": [
    "@cudaq.kernel\n",
    "def kernel():\n",
    "    # A single qubit initialised to the ground/ zero state.\n",
    "    qubit = cudaq.qubit()\n",
    "\n",
    "    # Apply hadamard gate to single qubit to put it in equal superposition.\n",
    "    h(qubit)\n",
    "\n",
    "    # Measurement operator.\n",
    "    mz(qubit)\n",
    "\n",
    "\n",
    "result = cudaq.sample(kernel, shots_count=1000)\n",
    "\n",
    "print(result)"
   ]
  },
  {
   "attachments": {},
   "cell_type": "markdown",
   "metadata": {},
   "source": [
    "Quantum theory is statistical and statistical accuracy increases with sampling. Above we see how with a 1000 shots, the result 0 / 1 is yielded roughly 50% of the times as predicted by the postulate stated above thus proving the theory. \n",
    "\n",
    "For completeness: \n",
    "\n",
    "$$ H \\ket{1} =  \\tfrac{1}{\\sqrt{2}} \\ket{0} - \\tfrac{1}{\\sqrt{2}} \\ket{1}  \\equiv \\ket{-}$$\n"
   ]
  },
  {
   "attachments": {},
   "cell_type": "markdown",
   "metadata": {},
   "source": [
    "## Qubit visualizations\n",
    "\n",
    "\n",
    "What are the possible states our qubit can be in and how can we build up a visual cue to help us make sense of quantum states and their evolution?\n",
    "\n",
    "We know our qubit can have 2 distinct states: $\\ket{0}$ and $\\ket{1}$. Maybe we need a 1 dimensional line whose verticies can represent each of the aforementioned states. \n",
    "\n",
    "We also know that qubits' can be in an equal superposition states: $\\ket{+}$ and $\\ket{-}$. This now forces us to extend our 1-D line to a 2-D cartesian coordinate system. \n",
    "\n",
    "Later, we will learn the existence of states that can be represented with $\\ket{+i}$ and $\\ket{-i}$, this calls for a 3-D extension. \n",
    "\n",
    "It turns out that a sphere is able to depict all the possible states of a single qubit as shown in figure below: \n",
    "\n",
    "<img src=\"images/Bloch_sphere.png\" alt=\"Bloch Sphere\" width=\"300\" height=\"300\">\n",
    "\n"
   ]
  },
  {
   "attachments": {},
   "cell_type": "markdown",
   "metadata": {},
   "source": [
    "## Gate linearity\n",
    "\n",
    "Lets manipulate a single qubit: \n",
    "\n",
    "\n",
    "1. $$  X  \\ket{0} = \\ket{1}  $$\n",
    "\n",
    "2. $$  X  \\ket{1} = \\ket{0}  $$\n",
    "\n",
    "And more generally, for a qubit in a superposition state, quantum gates act linearly:\n",
    "\n",
    " $$   X (\\alpha\\ket{0} + \\beta\\ket{1}) = \\alpha\\ket{1} + \\beta\\ket{0} $$ \n",
    "\n",
    "It is important to note that states such as $\\alpha\\ket{0} + \\beta\\ket{1}$ reference a single qubit in a superposition state. Although we have two kets, they both represent a superposition state of one qubit. We shall explore multiple qubits and their notation in the next chapter. \n",
    "\n"
   ]
  },
  {
   "attachments": {},
   "cell_type": "markdown",
   "metadata": {},
   "source": [
    "## Gate unitarity \n",
    "\n",
    "As we evolve quantum states via quantum gates, the normalization condition requires that the sum of modulus squared of amplitudes must equal 1 at all times: \n",
    "\n",
    "$$  \\ket{\\psi} = \\alpha\\ket{0} + \\beta\\ket{1},          |\\alpha|^2 + |\\beta|^2 = 1. $$\n",
    "\n",
    "\n",
    "\n",
    "This is to adhere to the conservation of probabilities which translates to a constraint on types of quantum gates we can define. \n",
    "\n",
    "For a general quantum state $\\ket{\\psi}$, upholding the normalisation condition requires quantum gates to be unitary, that is $U^{\\dagger}U = U^{*^{T}}U = \\mathbb{I}$.\n",
    "\n"
   ]
  },
  {
   "attachments": {},
   "cell_type": "markdown",
   "metadata": {},
   "source": [
    "## Single qubit gates\n",
    "\n",
    "Below we summarise a few single qubit gates and their effects on quantum states:\n",
    "\n",
    "\n",
    "$$ X \\equiv \\begin{bmatrix} 0 & 1 \\\\ 1 & 0 \\end{bmatrix}, \\hspace{1cm} X(\\alpha\\ket{0} + \\beta\\ket{1}) = \\alpha\\ket{1} + \\beta\\ket{0} \\hspace{1cm}  $$\n",
    "\n",
    "$$ Z \\equiv \\begin{bmatrix} 1 & 0 \\\\ 0 & -1 \\end{bmatrix}, \\hspace{1cm} Z(\\alpha\\ket{0} + \\beta\\ket{1}) = \\alpha\\ket{0} - \\beta\\ket{1}  $$\n",
    "\n",
    "$$ H \\equiv \\tfrac{1}{\\sqrt{2}}\\begin{bmatrix} 1 & 1 \\\\ 1 & -1 \\end{bmatrix}, \\hspace{1cm} H(\\alpha\\ket{0} + \\beta\\ket{1}) = \\alpha\\tfrac{\\ket{0}+\\ket{1}}{\\sqrt{2}} + \\beta\\tfrac{\\ket{0}-\\ket{1}}{\\sqrt{2}}  $$\n",
    "\n",
    "\n",
    "\n"
   ]
  }
 ],
 "metadata": {
  "kernelspec": {
   "display_name": "Python 3 (ipykernel)",
   "language": "python",
   "name": "python3"
  },
  "language_info": {
   "codemirror_mode": {
    "name": "ipython",
    "version": 3
   },
   "file_extension": ".py",
   "mimetype": "text/x-python",
   "name": "python",
   "nbconvert_exporter": "python",
   "pygments_lexer": "ipython3",
   "version": "3.10.12 (main, Nov 20 2023, 15:14:05) [GCC 11.4.0]"
  },
  "orig_nbformat": 4,
  "vscode": {
   "interpreter": {
    "hash": "31f2aee4e71d21fbe5cf8b01ff0e069b9275f58929596ceb00d14d90e3e16cd6"
   }
  }
 },
 "nbformat": 4,
 "nbformat_minor": 2
}
