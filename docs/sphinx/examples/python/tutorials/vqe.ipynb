{
 "cells": [
  {
   "attachments": {},
   "cell_type": "markdown",
   "metadata": {},
   "source": [
    "# Variational quantum eigensolver\n",
    "\n"
   ]
  },
  {
   "cell_type": "code",
   "execution_count": 1,
   "metadata": {},
   "outputs": [],
   "source": [
    "# !pip install openfermionpyscf"
   ]
  },
  {
   "cell_type": "code",
   "execution_count": 2,
   "metadata": {},
   "outputs": [
    {
     "name": "stderr",
     "output_type": "stream",
     "text": [
      "/home/cudaq/.local/lib/python3.10/site-packages/pyscf/dft/libxc.py:772: UserWarning: Since PySCF-2.3, B3LYP (and B3P86) are changed to the VWN-RPA variant, the same to the B3LYP functional in Gaussian and ORCA (issue 1480). To restore the VWN5 definition, you can put the setting \"B3LYP_WITH_VWN5 = True\" in pyscf_conf.py\n",
      "  warnings.warn('Since PySCF-2.3, B3LYP (and B3P86) are changed to the VWN-RPA variant, '\n"
     ]
    },
    {
     "name": "stdout",
     "output_type": "stream",
     "text": [
      "-1.1371757091227395\n"
     ]
    }
   ],
   "source": [
    "import cudaq\n",
    "\n",
    "geometry = [('H', (0.,0.,0.)), ('H', (0.,0.,.7474))]\n",
    "\n",
    "molecule, data = cudaq.chemistry.create_molecular_hamiltonian(geometry, 'sto-3g', 1, 0)\n",
    "\n",
    "numElectrons = data.n_electrons\n",
    "numQubits = 2 * data.n_orbitals\n",
    "\n",
    "kernel, thetas = cudaq.make_kernel(list)\n",
    "qubits = kernel.qalloc(4)\n",
    "\n",
    "#prepare the hartree fock state \n",
    "kernel.x(qubits[0])  \n",
    "kernel.x(qubits[1])\n",
    "\n",
    "#adds parameterized gates based on the UCCSD ansatz\n",
    "cudaq.kernels.uccsd(kernel, qubits, thetas, numElectrons, numQubits)  \n",
    "\n",
    "num_parameters = cudaq.kernels.uccsd_num_parameters(numElectrons, numQubits)\n",
    "\n",
    "optimizer = cudaq.optimizers.COBYLA()\n",
    "\n",
    "energy, params = cudaq.vqe(kernel, molecule, optimizer, parameter_count=num_parameters)\n",
    "\n",
    "print(energy)"
   ]
  },
  {
   "attachments": {},
   "cell_type": "markdown",
   "metadata": {},
   "source": [
    "We see that the energy has converged to the ground state minimum as expected for $H_{2}$."
   ]
  }
 ],
 "metadata": {
  "kernelspec": {
   "display_name": "Python 3",
   "language": "python",
   "name": "python3"
  },
  "language_info": {
   "codemirror_mode": {
    "name": "ipython",
    "version": 3
   },
   "file_extension": ".py",
   "mimetype": "text/x-python",
   "name": "python",
   "nbconvert_exporter": "python",
   "pygments_lexer": "ipython3",
   "version": "3.10.12"
  },
  "orig_nbformat": 4,
  "vscode": {
   "interpreter": {
    "hash": "31f2aee4e71d21fbe5cf8b01ff0e069b9275f58929596ceb00d14d90e3e16cd6"
   }
  }
 },
 "nbformat": 4,
 "nbformat_minor": 2
}
