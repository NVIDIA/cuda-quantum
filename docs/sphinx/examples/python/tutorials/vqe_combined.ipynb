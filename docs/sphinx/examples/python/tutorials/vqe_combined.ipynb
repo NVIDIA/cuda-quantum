{
 "cells": [
  {
   "cell_type": "markdown",
   "metadata": {},
   "source": [
    "# The Variational Quantum Eigensolver Featuring: Gradients, Active Spaces, and Gate Fusion\n",
    "\n"
   ]
  },
  {
   "cell_type": "markdown",
   "metadata": {},
   "source": [
    "This tutorial will explore the Variational Quantum Eigensolver, a hybrid quantum classical algorithm for determining the ground state energy of molecules. The first part of this tutorial will walk through the key aspects of the VQE algorithm and how to implement it with CUDA-Q.  The following sections explore advanced topics: parallel gradients, active spaces, and gate fusion"
   ]
  },
  {
   "cell_type": "markdown",
   "metadata": {},
   "source": [
    "## The Basics of VQE"
   ]
  },
  {
   "cell_type": "markdown",
   "metadata": {},
   "source": [
    "The VQE algorithm is hybrid quantum-classical algorithm, meaning some subroutines run on a quantum computer or quantum simulator and others run on a traditional (super)computer.  \n",
    "\n",
    "The goal is to take a parameterized quantum circuit and a qubit form of the molecular Hamiltonian, measure an expectation value that corresponds to the ground state energy of the molecule, and then repeat the process to variationally minimize the energy with respect to the parameters in the quantum circuit. The optimization is performed on a classical device while the expectation values are determined on a quantum device.  See the figure below.\n"
   ]
  },
  {
   "cell_type": "markdown",
   "metadata": {},
   "source": [
    "![VQE.png](../images/VQE.png)"
   ]
  },
  {
   "cell_type": "markdown",
   "metadata": {},
   "source": [
    "The next few cells will elaborate on each part of the VQE procedure and show you how to build a VQE simulation to compute the ground state energy of the water molecule."
   ]
  },
  {
   "cell_type": "markdown",
   "metadata": {},
   "source": [
    "## Installing/Loading Relevant Packages"
   ]
  },
  {
   "cell_type": "code",
   "execution_count": 1,
   "metadata": {},
   "outputs": [
    {
     "name": "stdout",
     "output_type": "stream",
     "text": [
      "\u001b[33mWARNING: Running pip as the 'root' user can result in broken permissions and conflicting behaviour with the system package manager, possibly rendering your system unusable.It is recommended to use a virtual environment instead: https://pip.pypa.io/warnings/venv. Use the --root-user-action option if you know what you are doing and want to suppress this warning.\u001b[0m\u001b[33m\n",
      "\u001b[0m"
     ]
    }
   ],
   "source": [
    "# Install the relevant packages.\n",
    "!pip install pyscf==2.6.2 openfermionpyscf==0.5 matplotlib==3.8.4 openfermion==1.6.1 -q"
   ]
  },
  {
   "cell_type": "code",
   "execution_count": 2,
   "metadata": {},
   "outputs": [
    {
     "name": "stderr",
     "output_type": "stream",
     "text": [
      "/usr/local/lib/python3.10/dist-packages/qutip/__init__.py:66: UserWarning: The new version of Cython, (>= 3.0.0) is not supported.\n",
      "  warnings.warn(\n"
     ]
    }
   ],
   "source": [
    "import openfermion\n",
    "import openfermionpyscf\n",
    "from openfermion.transforms import jordan_wigner, get_fermion_operator\n",
    "\n",
    "import os\n",
    "import timeit\n",
    "\n",
    "import cudaq\n",
    "import matplotlib.pyplot as plt\n",
    "from scipy.optimize import minimize\n",
    "import numpy as np\n"
   ]
  },
  {
   "cell_type": "markdown",
   "metadata": {},
   "source": [
    "## Implementing VQE in CUDA-Q"
   ]
  },
  {
   "cell_type": "markdown",
   "metadata": {},
   "source": [
    "Like most quantum chemistry programs, the first step is to specify a molecular geometry, basis set, charge, and multiplicity. "
   ]
  },
  {
   "cell_type": "code",
   "execution_count": 3,
   "metadata": {},
   "outputs": [],
   "source": [
    "geometry = [('O', (0.1173,0.0,0.0)), ('H', (-0.4691,0.7570,0.0)), ('H', (-0.4691,-0.7570,0.0))]\n",
    "basis = 'sto3g'\n",
    "multiplicity = 1\n",
    "charge = 0"
   ]
  },
  {
   "cell_type": "markdown",
   "metadata": {},
   "source": [
    "The VQE procedure requires some classical preprocessing.  The code below uses the PySCF package and OpenFermion to compute the Hartree Fock reference state and compute the integrals required for the Hamiltonian."
   ]
  },
  {
   "cell_type": "code",
   "execution_count": 4,
   "metadata": {},
   "outputs": [],
   "source": [
    "molecule = openfermionpyscf.run_pyscf(openfermion.MolecularData(geometry, basis, multiplicity,charge))"
   ]
  },
  {
   "cell_type": "markdown",
   "metadata": {},
   "source": [
    "Next, the Hamiltonian is built using `get_molecular_hamiltonian`. The Hamiltonian must then be converted to a qubit Hamiltonian consisting of qubit operators. The standard Jordan-Wigner transformation is used to perform this mapping. \n",
    "\n",
    "Finally, the Jordan-Wigner qubit Hamiltonian is converted into a CUDA-Q spin operator which can be used to evaluate an expectation value given a quantum circuit."
   ]
  },
  {
   "cell_type": "code",
   "execution_count": 5,
   "metadata": {},
   "outputs": [
    {
     "name": "stderr",
     "output_type": "stream",
     "text": [
      "/tmp/ipykernel_433165/3022299596.py:7: ComplexWarning: Casting complex values to real discards the imaginary part\n",
      "  spin_ham = cudaq.SpinOperator(qubit_hamiltonian)\n"
     ]
    }
   ],
   "source": [
    "molecular_hamiltonian = molecule.get_molecular_hamiltonian()\n",
    "\n",
    "fermion_hamiltonian = get_fermion_operator(molecular_hamiltonian)\n",
    "\n",
    "qubit_hamiltonian = jordan_wigner(fermion_hamiltonian)\n",
    "\n",
    "spin_ham = cudaq.SpinOperator(qubit_hamiltonian)"
   ]
  },
  {
   "cell_type": "markdown",
   "metadata": {},
   "source": [
    "Next, the quantum circuit needs to be defined, which models the wavefunction. This is done in CUDA-Q by specifying a CUDA-Q kernel. The kernel takes as an input the number of qubits, the number of electrons, and the parameters of the circuit ansatz (form of the wavefunction) yet to be defined. \n",
    "\n",
    "The number of qubits corresponds to the potential positions of electrons and is therefore twice the number of spatial orbitals constructed with the chosen basis set, as each can be occupied by two electrons. \n",
    "\n",
    "The Hartree-Fock reference is constructed by applying $X$ bitflip operations to each of the first $N$ qubits where $N$ is the number of electrons. Next, a parameterized ansatz is chosen. Theoretically, any set of operations can work as an ansatz, however, it is good practice to use an ansatz that captures the underlying physics of the problem. The most common choice for chemistry is the Unitary Coupled Cluster Ansatz with Single and Double excitations (UCCSD).  This UCCSD hate operations are automatically added to the kernel with the `cudaq.kernels.uccsd(qubits, thetas, electron_num, qubit_num)` function. \n",
    "\n",
    "The STO-3G water molecuule UCCSD ansatz requires optimization of 140 parameters."
   ]
  },
  {
   "cell_type": "code",
   "execution_count": 6,
   "metadata": {},
   "outputs": [
    {
     "name": "stdout",
     "output_type": "stream",
     "text": [
      "140\n"
     ]
    }
   ],
   "source": [
    "electron_count = 10\n",
    "qubit_count = 2*7\n",
    "\n",
    "@cudaq.kernel\n",
    "def kernel(qubit_num:int, electron_num:int, thetas: list[float]):\n",
    "        qubits = cudaq.qvector(qubit_num)\n",
    "\n",
    "        for i in range(electron_num):\n",
    "                x(qubits[i])\n",
    "\n",
    "        cudaq.kernels.uccsd(qubits, thetas, electron_num, qubit_num)\n",
    "\n",
    "parameter_count = cudaq.kernels.uccsd_num_parameters(electron_count,qubit_count)\n",
    "\n",
    "print(parameter_count)"
   ]
  },
  {
   "cell_type": "markdown",
   "metadata": {},
   "source": [
    "The classical optimizer requires a custom cost function which is defined below. The `cudaq.observe()` function computes an expectation given the Hamiltonian and the kernel defined above."
   ]
  },
  {
   "cell_type": "code",
   "execution_count": 7,
   "metadata": {},
   "outputs": [],
   "source": [
    "def cost(theta):\n",
    "\n",
    "        exp_val = cudaq.observe(kernel, spin_ham, qubit_count, electron_count, theta).expectation()\n",
    "\n",
    "        return exp_val\n",
    "\n",
    "\n",
    "exp_vals = []\n",
    "\n",
    "def callback(xk):\n",
    "        exp_vals.append(cost(xk))\n",
    "\n",
    "# Initial variational parameters.\n",
    "np.random.seed(42)\n",
    "x0 = np.random.normal(0, 1, parameter_count)"
   ]
  },
  {
   "cell_type": "markdown",
   "metadata": {},
   "source": [
    "The final step is to run the optimization using the scipy minimize function and a selected optimizer, in this case COBYLA. "
   ]
  },
  {
   "cell_type": "code",
   "execution_count": 8,
   "metadata": {},
   "outputs": [
    {
     "name": "stdout",
     "output_type": "stream",
     "text": [
      "UCCSD-VQE energy =   -70.2132690885024\n",
      "Total number of qubits =  14\n",
      "Total number of parameters =  140\n",
      "Total number of terms in the spin hamiltonian =  1086\n",
      "Total elapsed time (s) =  22.190422685001977\n"
     ]
    },
    {
     "data": {
      "image/png": "[encoded data removed]",
      "text/plain": [
       "<Figure size 640x480 with 1 Axes>"
      ]
     },
     "metadata": {},
     "output_type": "display_data"
    }
   ],
   "source": [
    "cudaq.set_target('nvidia')\n",
    "start_time = timeit.default_timer()\n",
    "result = minimize(cost, x0, method='COBYLA', callback=callback, options={'maxiter': 50})\n",
    "end_time = timeit.default_timer()\n",
    "\n",
    "print('UCCSD-VQE energy =  ', result.fun)\n",
    "print('Total number of qubits = ', qubit_count)\n",
    "print('Total number of parameters = ', parameter_count)\n",
    "print('Total number of terms in the spin hamiltonian = ',spin_ham.get_term_count())\n",
    "print('Total elapsed time (s) = ', end_time-start_time)\n",
    "\n",
    "plt.plot(exp_vals)\n",
    "plt.xlabel('Epochs')\n",
    "plt.ylabel('Energy')\n",
    "plt.title('VQE')\n",
    "plt.show()"
   ]
  },
  {
   "cell_type": "markdown",
   "metadata": {},
   "source": [
    "The result of this procedure is an estimate of the ground state energy of water. However, the convergence behavior is not perfect, more iterations would greatly improve the result, but would take a few minutes to run."
   ]
  },
  {
   "cell_type": "markdown",
   "metadata": {},
   "source": [
    "## Parallel Parameter Shift Gradients"
   ]
  },
  {
   "cell_type": "markdown",
   "metadata": {},
   "source": [
    "One way to accelerate VQE is to use an optimizer that accepts a gradient. This can drastically lower the number of VQE iterations required at the cost of computing the gradient on the quantum side of the algorithm.\n",
    "\n",
    "The parameter shift rule is a common technique to compute the gradient for parameterized circuits. It is obtained by computing two expectation values for each parameter corresponding to a small forward and backward shift in the ith parameter. These results are used to estimate  finite difference contribution to the gradient.\n",
    "\n",
    "![parametershift.png](../images/parametershift.png)\n",
    "\n",
    "This procedure can become cost prohibitive as the number of parameters becomes large."
   ]
  },
  {
   "cell_type": "markdown",
   "metadata": {},
   "source": [
    "Each of the expectation values needed to evaluate a parameter shift gradient can be computed independently.  The CUDA-Q `nvidia-mqpu` backend is designed for parallel computations across multiple simulated QPUs. The function below uses `cudaq.observe_asynch` to distribute all of the expectation values evaluations across as many GPUs that are available. First, try it with `num_qpus` set to 1."
   ]
  },
  {
   "cell_type": "code",
   "execution_count": 9,
   "metadata": {},
   "outputs": [
    {
     "name": "stdout",
     "output_type": "stream",
     "text": [
      "[\u001b[38;2;255;000;000mwarning\u001b[0m] Target \u001b[38;2;000;000;255mnvidia-mqpu\u001b[0m: \u001b[38;2;000;000;255mThis target is deprecating. Please use the 'nvidia' target with option 'mqpu,fp32' or 'mqpu' (fp32 is the default precision option) by adding the command line option '--target-option mqpu,fp32' or passing it as cudaq.set_target('nvidia', option='mqpu,fp32') in Python. Please refer to CUDA-Q \u001b]8;;https://nvidia.github.io/cuda-quantum/latest/using/backends/platform.html#nvidia-mqpu-platform\u001b\\documentation\u001b]8;;\u001b\\ for more information.\u001b[0m\n"
     ]
    }
   ],
   "source": [
    "np.random.seed(42)\n",
    "x0 = np.random.normal(0, 1, parameter_count)\n",
    "\n",
    "cudaq.set_target(\"nvidia-mqpu\")\n",
    "\n",
    "num_qpus = 4\n",
    "\n",
    "epsilon =np.pi/4\n",
    "def batched_gradient_function(kernel, parameters, hamiltonian, epsilon): \n",
    "\n",
    "\n",
    "    x = np.tile(parameters, (len(parameters),1))\n",
    "\n",
    "    xplus = x + (np.eye(x.shape[0]) * epsilon)\n",
    "\n",
    "    xminus = x - (np.eye(x.shape[0]) * epsilon)\n",
    "\n",
    "    g_plus = []\n",
    "    g_minus = []\n",
    "    gradients = []\n",
    "\n",
    "    qpu_counter = 0 # Iterate over the number of GPU resources available\n",
    "    for i in range(x.shape[0]): \n",
    "\n",
    "        g_plus.append(cudaq.observe_async(kernel,hamiltonian, qubit_count, electron_count, xplus[i], qpu_id = qpu_counter))\n",
    "        qpu_counter += 1 \n",
    "\n",
    "        g_minus.append(cudaq.observe_async(kernel, hamiltonian, qubit_count, electron_count, xminus[i], qpu_id = qpu_counter))\n",
    "        qpu_counter += 1 \n",
    "        \n",
    "        if qpu_counter%num_qpus == 0: \n",
    "            qpu_counter = 0 \n",
    "        \n",
    "    gradients = [(g_plus[i].get().expectation() - g_minus[i].get().expectation()) / (2*epsilon) for i in range(len(g_minus))]\n",
    "\n",
    "    assert len(gradients) == len(parameters) == x.shape[0] == xplus.shape[0] == xminus.shape[0]\n",
    "\n",
    "    return gradients"
   ]
  },
  {
   "cell_type": "markdown",
   "metadata": {},
   "source": [
    "The cost function needs to be slightly updated to make use of the gradient in the optimization procedure and allow for a gradient based optimizer like L-BFGS-B to be used."
   ]
  },
  {
   "cell_type": "code",
   "execution_count": 10,
   "metadata": {},
   "outputs": [],
   "source": [
    "gradient = batched_gradient_function(kernel, x0, spin_ham, epsilon)\n",
    "\n",
    "exp_vals=[]\n",
    "\n",
    "def objective_function(parameter_vector: list[float], \\\n",
    "                       gradient=gradient, hamiltonian=spin_ham, kernel=kernel):\n",
    "\n",
    "\n",
    "    get_result = lambda parameter_vector: cudaq.observe\\\n",
    "        (kernel, hamiltonian, qubit_count, electron_count, parameter_vector).expectation()\n",
    "    \n",
    "    cost = get_result(parameter_vector)\n",
    "    exp_vals.append(cost)\n",
    "    gradient_vector = batched_gradient_function(kernel, parameter_vector, spin_ham, epsilon)\n",
    "    \n",
    "    return cost , gradient_vector"
   ]
  },
  {
   "cell_type": "markdown",
   "metadata": {},
   "source": [
    "Run the code below. Notice how the result is converged to a lower energy using only 10% of the steps as optimization above without a gradient. "
   ]
  },
  {
   "cell_type": "code",
   "execution_count": 11,
   "metadata": {},
   "outputs": [
    {
     "name": "stdout",
     "output_type": "stream",
     "text": [
      "VQE-UCCSD energy=  -73.19393157379287\n",
      "Total elapsed time (s) =  85.99089443101548\n"
     ]
    },
    {
     "data": {
      "image/png": "[encoded data removed]",
      "text/plain": [
       "<Figure size 640x480 with 1 Axes>"
      ]
     },
     "metadata": {},
     "output_type": "display_data"
    }
   ],
   "source": [
    "np.random.seed(42)\n",
    "init_params = np.random.normal(0, 1, parameter_count)\n",
    "\n",
    "start_time = timeit.default_timer()\n",
    "result_vqe=minimize(objective_function,init_params, method='L-BFGS-B', jac=True, tol=1e-8, options={'maxiter': 5})\n",
    "end_time = timeit.default_timer()\n",
    "\n",
    "\n",
    "\n",
    "print('VQE-UCCSD energy= ', result_vqe.fun)\n",
    "print('Total elapsed time (s) = ', end_time-start_time)\n",
    "\n",
    "plt.plot(exp_vals)\n",
    "plt.xlabel('Epochs')\n",
    "plt.ylabel('Energy')\n",
    "plt.title('VQE')\n",
    "plt.show()"
   ]
  },
  {
   "cell_type": "markdown",
   "metadata": {},
   "source": [
    "Now, run the code again (the three previous cells) and specify `num_qpus` to be more than one if you have access to multiple GPUs and notice resulting speedup.  Thanks to CUDA-Q, this code could be used without modification in a setting where multiple physical QPUs were availible."
   ]
  },
  {
   "cell_type": "markdown",
   "metadata": {},
   "source": [
    "## Using an Active Space"
   ]
  },
  {
   "cell_type": "markdown",
   "metadata": {},
   "source": [
    "Performing electronic structure computations with all electrons and orbitals is often prohibitively expensive and unnecessary.  Most of the interesting chemistry can be modeled by restricting simulations to the highest energy occupied molecular orbitals and lowest energy unoccupied molecular orbitals. This is known as the active space approximation. \n",
    "\n",
    "Below is an example of STO-3G water modeled with a 4 electron 3 orbital active space simulated with UCCSD-VQE. Using an active space means you can run VQE for the same molecule using fewer qubits and a more shallow circuit.\n"
   ]
  },
  {
   "cell_type": "markdown",
   "metadata": {},
   "source": [
    "![cas.png](../images/cas.png)"
   ]
  },
  {
   "cell_type": "markdown",
   "metadata": {},
   "source": [
    "The molecule is defined the same way, expect for you now include variables `nele_cas` and `norb_cas` to define the active space. The `ncore` "
   ]
  },
  {
   "cell_type": "code",
   "execution_count": 12,
   "metadata": {},
   "outputs": [],
   "source": [
    "geometry = [('O', (0.1173,0.0,0.0)), ('H', (-0.4691,0.7570,0.0)), ('H', (-0.4691,-0.7570,0.0))]\n",
    "basis = 'sto3g'\n",
    "multiplicity = 1\n",
    "charge = 0\n",
    "ncore = 3\n",
    "nele_cas, norb_cas = (4,3)\n",
    "\n",
    "molecule = openfermionpyscf.run_pyscf(openfermion.MolecularData(geometry, basis, multiplicity,charge))"
   ]
  },
  {
   "cell_type": "markdown",
   "metadata": {},
   "source": [
    "The Hamiltonian is now constrcuted with the same steps, but only models the active space."
   ]
  },
  {
   "cell_type": "code",
   "execution_count": 13,
   "metadata": {},
   "outputs": [
    {
     "name": "stderr",
     "output_type": "stream",
     "text": [
      "/tmp/ipykernel_433165/3380842205.py:8: ComplexWarning: Casting complex values to real discards the imaginary part\n",
      "  spin_ham = cudaq.SpinOperator(qubit_hamiltonian)\n"
     ]
    }
   ],
   "source": [
    "molecular_hamiltonian = molecule.get_molecular_hamiltonian(\n",
    "        occupied_indices=range(ncore), active_indices=range(ncore, ncore + norb_cas))\n",
    "\n",
    "fermion_hamiltonian = get_fermion_operator(molecular_hamiltonian)\n",
    "\n",
    "qubit_hamiltonian = jordan_wigner(fermion_hamiltonian)\n",
    "\n",
    "spin_ham = cudaq.SpinOperator(qubit_hamiltonian)"
   ]
  },
  {
   "cell_type": "markdown",
   "metadata": {},
   "source": [
    "Similarly, the kernel is defined only by the orbitals and electrons in the active space. Notice how this means you only need to optimize 8 parameters now. "
   ]
  },
  {
   "cell_type": "code",
   "execution_count": 14,
   "metadata": {},
   "outputs": [
    {
     "name": "stdout",
     "output_type": "stream",
     "text": [
      "8\n"
     ]
    }
   ],
   "source": [
    "electron_count = nele_cas\n",
    "qubit_count = 2*norb_cas\n",
    "\n",
    "@cudaq.kernel\n",
    "def kernel(qubit_num:int, electron_num:int, thetas: list[float]):\n",
    "        qubits = cudaq.qvector(qubit_num)\n",
    "\n",
    "        for i in range(electron_num):\n",
    "                x(qubits[i])\n",
    "\n",
    "        cudaq.kernels.uccsd(qubits, thetas, electron_num, qubit_num)\n",
    "\n",
    "parameter_count = cudaq.kernels.uccsd_num_parameters(electron_count,qubit_count)\n",
    "\n",
    "print(parameter_count)"
   ]
  },
  {
   "cell_type": "code",
   "execution_count": 15,
   "metadata": {},
   "outputs": [],
   "source": [
    "def cost(theta):\n",
    "\n",
    "        exp_val = cudaq.observe(kernel, spin_ham, qubit_count, electron_count, theta).expectation()\n",
    "        thetas=theta\n",
    "        return exp_val\n",
    "\n",
    "\n",
    "exp_vals = []\n",
    "\n",
    "def callback(xk):\n",
    "        exp_vals.append(cost(xk))\n",
    "\n",
    "# Initial variational parameters.\n",
    "np.random.seed(42)\n",
    "x0 = np.random.normal(0, 1, parameter_count)"
   ]
  },
  {
   "cell_type": "markdown",
   "metadata": {},
   "source": [
    "The VQE procedure below is much faster using an active space compared to inclusion of all orbitals and electrons."
   ]
  },
  {
   "cell_type": "code",
   "execution_count": 16,
   "metadata": {},
   "outputs": [
    {
     "name": "stdout",
     "output_type": "stream",
     "text": [
      "UCCSD-VQE energy =   -74.9643517290202\n",
      "Total number of qubits =  6\n",
      "Total number of parameters =  8\n",
      "Total number of terms in the spin hamiltonian =  62\n",
      "Total elapsed time (s) =  3.052796017989749\n"
     ]
    },
    {
     "data": {
      "image/png": "[encoded data removed]",
      "text/plain": [
       "<Figure size 640x480 with 1 Axes>"
      ]
     },
     "metadata": {},
     "output_type": "display_data"
    }
   ],
   "source": [
    "cudaq.set_target(\"nvidia\")\n",
    "\n",
    "start_time = timeit.default_timer()\n",
    "result = minimize(cost, x0, method='COBYLA', callback=callback, options={'maxiter': 500})\n",
    "end_time = timeit.default_timer()\n",
    "\n",
    "print('UCCSD-VQE energy =  ', result.fun)\n",
    "print('Total number of qubits = ', qubit_count)\n",
    "print('Total number of parameters = ', parameter_count)\n",
    "print('Total number of terms in the spin hamiltonian = ',spin_ham.get_term_count())\n",
    "print('Total elapsed time (s) = ', end_time-start_time)\n",
    "\n",
    "plt.plot(exp_vals)\n",
    "plt.xlabel('Epochs')\n",
    "plt.ylabel('Energy')\n",
    "plt.title('VQE')\n",
    "plt.show()"
   ]
  },
  {
   "cell_type": "markdown",
   "metadata": {},
   "source": [
    "## Gate Fusion for Larger Circuits"
   ]
  },
  {
   "cell_type": "markdown",
   "metadata": {},
   "source": [
    "CUDA-Q simulations take advantage of a technique called gate fusion. Gate fusion is an optimization technique where consecutive gates are combined into a single gate operation to improve the efficiency of the simulation (See figure below).  By targeting the `nvidia-mgpu` backend and setting the `CUDAQ_MGPU_FUSE` environment variable, you can select the degree of fusion that takes place. \n",
    "\n",
    "![gate-fuse.png](../images/gate-fuse.png)"
   ]
  },
  {
   "cell_type": "markdown",
   "metadata": {},
   "source": [
    "This is particularly important for larger circuits and can have a significant impact on the performance of the simulation. Each system is different, so you should test different gate fusion levels to find out what is best for your system. The example below simulates a 24 qubit C$_2$H$_2$ molecule and notice how a gate fusion level of 4 is much faster than 6. You can add the core orbitals to the list of frozen orbitals along with the virtual orbitals that are outside the active space.\n",
    "\n",
    "\n",
    "The cells below perform one expectation value computation with the fusion level set to 4 and then 6, and print the respective timings"
   ]
  },
  {
   "cell_type": "code",
   "execution_count": 17,
   "metadata": {},
   "outputs": [
    {
     "name": "stdout",
     "output_type": "stream",
     "text": [
      "/usr/local/lib/python3.10/dist-packages/qutip/__init__.py:66: UserWarning: The new version of Cython, (>= 3.0.0) is not supported.\n",
      "  warnings.warn(\n",
      "/home/cudaq_tutorials/applications/c2h2VQE.py:28: ComplexWarning: Casting complex values to real discards the imaginary part\n",
      "  spin_ham = cudaq.SpinOperator(qubit_hamiltonian)\n",
      "20.839867891016183\n"
     ]
    }
   ],
   "source": [
    "!CUDAQ_MGPU_FUSE=4 python c2h2VQE.py --target nvidia --target-option fp64,mgpu"
   ]
  },
  {
   "cell_type": "code",
   "execution_count": 18,
   "metadata": {},
   "outputs": [
    {
     "name": "stdout",
     "output_type": "stream",
     "text": [
      "/usr/local/lib/python3.10/dist-packages/qutip/__init__.py:66: UserWarning: The new version of Cython, (>= 3.0.0) is not supported.\n",
      "  warnings.warn(\n",
      "/home/cudaq_tutorials/applications/c2h2VQE.py:28: ComplexWarning: Casting complex values to real discards the imaginary part\n",
      "  spin_ham = cudaq.SpinOperator(qubit_hamiltonian)\n",
      "47.765173733001575\n"
     ]
    }
   ],
   "source": [
    "!CUDAQ_MGPU_FUSE=6 python c2h2VQE.py --target nvidia --target-option fp64,mgpu"
   ]
  }
 ],
 "metadata": {
  "kernelspec": {
   "display_name": "Python 3 (ipykernel)",
   "language": "python",
   "name": "python3"
  },
  "language_info": {
   "codemirror_mode": {
    "name": "ipython",
    "version": 3
   },
   "file_extension": ".py",
   "mimetype": "text/x-python",
   "name": "python",
   "nbconvert_exporter": "python",
   "pygments_lexer": "ipython3",
   "version": "3.10.12"
  }
 },
 "nbformat": 4,
 "nbformat_minor": 4
}
