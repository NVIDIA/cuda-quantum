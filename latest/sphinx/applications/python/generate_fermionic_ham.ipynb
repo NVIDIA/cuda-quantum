{
 "cells": [
  {
   "cell_type": "markdown",
   "id": "963fdca6",
   "metadata": {},
   "source": [
    "# Generating the electronic Hamiltonian\n",
    "\n",
    "For chemistry applications in quantum computing, one needs first to design the electronic Hamiltonian and convert it to qubit Hamiltonian. In this tutorial, we will explain how user can generate the electronic Hamiltonian for their subsequent quantum computing simulation.\n",
    "\n",
    "The electronic Hamiltonian describes the energy of electrons in the electrostatic field of nuclei that are assumed to be stationary with respect to an inertial frame [(1)](https://en.wikipedia.org/wiki/Molecular_Hamiltonian). This operator plays a central role in computational chemistry and physics for calculating properties of molecules including thermal conductivity, specific heat, electrical conductivity, optical properties, magnetic properties, and chemical reactivity.\n",
    "\n",
    "In quantum mechanics generally, the Hamiltonian operator represents the total energy of a system, including both kinetic and potential energy components. The electronic Hamiltonian specifically focuses on the electronic component of this energy within molecular systems.\n",
    "\n",
    "#### Second Quantized formulation.\n",
    "\n",
    "The second quantized formulation expresses the Hamiltonian in terms of creation and annihilation operators that automatically preserve the antisymmetry requirements for fermions. This representation is particularly useful for implementing computational methods in quantum chemistry.\n",
    "\n",
    "$$H = \\sum_{pq} h_{pq} a_p^\\dagger a_q + \\frac{1}{2} \\sum_{pqrs} g_{pqrs} a_p^\\dagger a_q^\\dagger a_r a_s$$\n",
    "\n",
    "where:\n",
    "- $h_{pq}$ are the one-electron integrals\n",
    "- $g_{pqrs}$ are the two-electron integrals\n",
    "- $a_p^\\dagger$ and $a_p$ are the fermion creation and annihilation operators\n",
    "\n",
    "This formulation provides significant advantages for computational implementations and development of electron correlation methods.\n",
    "\n",
    "### Computational Implementation\n",
    "\n",
    "The computational implementation of electronic Hamiltonians involves several key steps that transform the abstract operator into a concrete numerical representation.\n",
    "\n",
    "- Basis Set Expansion: The first step is to express the electronic Hamiltonian in a finite basis of atomic orbitals (AOs). These are typically Gaussian-type orbitals centered on atoms, chosen for computational efficiency\n",
    "- Integral Calculation: Once a basis is chosen, one-electron and two-electron integrals are computed in the AO basis. These represent matrix elements of the Hamiltonian components between different basis functions\n",
    "- Self-Consistent Field Calculation: A self-consistent field (SCF) procedure, typically using the Hartree-Fock method, is performed to obtain molecular orbitals (MOs) as linear combinations of AOs\n",
    "- Integral Transformation: The AO integrals are transformed to the MO basis using the coefficients from the SCF calculation. This transformation is computationally intensive but crucial for correlated methods\n",
    "- Spin Adaptation: For many applications, the spatial MO integrals are converted to spin MO integrals to account for electron spin explicitly\n",
    "\n",
    "In this tutorial, we employ [pyscf](https://github.com/pyscf/pyscf) to perform these calculations of electron integrals."
   ]
  },
  {
   "cell_type": "code",
   "execution_count": null,
   "id": "1c3a83f4",
   "metadata": {},
   "outputs": [],
   "source": [
    "# Requires pyscf to be installed\n",
    "%pip install pyscf"
   ]
  },
  {
   "cell_type": "markdown",
   "id": "0a01426b",
   "metadata": {},
   "source": [
    "To calculate the electronic integrals, and generate the spin molecular Hamiltonian, import the following"
   ]
  },
  {
   "cell_type": "code",
   "execution_count": 24,
   "id": "0c795caa",
   "metadata": {},
   "outputs": [],
   "source": [
    "from qchem.classical_pyscf import get_mol_hamiltonian"
   ]
  },
  {
   "cell_type": "markdown",
   "id": "95d5146c",
   "metadata": {},
   "source": [
    "To convert from fermionic Hamiltonian to qubit hamiltonian, import the following"
   ]
  },
  {
   "cell_type": "code",
   "execution_count": 25,
   "id": "a9df0323",
   "metadata": {},
   "outputs": [],
   "source": [
    "from qchem.hamiltonian import jordan_wigner_fermion"
   ]
  },
  {
   "cell_type": "code",
   "execution_count": 26,
   "id": "23ec3969",
   "metadata": {},
   "outputs": [],
   "source": [
    "# Import the cudaq module\n",
    "import cudaq\n",
    "\n",
    "# Set the traget\n",
    "# Double precision is recommended for the best performance.\n",
    "cudaq.set_target(\"nvidia\", option = \"fp64\")\n"
   ]
  },
  {
   "cell_type": "markdown",
   "id": "ef495ce0",
   "metadata": {},
   "source": [
    "#### (a) Generate the molecular Hamiltonian using Hartree Fock molecular orbitals"
   ]
  },
  {
   "cell_type": "code",
   "execution_count": 27,
   "id": "1ac10a7e",
   "metadata": {},
   "outputs": [
    {
     "name": "stdout",
     "output_type": "stream",
     "text": [
      "output file: qchem/H2-pyscf.log\n",
      "[pyscf] Total number of orbitals =  2\n",
      "[pyscf] Total number of electrons =  2\n",
      "[pyscf] HF energy =  -1.1166512474115224\n",
      "[pyscf] Total R-CCSD energy =  -1.1372635051456805\n",
      "-------------------------------\n",
      "Molecular data\n",
      "-------------------------------\n",
      "Number of electrons:  2\n",
      "Total number of spatial orbitals:  2\n",
      "Number of spin molecular orbitals:  4\n",
      "Nuclear repulsion energy:  0.7131768341239892\n",
      "Fermionic hamiltonian:  -1.2521011771187975 a_0^dagger a_0 + -1.2521011771187975 b_0^dagger b_0 + 0.33718713635104147 a_0^dagger a_0^dagger a_0 a_0 + 0.33718713635104147 b_0^dagger b_0^dagger b_0 b_0 + 0.33718713635104147 a_0^dagger a_0^dagger b_0 b_0 + 0.33718713635104147 b_0^dagger b_0^dagger a_0 a_0 + 6.938893903907228e-18 a_0^dagger a_0^dagger a_0 a_1 + 6.938893903907228e-18 b_0^dagger b_0^dagger b_0 b_1 + 6.938893903907228e-18 a_0^dagger a_0^dagger b_0 b_1 + 6.938893903907228e-18 b_0^dagger b_0^dagger a_0 a_1 + 5.551115123125783e-17 a_0^dagger a_0^dagger a_1 a_0 + 5.551115123125783e-17 b_0^dagger b_0^dagger b_1 b_0 + 5.551115123125783e-17 a_0^dagger a_0^dagger b_1 b_0 + 5.551115123125783e-17 b_0^dagger b_0^dagger a_1 a_0 + 0.09066120278229657 a_0^dagger a_0^dagger a_1 a_1 + 0.09066120278229657 b_0^dagger b_0^dagger b_1 b_1 + 0.09066120278229657 a_0^dagger a_0^dagger b_1 b_1 + 0.09066120278229657 b_0^dagger b_0^dagger a_1 a_1 + 7.912018404978357e-17 a_0^dagger a_1 + 7.912018404978357e-17 b_0^dagger b_1 + -1.3877787807814457e-17 a_0^dagger a_1^dagger a_0 a_0 + -1.3877787807814457e-17 b_0^dagger b_1^dagger b_0 b_0 + -1.3877787807814457e-17 a_0^dagger a_1^dagger b_0 b_0 + -1.3877787807814457e-17 b_0^dagger b_1^dagger a_0 a_0 + 0.09066120278229672 a_0^dagger a_1^dagger a_0 a_1 + 0.09066120278229672 b_0^dagger b_1^dagger b_0 b_1 + 0.09066120278229672 a_0^dagger a_1^dagger b_0 b_1 + 0.09066120278229672 b_0^dagger b_1^dagger a_0 a_1 + 0.3316819374820622 a_0^dagger a_1^dagger a_1 a_0 + 0.3316819374820622 b_0^dagger b_1^dagger b_1 b_0 + 0.3316819374820622 a_0^dagger a_1^dagger b_1 b_0 + 0.3316819374820622 b_0^dagger b_1^dagger a_1 a_0 + 0.0 a_0^dagger a_1^dagger a_1 a_1 + 0.0 b_0^dagger b_1^dagger b_1 b_1 + 0.0 a_0^dagger a_1^dagger b_1 b_1 + 0.0 b_0^dagger b_1^dagger a_1 a_1 + 1.84737105656583e-16 a_1^dagger a_0 + 1.84737105656583e-16 b_1^dagger b_0 + 1.734723475976807e-17 a_1^dagger a_0^dagger a_0 a_0 + 1.734723475976807e-17 b_1^dagger b_0^dagger b_0 b_0 + 1.734723475976807e-17 a_1^dagger a_0^dagger b_0 b_0 + 1.734723475976807e-17 b_1^dagger b_0^dagger a_0 a_0 + 0.33168193748206226 a_1^dagger a_0^dagger a_0 a_1 + 0.33168193748206226 b_1^dagger b_0^dagger b_0 b_1 + 0.33168193748206226 a_1^dagger a_0^dagger b_0 b_1 + 0.33168193748206226 b_1^dagger b_0^dagger a_0 a_1 + 0.09066120278229656 a_1^dagger a_0^dagger a_1 a_0 + 0.09066120278229656 b_1^dagger b_0^dagger b_1 b_0 + 0.09066120278229656 a_1^dagger a_0^dagger b_1 b_0 + 0.09066120278229656 b_1^dagger b_0^dagger a_1 a_0 + 5.551115123125783e-17 a_1^dagger a_0^dagger a_1 a_1 + 5.551115123125783e-17 b_1^dagger b_0^dagger b_1 b_1 + 5.551115123125783e-17 a_1^dagger a_0^dagger b_1 b_1 + 5.551115123125783e-17 b_1^dagger b_0^dagger a_1 a_1 + -0.47632466628305836 a_1^dagger a_1 + -0.47632466628305836 b_1^dagger b_1 + 0.09066120278229671 a_1^dagger a_1^dagger a_0 a_0 + 0.09066120278229671 b_1^dagger b_1^dagger b_0 b_0 + 0.09066120278229671 a_1^dagger a_1^dagger b_0 b_0 + 0.09066120278229671 b_1^dagger b_1^dagger a_0 a_0 + 1.3877787807814457e-17 a_1^dagger a_1^dagger a_0 a_1 + 1.3877787807814457e-17 b_1^dagger b_1^dagger b_0 b_1 + 1.3877787807814457e-17 a_1^dagger a_1^dagger b_0 b_1 + 1.3877787807814457e-17 b_1^dagger b_1^dagger a_0 a_1 + 1.3877787807814457e-17 a_1^dagger a_1^dagger a_1 a_0 + 1.3877787807814457e-17 b_1^dagger b_1^dagger b_1 b_0 + 1.3877787807814457e-17 a_1^dagger a_1^dagger b_1 b_0 + 1.3877787807814457e-17 b_1^dagger b_1^dagger a_1 a_0 + 0.3486416866888513 a_1^dagger a_1^dagger a_1 a_1 + 0.3486416866888513 b_1^dagger b_1^dagger b_1 b_1 + 0.3486416866888513 a_1^dagger a_1^dagger b_1 b_1 + 0.3486416866888513 b_1^dagger b_1^dagger a_1 a_1\n",
      "-------------------------------\n",
      "Jordan-Wigner transformation\n",
      "-------------------------------\n",
      "[Cudaq] Qubit hamiltonian:  (-0.045331+0.000000i) * X0X1Y2Y3 + (0.000000+0.000000i) * X0X1X2X3 + (0.000000+0.000000i) * X0Y1X2Y3 + (0.045331+0.000000i) * X0Y1Y2X3 + (0.045331+0.000000i) * Y0X1X2Y3 + (0.000000+0.000000i) * Y0X1Y2X3 + (-0.045331+0.000000i) * Y0Y1X2X3 + (0.000000+0.000000i) * Y0Y1Y2Y3 + (-0.174321+0.000000i) * I2Z3 + (0.174321+0.000000i) * I2I3 + (-0.174321+0.000000i) * Z2I3 + (0.174321+0.000000i) * Z2Z3 + (-0.120510+0.000000i) * I1Z3 + (0.120510+0.000000i) * I1I3 + (-0.120510+0.000000i) * Z1I3 + (0.120510+0.000000i) * Z1Z3 + (-0.165841+0.000000i) * I1Z2 + (0.165841+0.000000i) * I1I2 + (-0.165841+0.000000i) * Z1I2 + (0.165841+0.000000i) * Z1Z2 + (-0.165841+0.000000i) * I0Z3 + (0.165841+0.000000i) * I0I3 + (-0.165841+0.000000i) * Z0I3 + (0.165841+0.000000i) * Z0Z3 + (-0.120510+0.000000i) * I0Z2 + (0.120510+0.000000i) * I0I2 + (-0.120510+0.000000i) * Z0I2 + (0.120510+0.000000i) * Z0Z2 + (-0.168594+0.000000i) * I0Z1 + (0.168594+0.000000i) * I0I1 + (-0.168594+0.000000i) * Z0I1 + (0.168594+0.000000i) * Z0Z1 + (0.238162+0.000000i) * Z3 + (-0.238162+0.000000i) * I3 + (0.238162+0.000000i) * Z2 + (-0.238162+0.000000i) * I2 + (0.626051+0.000000i) * Z1 + (-0.626051+0.000000i) * I1 + (0.626051+0.000000i) * Z0 + (0.713177+0.000000i) + (-0.626051+0.000000i) * I0\n",
      "[Cudaq] Number of terms in the Qubit hamiltonian:  41\n"
     ]
    }
   ],
   "source": [
    "H2_mol = \"qchem/H2.xyz\"\n",
    "\n",
    "# Run HF, ccsd and compute the spin molecular hamiltonian using the HF molecular orbitals.\n",
    "molecular_data = get_mol_hamiltonian(xyz=H2_mol, spin=0, charge=0, basis='sto3g', ccsd=True, verbose=True)\n",
    "\n",
    "obi = molecular_data[0]\n",
    "tbi = molecular_data[1]\n",
    "e_nn = molecular_data[2]\n",
    "nelectrons = molecular_data[3]\n",
    "norbitals = molecular_data[4]\n",
    "fermionic_hamiltonian = molecular_data[5]\n",
    "\n",
    "print('-------------------------------')\n",
    "print('Molecular data')\n",
    "print('-------------------------------')\n",
    "print('Number of electrons: ', nelectrons)\n",
    "print('Total number of spatial orbitals: ', norbitals)\n",
    "print('Number of spin molecular orbitals: ', 2 * norbitals)\n",
    "print('Nuclear repulsion energy: ', e_nn)\n",
    "print('Fermionic hamiltonian: ', fermionic_hamiltonian)\n",
    "\n",
    "print('-------------------------------')\n",
    "print('Jordan-Wigner transformation')\n",
    "print('-------------------------------')\n",
    "# Compute the qubit hamiltonian.\n",
    "spin_ham = jordan_wigner_fermion(obi, tbi, e_nn, tolerance = 1e-12)\n",
    "print('[Cudaq] Qubit hamiltonian: ', spin_ham)\n",
    "print('[Cudaq] Number of terms in the Qubit hamiltonian: ', spin_ham.get_term_count())\n"
   ]
  },
  {
   "cell_type": "markdown",
   "id": "1f04721d",
   "metadata": {},
   "source": [
    "### Active space Hamiltonian:\n",
    "\n",
    "The active space Hamiltonian [(2)](https://en.wikipedia.org/wiki/Complete_active_space) is a reduced-dimensionality quantum chemical model that focuses computational resources on the most chemically relevant orbitals and electrons. This approach enables practical calculations for systems with strong electron correlation by partitioning orbitals into three classes:\n",
    "\n",
    "- Core orbitals: Fully occupied and treated as inert\n",
    "- Active orbitals: Partially occupied, explicitly correlated\n",
    "- Virtual orbitals: Unoccupied and excluded\n",
    "\n",
    "The active space Hamiltonian $H^{AS}$ derives from the full electronic Hamiltonian through orbital space partitioning:\n",
    "\n",
    "$$H^{AS} = \\sum_{pq}^{\\text{active}} \\tilde{h}_{pq} \\hat{a}_p^{\\dagger} \\hat{a}_q + \\frac{1}{2} \\sum_{pqrs}^{\\text{active}} g_{pqrs} \\hat{a}_p^{\\dagger} \\hat{a}_q^{\\dagger} \\hat{a}_r \\hat{a}_s + E_{\\text{core}}$$\n",
    "\n",
    "Where:\n",
    "- $\\tilde{h}_{pq}$ are modified one-electron integrals incorporating mean-field effects from core orbitals\n",
    "- $g_{pqrs}$ are two-electron integrals within the active space\n",
    "- $E_{\\text{core}}$ accounts for frozen core contributions\n",
    "\n"
   ]
  },
  {
   "cell_type": "markdown",
   "id": "4d6ef665",
   "metadata": {},
   "source": [
    "#### (b) Generate the active space hamiltonian using HF molecular orbitals."
   ]
  },
  {
   "cell_type": "code",
   "execution_count": 28,
   "id": "de8309cc",
   "metadata": {},
   "outputs": [
    {
     "name": "stdout",
     "output_type": "stream",
     "text": [
      "output file: qchem/H2O-pyscf.log\n",
      "[pyscf] Total number of orbitals =  13\n",
      "[pyscf] Total number of electrons =  10\n",
      "[pyscf] HF energy =  -75.98397553727892\n",
      "[pyscf] R-CASCI energy using molecular orbitals=  -75.9850898102893\n",
      "[pyscf] R-CCSD energy of the active space using molecular orbitals=  -75.9850898045468\n",
      "-------------------------------\n",
      "Molecular data\n",
      "-------------------------------\n",
      "Number of electrons in the active space:  4\n",
      "Number of spatial orbitals in the active space:  4\n",
      "Number of spin molecular orbitals:  8\n",
      "Core energy:  -69.7893749983919\n",
      "-------------------------------\n",
      "Jordan-Wigner transformation\n",
      "-------------------------------\n",
      "[Cudaq] Qubit hamiltonian:  (-0.022166+0.000000i) * X4X5Y6Y7 + (0.000000+0.000000i) * X4X5X6X7 + (0.000000+0.000000i) * X4Y5X6Y7 + (0.022166+0.000000i) * X4Y5Y6X7 + (0.022166+0.000000i) * Y4X5X6Y7 + (0.000000+0.000000i) * Y4X5Y6X7 + (-0.022166+0.000000i) * Y4Y5X6X7 + (0.000000+0.000000i) * Y4Y5Y6Y7 + (-0.002052+0.000000i) * X2X3Y6Y7 + (0.000000+0.000000i) * X2X3X6X7 + (0.000000+0.000000i) * X2Y3X6Y7 + (0.002052+0.000000i) * X2Y3Y6X7 + (0.002052+0.000000i) * Y2X3X6Y7 + (0.000000+0.000000i) * Y2X3Y6X7 + (-0.002052+0.000000i) * Y2Y3X6X7 + (0.000000+0.000000i) * Y2Y3Y6Y7 + (-0.003181+0.000000i) * X2X3Y4Y5 + (0.000000+0.000000i) * X2X3X4X5 + (0.000000+0.000000i) * X2Y3X4Y5 + (0.003181+0.000000i) * X2Y3Y4X5 + (0.003181+0.000000i) * Y2X3X4Y5 + (0.000000+0.000000i) * Y2X3Y4X5 + (-0.003181+0.000000i) * Y2Y3X4X5 + (0.000000+0.000000i) * Y2Y3Y4Y5 + (-0.007078+0.000000i) * Y1Z2Z3Z4Y5I7 + (-0.007078+0.000000i) * X1Z2Z3Z4X5I7 + (0.007078+0.000000i) * X1Z2Z3Z4X5Z7 + (0.007078+0.000000i) * Y1Z2Z3Z4Y5Z7 + (-0.000023+0.000000i) * Y1Z2Z3Z4Y5I6 + (-0.000023+0.000000i) * X1Z2Z3Z4X5I6 + (0.000023+0.000000i) * X1Z2Z3Z4X5Z6 + (0.000023+0.000000i) * Y1Z2Z3Z4Y5Z6 + (0.000000+0.000000i) * X1Z2Z3X4Y6Y7 + (-0.007055+0.000000i) * X1Z2Z3X4X6X7 + (0.000000+0.000000i) * X1Z2Z3Y4X6Y7 + (-0.007055+0.000000i) * X1Z2Z3Y4Y6X7 + (-0.007055+0.000000i) * Y1Z2Z3X4X6Y7 + (0.000000+0.000000i) * Y1Z2Z3X4Y6X7 + (0.000000+0.000000i) * Y1Z2Z3Y4X6X7 + (-0.007055+0.000000i) * Y1Z2Z3Y4Y6Y7 + (0.069775+0.000000i) * Y1Z2Z3Z4Y5 + (0.069775+0.000000i) * X1Z2Z3Z4X5 + (0.000424+0.000000i) * X1Z2Z3I4X5 + (0.000424+0.000000i) * Y1Z2Z3I4Y5 + (0.000088+0.000000i) * X1X2Y3Y4 + (-0.000000+0.000000i) * X1X2X3X4 + (-0.000000+0.000000i) * X1Y2X3Y4 + (-0.000088+0.000000i) * X1Y2Y3X4 + (-0.000088+0.000000i) * Y1X2X3Y4 + (-0.000000+0.000000i) * Y1X2Y3X4 + (0.000088+0.000000i) * Y1Y2X3X4 + (-0.000000+0.000000i) * Y1Y2Y3Y4 + (0.016580+0.000000i) * X1Z2I3Z4X5 + (0.016580+0.000000i) * Y1Z2I3Z4Y5 + (0.016668+0.000000i) * X1I2Z3Z4X5 + (0.016668+0.000000i) * Y1I2Z3Z4Y5 + (-0.007055+0.000000i) * X0Z1Z2Z3Z4X5Y6Y7 + (-0.000000+0.000000i) * X0Z1Z2Z3Z4X5X6X7 + (-0.000000+0.000000i) * X0Z1Z2Z3Z4Y5X6Y7 + (0.007055+0.000000i) * X0Z1Z2Z3Z4Y5Y6X7 + (0.007055+0.000000i) * Y0Z1Z2Z3Z4X5X6Y7 + (-0.000000+0.000000i) * Y0Z1Z2Z3Z4X5Y6X7 + (-0.007055+0.000000i) * Y0Z1Z2Z3Z4Y5X6X7 + (-0.000000+0.000000i) * Y0Z1Z2Z3Z4Y5Y6Y7 + (-0.000023+0.000000i) * Y0Z1Z2Z3Y4I7 + (-0.000023+0.000000i) * X0Z1Z2Z3X4I7 + (0.000023+0.000000i) * X0Z1Z2Z3X4Z7 + (0.000023+0.000000i) * Y0Z1Z2Z3Y4Z7 + (-0.005789+0.000000i) * X0X1Y6Y7 + (0.000000+0.000000i) * X0X1X6X7 + (0.000000+0.000000i) * X0Y1X6Y7 + (0.005789+0.000000i) * X0Y1Y6X7 + (0.005789+0.000000i) * Y0X1X6Y7 + (0.000000+0.000000i) * Y0X1Y6X7 + (-0.005789+0.000000i) * Y0Y1X6X7 + (0.000000+0.000000i) * Y0Y1Y6Y7 + (-0.007078+0.000000i) * Y0Z1Z2Z3Y4I6 + (-0.007078+0.000000i) * X0Z1Z2Z3X4I6 + (0.007078+0.000000i) * X0Z1Z2Z3X4Z6 + (0.007078+0.000000i) * Y0Z1Z2Z3Y4Z6 + (-0.000424+0.000000i) * Y0Z1Z2Z3Y4I5 + (-0.000424+0.000000i) * X0Z1Z2Z3X4I5 + (0.000424+0.000000i) * X0Z1Z2Z3X4Z5 + (0.000424+0.000000i) * Y0Z1Z2Z3Y4Z5 + (-0.000088+0.000000i) * X0Z1X2Y3Z4Y5 + (-0.000088+0.000000i) * X0Z1X2X3Z4X5 + (0.000000+0.000000i) * X0Z1Y2X3Z4Y5 + (0.000000+0.000000i) * X0Z1Y2Y3Z4X5 + (0.000000+0.000000i) * Y0Z1X2X3Z4Y5 + (0.000000+0.000000i) * Y0Z1X2Y3Z4X5 + (-0.000088+0.000000i) * Y0Z1Y2X3Z4X5 + (-0.000088+0.000000i) * Y0Z1Y2Y3Z4Y5 + (-0.006725+0.000000i) * X0X1Y4Y5 + (0.000000+0.000000i) * X0X1X4X5 + (0.000000+0.000000i) * X0Y1X4Y5 + (0.006725+0.000000i) * X0Y1Y4X5 + (0.006725+0.000000i) * Y0X1X4Y5 + (0.000000+0.000000i) * Y0X1Y4X5 + (-0.006725+0.000000i) * Y0Y1X4X5 + (0.000000+0.000000i) * Y0Y1Y4Y5 + (0.051723+0.000000i) * Y0Z1Z2Z3Y4 + (0.051723+0.000000i) * X0Z1Z2Z3X4 + (0.016668+0.000000i) * X0Z1Z2I3X4 + (0.016668+0.000000i) * Y0Z1Z2I3Y4 + (-0.011445+0.000000i) * X0X1Y2Y3 + (0.000000+0.000000i) * X0X1X2X3 + (0.000000+0.000000i) * X0Y1X2Y3 + (0.011445+0.000000i) * X0Y1Y2X3 + (0.011445+0.000000i) * Y0X1X2Y3 + (0.000000+0.000000i) * Y0X1Y2X3 + (-0.011445+0.000000i) * Y0Y1X2X3 + (0.000000+0.000000i) * Y0Y1Y2Y3 + (0.016580+0.000000i) * X0Z1I2Z3X4 + (0.016580+0.000000i) * Y0Z1I2Z3Y4 + (0.018475+0.000000i) * X0I1Z2Z3X4 + (0.018475+0.000000i) * Y0I1Z2Z3Y4 + (-0.018475+0.000000i) * I0Y1Z2Z3Z4Y5 + (-0.018475+0.000000i) * I0X1Z2Z3Z4X5 + (0.018475+0.000000i) * Z0X1Z2Z3Z4X5 + (0.018475+0.000000i) * Z0Y1Z2Z3Z4Y5 + (-0.086428+0.000000i) * I6Z7 + (0.086428+0.000000i) * I6I7 + (-0.086428+0.000000i) * Z6I7 + (0.086428+0.000000i) * Z6Z7 + (-0.061204+0.000000i) * I5Z7 + (0.061204+0.000000i) * I5I7 + (-0.061204+0.000000i) * Z5I7 + (0.061204+0.000000i) * Z5Z7 + (-0.083370+0.000000i) * I5Z6 + (0.083370+0.000000i) * I5I6 + (-0.083370+0.000000i) * Z5I6 + (0.083370+0.000000i) * Z5Z6 + (-0.083370+0.000000i) * I4Z7 + (0.083370+0.000000i) * I4I7 + (-0.083370+0.000000i) * Z4I7 + (0.083370+0.000000i) * Z4Z7 + (-0.061204+0.000000i) * I4Z6 + (0.061204+0.000000i) * I4I6 + (-0.061204+0.000000i) * Z4I6 + (0.061204+0.000000i) * Z4Z6 + (-0.084378+0.000000i) * I4Z5 + (0.084378+0.000000i) * I4I5 + (-0.084378+0.000000i) * Z4I5 + (0.084378+0.000000i) * Z4Z5 + (-0.092086+0.000000i) * I3Z7 + (0.092086+0.000000i) * I3I7 + (-0.092086+0.000000i) * Z3I7 + (0.092086+0.000000i) * Z3Z7 + (-0.094139+0.000000i) * I3Z6 + (0.094139+0.000000i) * I3I6 + (-0.094139+0.000000i) * Z3I6 + (0.094139+0.000000i) * Z3Z6 + (-0.089279+0.000000i) * I3Z5 + (0.089279+0.000000i) * I3I5 + (-0.089279+0.000000i) * Z3I5 + (0.089279+0.000000i) * Z3Z5 + (-0.092460+0.000000i) * I3Z4 + (0.092460+0.000000i) * I3I4 + (-0.092460+0.000000i) * Z3I4 + (0.092460+0.000000i) * Z3Z4 + (-0.094139+0.000000i) * I2Z7 + (0.094139+0.000000i) * I2I7 + (-0.094139+0.000000i) * Z2I7 + (0.094139+0.000000i) * Z2Z7 + (-0.092086+0.000000i) * I2Z6 + (0.092086+0.000000i) * I2I6 + (-0.092086+0.000000i) * Z2I6 + (0.092086+0.000000i) * Z2Z6 + (-0.092460+0.000000i) * I2Z5 + (0.092460+0.000000i) * I2I5 + (-0.092460+0.000000i) * Z2I5 + (0.092460+0.000000i) * Z2Z5 + (-0.089279+0.000000i) * I2Z4 + (0.089279+0.000000i) * I2I4 + (-0.089279+0.000000i) * Z2I4 + (0.089279+0.000000i) * Z2Z4 + (-0.190993+0.000000i) * I2Z3 + (0.190993+0.000000i) * I2I3 + (-0.190993+0.000000i) * Z2I3 + (0.190993+0.000000i) * Z2Z3 + (-0.088196+0.000000i) * I1Z7 + (0.088196+0.000000i) * I1I7 + (-0.088196+0.000000i) * Z1I7 + (0.088196+0.000000i) * Z1Z7 + (-0.093985+0.000000i) * I1Z6 + (0.093985+0.000000i) * I1I6 + (-0.093985+0.000000i) * Z1I6 + (0.093985+0.000000i) * Z1Z6 + (-0.083503+0.000000i) * I1Z5 + (0.083503+0.000000i) * I1I5 + (-0.083503+0.000000i) * Z1I5 + (0.083503+0.000000i) * Z1Z5 + (-0.090228+0.000000i) * I1Z4 + (0.090228+0.000000i) * I1I4 + (-0.090228+0.000000i) * Z1I4 + (0.090228+0.000000i) * Z1Z4 + (-0.154956+0.000000i) * I1Z3 + (0.154956+0.000000i) * I1I3 + (-0.154956+0.000000i) * Z1I3 + (0.154956+0.000000i) * Z1Z3 + (-0.166400+0.000000i) * I1Z2 + (0.166400+0.000000i) * I1I2 + (-0.166400+0.000000i) * Z1I2 + (0.166400+0.000000i) * Z1Z2 + (-0.093985+0.000000i) * I0Z7 + (0.093985+0.000000i) * I0I7 + (-0.093985+0.000000i) * Z0I7 + (0.093985+0.000000i) * Z0Z7 + (-0.088196+0.000000i) * I0Z6 + (0.088196+0.000000i) * I0I6 + (-0.088196+0.000000i) * Z0I6 + (0.088196+0.000000i) * Z0Z6 + (-0.090228+0.000000i) * I0Z5 + (0.090228+0.000000i) * I0I5 + (-0.090228+0.000000i) * Z0I5 + (0.090228+0.000000i) * Z0Z5 + (-0.083503+0.000000i) * I0Z4 + (0.083503+0.000000i) * I0I4 + (-0.083503+0.000000i) * Z0I4 + (0.083503+0.000000i) * Z0Z4 + (-0.166400+0.000000i) * I0Z3 + (0.166400+0.000000i) * I0I3 + (-0.166400+0.000000i) * Z0I3 + (0.166400+0.000000i) * Z0Z3 + (-0.154956+0.000000i) * I0Z2 + (0.154956+0.000000i) * I0I2 + (-0.154956+0.000000i) * Z0I2 + (0.154956+0.000000i) * Z0Z2 + (-0.183927+0.000000i) * I0Z1 + (0.183927+0.000000i) * I0I1 + (-0.183927+0.000000i) * Z0I1 + (0.183927+0.000000i) * Z0Z1 + (0.586921+0.000000i) * Z7 + (-0.586921+0.000000i) * I7 + (0.586921+0.000000i) * Z6 + (-0.586921+0.000000i) * I6 + (0.609094+0.000000i) * Z5 + (-0.609094+0.000000i) * I5 + (0.609094+0.000000i) * Z4 + (-0.609094+0.000000i) * I4 + (1.275389+0.000000i) * Z3 + (-1.275389+0.000000i) * I3 + (1.275389+0.000000i) * Z2 + (-1.275389+0.000000i) * I2 + (1.290893+0.000000i) * Z1 + (-1.290893+0.000000i) * I1 + (1.290893+0.000000i) * Z0 + (-69.789375+0.000000i) + (-1.290893+0.000000i) * I0\n",
      "[Cudaq] Number of terms in the Qubit hamiltonian:  249\n"
     ]
    }
   ],
   "source": [
    "H2O_mol = \"qchem/H2O.xyz\"\n",
    "\n",
    "# Run HF, ccsd, casci and compute the active space spin molecular hamiltonian\n",
    "# using the HF molecular orbitals with 4 electron and 4 orbitals in the active space.\n",
    "molecular_data = get_mol_hamiltonian(xyz=H2O_mol, spin=0, charge=0, basis='631g', nele_cas=4, norb_cas=4, \n",
    "                                     ccsd=True, casci=True, verbose=True)\n",
    "\n",
    "obi = molecular_data[0]\n",
    "tbi = molecular_data[1]\n",
    "ecore = molecular_data[2]\n",
    "nelectrons = molecular_data[3]\n",
    "norbitals = molecular_data[4]\n",
    "fermionic_hamiltonian = molecular_data[5]\n",
    "\n",
    "print('-------------------------------')\n",
    "print('Molecular data')\n",
    "print('-------------------------------')\n",
    "print('Number of electrons in the active space: ', nelectrons)\n",
    "print('Number of spatial orbitals in the active space: ', norbitals)\n",
    "print('Number of spin molecular orbitals: ', 2 * norbitals)\n",
    "print('Core energy: ', ecore)\n",
    "#print('Fermionic hamiltonian: ', fermionic_hamiltonian)\n",
    "\n",
    "print('-------------------------------')\n",
    "print('Jordan-Wigner transformation')\n",
    "print('-------------------------------')\n",
    "# Compute the qubit hamiltonian.\n",
    "spin_ham = jordan_wigner_fermion(obi, tbi, ecore)\n",
    "print('[Cudaq] Qubit hamiltonian: ', spin_ham)\n",
    "print('[Cudaq] Number of terms in the Qubit hamiltonian: ', spin_ham.get_term_count())"
   ]
  },
  {
   "cell_type": "markdown",
   "id": "b382bd22",
   "metadata": {},
   "source": [
    "#### (c) Generate the active space Hamiltonian using the natural orbitals computed from MP2 simulation "
   ]
  },
  {
   "cell_type": "code",
   "execution_count": 29,
   "id": "2a8cdb09",
   "metadata": {},
   "outputs": [
    {
     "name": "stdout",
     "output_type": "stream",
     "text": [
      "overwrite output file: qchem/H2O-pyscf.log\n",
      "[pyscf] Total number of orbitals =  13\n",
      "[pyscf] Total number of electrons =  10\n",
      "[pyscf] HF energy =  -75.9839755372789\n",
      "[pyscf] R-MP2 energy=  -76.11280670065037\n",
      "[pyscf] Natural orbital occupation number from R-MP2: \n",
      "[1.99995663e+00 1.99012740e+00 1.98197049e+00 1.97722983e+00\n",
      " 1.97515174e+00 2.23585706e-02 2.09527832e-02 1.73621504e-02\n",
      " 1.00838241e-02 2.32351484e-03 1.74875097e-03 4.27482714e-04\n",
      " 3.06831462e-04]\n",
      "[pyscf] R-CASCI energy using natural orbitals=  -76.03304212600108\n",
      "[pyscf] R-CCSD energy of the active space using natural orbitals=  -76.03293564805293\n",
      "-------------------------------\n",
      "Molecular data\n",
      "-------------------------------\n",
      "Number of electrons in the active space:  4\n",
      "Number of spatial orbitals in the active space:  4\n",
      "Number of spin molecular orbitals:  8\n",
      "Core energy:  -69.59209064078016\n",
      "-------------------------------\n",
      "Jordan-Wigner transformation\n",
      "-------------------------------\n",
      "[Cudaq] Qubit hamiltonian:  (-0.018784+0.000000i) * X4X5Y6Y7 + (0.000000+0.000000i) * X4X5X6X7 + (0.000000+0.000000i) * X4Y5X6Y7 + (0.018784+0.000000i) * X4Y5Y6X7 + (0.018784+0.000000i) * Y4X5X6Y7 + (0.000000+0.000000i) * Y4X5Y6X7 + (-0.018784+0.000000i) * Y4Y5X6X7 + (0.000000+0.000000i) * Y4Y5Y6Y7 + (-0.039509+0.000000i) * Y3Z4Y5I7 + (-0.039509+0.000000i) * X3Z4X5I7 + (0.039509+0.000000i) * X3Z4X5Z7 + (0.039509+0.000000i) * Y3Z4Y5Z7 + (-0.032667+0.000000i) * Y3Z4Y5I6 + (-0.032667+0.000000i) * X3Z4X5I6 + (0.032667+0.000000i) * X3Z4X5Z6 + (0.032667+0.000000i) * Y3Z4Y5Z6 + (0.000000+0.000000i) * X3X4Y6Y7 + (-0.006842+0.000000i) * X3X4X6X7 + (0.000000+0.000000i) * X3Y4X6Y7 + (-0.006842+0.000000i) * X3Y4Y6X7 + (-0.006842+0.000000i) * Y3X4X6Y7 + (0.000000+0.000000i) * Y3X4Y6X7 + (0.000000+0.000000i) * Y3Y4X6X7 + (-0.006842+0.000000i) * Y3Y4Y6Y7 + (0.167545+0.000000i) * Y3Z4Y5 + (0.167545+0.000000i) * X3Z4X5 + (0.042531+0.000000i) * X3I4X5 + (0.042531+0.000000i) * Y3I4Y5 + (-0.006842+0.000000i) * X2Z3Z4X5Y6Y7 + (0.000000+0.000000i) * X2Z3Z4X5X6X7 + (0.000000+0.000000i) * X2Z3Z4Y5X6Y7 + (0.006842+0.000000i) * X2Z3Z4Y5Y6X7 + (0.006842+0.000000i) * Y2Z3Z4X5X6Y7 + (0.000000+0.000000i) * Y2Z3Z4X5Y6X7 + (-0.006842+0.000000i) * Y2Z3Z4Y5X6X7 + (0.000000+0.000000i) * Y2Z3Z4Y5Y6Y7 + (-0.032667+0.000000i) * Y2Z3Y4I7 + (-0.032667+0.000000i) * X2Z3X4I7 + (0.032667+0.000000i) * X2Z3X4Z7 + (0.032667+0.000000i) * Y2Z3Y4Z7 + (-0.011291+0.000000i) * X2X3Y6Y7 + (0.000000+0.000000i) * X2X3X6X7 + (0.000000+0.000000i) * X2Y3X6Y7 + (0.011291+0.000000i) * X2Y3Y6X7 + (0.011291+0.000000i) * Y2X3X6Y7 + (0.000000+0.000000i) * Y2X3Y6X7 + (-0.011291+0.000000i) * Y2Y3X6X7 + (0.000000+0.000000i) * Y2Y3Y6Y7 + (-0.039509+0.000000i) * Y2Z3Y4I6 + (-0.039509+0.000000i) * X2Z3X4I6 + (0.039509+0.000000i) * X2Z3X4Z6 + (0.039509+0.000000i) * Y2Z3Y4Z6 + (-0.042531+0.000000i) * Y2Z3Y4I5 + (-0.042531+0.000000i) * X2Z3X4I5 + (0.042531+0.000000i) * X2Z3X4Z5 + (0.042531+0.000000i) * Y2Z3Y4Z5 + (-0.043562+0.000000i) * X2X3Y4Y5 + (0.000000+0.000000i) * X2X3X4X5 + (0.000000+0.000000i) * X2Y3X4Y5 + (0.043562+0.000000i) * X2Y3Y4X5 + (0.043562+0.000000i) * Y2X3X4Y5 + (0.000000+0.000000i) * Y2X3Y4X5 + (-0.043562+0.000000i) * Y2Y3X4X5 + (0.000000+0.000000i) * Y2Y3Y4Y5 + (0.177356+0.000000i) * Y2Z3Y4 + (0.177356+0.000000i) * X2Z3X4 + (0.032720+0.000000i) * X2I3X4 + (0.032720+0.000000i) * Y2I3Y4 + (-0.032720+0.000000i) * I2Y3Z4Y5 + (-0.032720+0.000000i) * I2X3Z4X5 + (0.032720+0.000000i) * Z2X3Z4X5 + (0.032720+0.000000i) * Z2Y3Z4Y5 + (0.005170+0.000000i) * X1Z2X3Y5Z6Y7 + (-0.018496+0.000000i) * X1Z2X3X5Z6X7 + (0.000000+0.000000i) * X1Z2Y3X5Z6Y7 + (-0.023665+0.000000i) * X1Z2Y3Y5Z6X7 + (-0.023665+0.000000i) * Y1Z2X3X5Z6Y7 + (0.000000+0.000000i) * Y1Z2X3Y5Z6X7 + (0.005170+0.000000i) * Y1Z2Y3X5Z6X7 + (-0.018496+0.000000i) * Y1Z2Y3Y5Z6Y7 + (0.024538+0.000000i) * Y1Z2Z3Z4Z5Z6Y7 + (0.024538+0.000000i) * X1Z2Z3Z4Z5Z6X7 + (0.044600+0.000000i) * X1Z2Z3Z4Z5I6X7 + (0.044600+0.000000i) * Y1Z2Z3Z4Z5I6Y7 + (-0.006008+0.000000i) * X1Z2Z3X4Y5Y6 + (0.000000+0.000000i) * X1Z2Z3X4X5X6 + (0.000000+0.000000i) * X1Z2Z3Y4X5Y6 + (0.006008+0.000000i) * X1Z2Z3Y4Y5X6 + (0.006008+0.000000i) * Y1Z2Z3X4X5Y6 + (0.000000+0.000000i) * Y1Z2Z3X4Y5X6 + (-0.006008+0.000000i) * Y1Z2Z3Y4X5X6 + (0.000000+0.000000i) * Y1Z2Z3Y4Y5Y6 + (0.015402+0.000000i) * X1Z2X3Y4Z5Y6 + (0.015402+0.000000i) * X1Z2X3X4Z5X6 + (0.000000+0.000000i) * X1Z2Y3X4Z5Y6 + (0.000000+0.000000i) * X1Z2Y3Y4Z5X6 + (0.000000+0.000000i) * Y1Z2X3X4Z5Y6 + (0.000000+0.000000i) * Y1Z2X3Y4Z5X6 + (0.015402+0.000000i) * Y1Z2Y3X4Z5X6 + (0.015402+0.000000i) * Y1Z2Y3Y4Z5Y6 + (-0.010233+0.000000i) * X1X2Y5Y6 + (0.000000+0.000000i) * X1X2X5X6 + (0.000000+0.000000i) * X1Y2X5Y6 + (0.010233+0.000000i) * X1Y2Y5X6 + (0.010233+0.000000i) * Y1X2X5Y6 + (0.000000+0.000000i) * Y1X2Y5X6 + (-0.010233+0.000000i) * Y1Y2X5X6 + (0.000000+0.000000i) * Y1Y2Y5Y6 + (-0.005388+0.000000i) * X1X2Y3Z4Z5Y6 + (0.000000+0.000000i) * X1X2X3Z4Z5X6 + (0.000000+0.000000i) * X1Y2X3Z4Z5Y6 + (0.005388+0.000000i) * X1Y2Y3Z4Z5X6 + (0.005388+0.000000i) * Y1X2X3Z4Z5Y6 + (0.000000+0.000000i) * Y1X2Y3Z4Z5X6 + (-0.005388+0.000000i) * Y1Y2X3Z4Z5X6 + (0.000000+0.000000i) * Y1Y2Y3Z4Z5Y6 + (0.043932+0.000000i) * X1Z2Z3Z4I5Z6X7 + (0.043932+0.000000i) * Y1Z2Z3Z4I5Z6Y7 + (0.037924+0.000000i) * X1Z2Z3I4Z5Z6X7 + (0.037924+0.000000i) * Y1Z2Z3I4Z5Z6Y7 + (0.000000+0.000000i) * X1X2Y4Z5Z6Y7 + (-0.033898+0.000000i) * X1X2X4Z5Z6X7 + (0.000000+0.000000i) * X1Y2X4Z5Z6Y7 + (-0.033898+0.000000i) * X1Y2Y4Z5Z6X7 + (-0.033898+0.000000i) * Y1X2X4Z5Z6Y7 + (0.000000+0.000000i) * Y1X2Y4Z5Z6X7 + (0.000000+0.000000i) * Y1Y2X4Z5Z6X7 + (-0.033898+0.000000i) * Y1Y2Y4Z5Z6Y7 + (0.035588+0.000000i) * X1Z2I3Z4Z5Z6X7 + (0.035588+0.000000i) * Y1Z2I3Z4Z5Z6Y7 + (-0.038283+0.000000i) * I1Y3Z4Y5 + (-0.038283+0.000000i) * I1X3Z4X5 + (0.038283+0.000000i) * Z1X3Z4X5 + (0.038283+0.000000i) * Z1Y3Z4Y5 + (0.030200+0.000000i) * X1I2Z3Z4Z5Z6X7 + (0.030200+0.000000i) * Y1I2Z3Z4Z5Z6Y7 + (-0.034036+0.000000i) * I1Y2Z3Y4 + (-0.034036+0.000000i) * I1X2Z3X4 + (0.034036+0.000000i) * Z1X2Z3X4 + (0.034036+0.000000i) * Z1Y2Z3Y4 + (-0.044600+0.000000i) * Y0Z1Z2Z3Z4Z5Y6I7 + (-0.044600+0.000000i) * X0Z1Z2Z3Z4Z5X6I7 + (0.044600+0.000000i) * X0Z1Z2Z3Z4Z5X6Z7 + (0.044600+0.000000i) * Y0Z1Z2Z3Z4Z5Y6Z7 + (0.006008+0.000000i) * X0Z1Z2Z3X4Y5Z6Y7 + (0.006008+0.000000i) * X0Z1Z2Z3X4X5Z6X7 + (0.000000+0.000000i) * X0Z1Z2Z3Y4X5Z6Y7 + (0.000000+0.000000i) * X0Z1Z2Z3Y4Y5Z6X7 + (0.000000+0.000000i) * Y0Z1Z2Z3X4X5Z6Y7 + (0.000000+0.000000i) * Y0Z1Z2Z3X4Y5Z6X7 + (0.006008+0.000000i) * Y0Z1Z2Z3Y4X5Z6X7 + (0.006008+0.000000i) * Y0Z1Z2Z3Y4Y5Z6Y7 + (-0.010233+0.000000i) * X0Z1Z2X3Y4Z5Z6Y7 + (0.000000+0.000000i) * X0Z1Z2X3X4Z5Z6X7 + (0.000000+0.000000i) * X0Z1Z2Y3X4Z5Z6Y7 + (0.010233+0.000000i) * X0Z1Z2Y3Y4Z5Z6X7 + (0.010233+0.000000i) * Y0Z1Z2X3X4Z5Z6Y7 + (0.000000+0.000000i) * Y0Z1Z2X3Y4Z5Z6X7 + (-0.010233+0.000000i) * Y0Z1Z2Y3X4Z5Z6X7 + (0.000000+0.000000i) * Y0Z1Z2Y3Y4Z5Z6Y7 + (0.015402+0.000000i) * X0Z1X2Y5Z6Y7 + (0.015402+0.000000i) * X0Z1X2X5Z6X7 + (0.000000+0.000000i) * X0Z1Y2X5Z6Y7 + (0.000000+0.000000i) * X0Z1Y2Y5Z6X7 + (0.000000+0.000000i) * Y0Z1X2X5Z6Y7 + (0.000000+0.000000i) * Y0Z1X2Y5Z6X7 + (0.015402+0.000000i) * Y0Z1Y2X5Z6X7 + (0.015402+0.000000i) * Y0Z1Y2Y5Z6Y7 + (0.005388+0.000000i) * X0Z1X2Y3Z4Z5Z6Y7 + (0.005388+0.000000i) * X0Z1X2X3Z4Z5Z6X7 + (0.000000+0.000000i) * X0Z1Y2X3Z4Z5Z6Y7 + (0.000000+0.000000i) * X0Z1Y2Y3Z4Z5Z6X7 + (0.000000+0.000000i) * Y0Z1X2X3Z4Z5Z6Y7 + (0.000000+0.000000i) * Y0Z1X2Y3Z4Z5Z6X7 + (0.005388+0.000000i) * Y0Z1Y2X3Z4Z5Z6X7 + (0.005388+0.000000i) * Y0Z1Y2Y3Z4Z5Z6Y7 + (-0.040626+0.000000i) * X0X1Y6Y7 + (0.000000+0.000000i) * X0X1X6X7 + (0.000000+0.000000i) * X0Y1X6Y7 + (0.040626+0.000000i) * X0Y1Y6X7 + (0.040626+0.000000i) * Y0X1X6Y7 + (0.000000+0.000000i) * Y0X1Y6X7 + (-0.040626+0.000000i) * Y0Y1X6X7 + (0.000000+0.000000i) * Y0Y1Y6Y7 + (0.005170+0.000000i) * X0Z1X2Y4Z5Y6 + (-0.018496+0.000000i) * X0Z1X2X4Z5X6 + (0.000000+0.000000i) * X0Z1Y2X4Z5Y6 + (-0.023665+0.000000i) * X0Z1Y2Y4Z5X6 + (-0.023665+0.000000i) * Y0Z1X2X4Z5Y6 + (0.000000+0.000000i) * Y0Z1X2Y4Z5X6 + (0.005170+0.000000i) * Y0Z1Y2X4Z5X6 + (-0.018496+0.000000i) * Y0Z1Y2Y4Z5Y6 + (0.026535+0.000000i) * Y0Z1Z2Z3Z4Z5Y6 + (0.026535+0.000000i) * X0Z1Z2Z3Z4Z5X6 + (0.037924+0.000000i) * X0Z1Z2Z3Z4I5X6 + (0.037924+0.000000i) * Y0Z1Z2Z3Z4I5Y6 + (0.000000+0.000000i) * X0Z1Z2X3Y5Y6 + (-0.033898+0.000000i) * X0Z1Z2X3X5X6 + (0.000000+0.000000i) * X0Z1Z2Y3X5Y6 + (-0.033898+0.000000i) * X0Z1Z2Y3Y5X6 + (-0.033898+0.000000i) * Y0Z1Z2X3X5Y6 + (0.000000+0.000000i) * Y0Z1Z2X3Y5X6 + (0.000000+0.000000i) * Y0Z1Z2Y3X5X6 + (-0.033898+0.000000i) * Y0Z1Z2Y3Y5Y6 + (-0.010615+0.000000i) * X0X1Y4Y5 + (0.000000+0.000000i) * X0X1X4X5 + (0.000000+0.000000i) * X0Y1X4Y5 + (0.010615+0.000000i) * X0Y1Y4X5 + (0.010615+0.000000i) * Y0X1X4Y5 + (0.000000+0.000000i) * Y0X1Y4X5 + (-0.010615+0.000000i) * Y0Y1X4X5 + (0.000000+0.000000i) * Y0Y1Y4Y5 + (-0.004247+0.000000i) * X0X1Y2Z3Z4Y5 + (0.000000+0.000000i) * X0X1X2Z3Z4X5 + (0.000000+0.000000i) * X0Y1X2Z3Z4Y5 + (0.004247+0.000000i) * X0Y1Y2Z3Z4X5 + (0.004247+0.000000i) * Y0X1X2Z3Z4Y5 + (0.000000+0.000000i) * Y0X1Y2Z3Z4X5 + (-0.004247+0.000000i) * Y0Y1X2Z3Z4X5 + (0.000000+0.000000i) * Y0Y1Y2Z3Z4Y5 + (0.043932+0.000000i) * X0Z1Z2Z3I4Z5X6 + (0.043932+0.000000i) * Y0Z1Z2Z3I4Z5Y6 + (0.030200+0.000000i) * X0Z1Z2I3Z4Z5X6 + (0.030200+0.000000i) * Y0Z1Z2I3Z4Z5Y6 + (0.000000+0.000000i) * X0X1Y3Y4 + (-0.004247+0.000000i) * X0X1X3X4 + (0.000000+0.000000i) * X0Y1X3Y4 + (-0.004247+0.000000i) * X0Y1Y3X4 + (-0.004247+0.000000i) * Y0X1X3Y4 + (0.000000+0.000000i) * Y0X1Y3X4 + (0.000000+0.000000i) * Y0Y1X3X4 + (-0.004247+0.000000i) * Y0Y1Y3Y4 + (-0.015529+0.000000i) * X0X1Y2Y3 + (0.000000+0.000000i) * X0X1X2X3 + (0.000000+0.000000i) * X0Y1X2Y3 + (0.015529+0.000000i) * X0Y1Y2X3 + (0.015529+0.000000i) * Y0X1X2Y3 + (0.000000+0.000000i) * Y0X1Y2X3 + (-0.015529+0.000000i) * Y0Y1X2X3 + (0.000000+0.000000i) * Y0Y1Y2Y3 + (-0.034036+0.000000i) * I0Y3Z4Y5 + (-0.034036+0.000000i) * I0X3Z4X5 + (0.034036+0.000000i) * Z0X3Z4X5 + (0.034036+0.000000i) * Z0Y3Z4Y5 + (0.035588+0.000000i) * X0Z1I2Z3Z4Z5X6 + (0.035588+0.000000i) * Y0Z1I2Z3Z4Z5Y6 + (-0.038283+0.000000i) * I0Y2Z3Y4 + (-0.038283+0.000000i) * I0X2Z3X4 + (0.038283+0.000000i) * Z0X2Z3X4 + (0.038283+0.000000i) * Z0Y2Z3Y4 + (0.042603+0.000000i) * X0I1Z2Z3Z4Z5X6 + (0.042603+0.000000i) * Y0I1Z2Z3Z4Z5Y6 + (-0.042603+0.000000i) * I0Y1Z2Z3Z4Z5Z6Y7 + (-0.042603+0.000000i) * I0X1Z2Z3Z4Z5Z6X7 + (0.042603+0.000000i) * Z0X1Z2Z3Z4Z5Z6X7 + (0.042603+0.000000i) * Z0Y1Z2Z3Z4Z5Z6Y7 + (-0.170651+0.000000i) * I6Z7 + (0.170651+0.000000i) * I6I7 + (-0.170651+0.000000i) * Z6I7 + (0.170651+0.000000i) * Z6Z7 + (-0.141038+0.000000i) * I5Z7 + (0.141038+0.000000i) * I5I7 + (-0.141038+0.000000i) * Z5I7 + (0.141038+0.000000i) * Z5Z7 + (-0.159822+0.000000i) * I5Z6 + (0.159822+0.000000i) * I5I6 + (-0.159822+0.000000i) * Z5I6 + (0.159822+0.000000i) * Z5Z6 + (-0.159822+0.000000i) * I4Z7 + (0.159822+0.000000i) * I4I7 + (-0.159822+0.000000i) * Z4I7 + (0.159822+0.000000i) * Z4Z7 + (-0.141038+0.000000i) * I4Z6 + (0.141038+0.000000i) * I4I6 + (-0.141038+0.000000i) * Z4I6 + (0.141038+0.000000i) * Z4Z6 + (-0.175043+0.000000i) * I4Z5 + (0.175043+0.000000i) * I4I5 + (-0.175043+0.000000i) * Z4I5 + (0.175043+0.000000i) * Z4Z5 + (-0.140568+0.000000i) * I3Z7 + (0.140568+0.000000i) * I3I7 + (-0.140568+0.000000i) * Z3I7 + (0.140568+0.000000i) * Z3Z7 + (-0.151859+0.000000i) * I3Z6 + (0.151859+0.000000i) * I3I6 + (-0.151859+0.000000i) * Z3I6 + (0.151859+0.000000i) * Z3Z6 + (-0.119937+0.000000i) * I3Z5 + (0.119937+0.000000i) * I3I5 + (-0.119937+0.000000i) * Z3I5 + (0.119937+0.000000i) * Z3Z5 + (-0.163499+0.000000i) * I3Z4 + (0.163499+0.000000i) * I3I4 + (-0.163499+0.000000i) * Z3I4 + (0.163499+0.000000i) * Z3Z4 + (-0.151859+0.000000i) * I2Z7 + (0.151859+0.000000i) * I2I7 + (-0.151859+0.000000i) * Z2I7 + (0.151859+0.000000i) * Z2Z7 + (-0.140568+0.000000i) * I2Z6 + (0.140568+0.000000i) * I2I6 + (-0.140568+0.000000i) * Z2I6 + (0.140568+0.000000i) * Z2Z6 + (-0.163499+0.000000i) * I2Z5 + (0.163499+0.000000i) * I2I5 + (-0.163499+0.000000i) * Z2I5 + (0.163499+0.000000i) * Z2Z5 + (-0.119937+0.000000i) * I2Z4 + (0.119937+0.000000i) * I2I4 + (-0.119937+0.000000i) * Z2I4 + (0.119937+0.000000i) * Z2Z4 + (-0.163223+0.000000i) * I2Z3 + (0.163223+0.000000i) * I2I3 + (-0.163223+0.000000i) * Z2I3 + (0.163223+0.000000i) * Z2Z3 + (-0.123378+0.000000i) * I1Z7 + (0.123378+0.000000i) * I1I7 + (-0.123378+0.000000i) * Z1I7 + (0.123378+0.000000i) * Z1Z7 + (-0.164004+0.000000i) * I1Z6 + (0.164004+0.000000i) * I1I6 + (-0.164004+0.000000i) * Z1I6 + (0.164004+0.000000i) * Z1Z6 + (-0.145992+0.000000i) * I1Z5 + (0.145992+0.000000i) * I1I5 + (-0.145992+0.000000i) * Z1I5 + (0.145992+0.000000i) * Z1Z5 + (-0.156607+0.000000i) * I1Z4 + (0.156607+0.000000i) * I1I4 + (-0.156607+0.000000i) * Z1I4 + (0.156607+0.000000i) * Z1Z4 + (-0.137855+0.000000i) * I1Z3 + (0.137855+0.000000i) * I1I3 + (-0.137855+0.000000i) * Z1I3 + (0.137855+0.000000i) * Z1Z3 + (-0.153384+0.000000i) * I1Z2 + (0.153384+0.000000i) * I1I2 + (-0.153384+0.000000i) * Z1I2 + (0.153384+0.000000i) * Z1Z2 + (-0.164004+0.000000i) * I0Z7 + (0.164004+0.000000i) * I0I7 + (-0.164004+0.000000i) * Z0I7 + (0.164004+0.000000i) * Z0Z7 + (-0.123378+0.000000i) * I0Z6 + (0.123378+0.000000i) * I0I6 + (-0.123378+0.000000i) * Z0I6 + (0.123378+0.000000i) * Z0Z6 + (-0.156607+0.000000i) * I0Z5 + (0.156607+0.000000i) * I0I5 + (-0.156607+0.000000i) * Z0I5 + (0.156607+0.000000i) * Z0Z5 + (-0.145992+0.000000i) * I0Z4 + (0.145992+0.000000i) * I0I4 + (-0.145992+0.000000i) * Z0I4 + (0.145992+0.000000i) * Z0Z4 + (-0.153384+0.000000i) * I0Z3 + (0.153384+0.000000i) * I0I3 + (-0.153384+0.000000i) * Z0I3 + (0.153384+0.000000i) * Z0Z3 + (-0.137855+0.000000i) * I0Z2 + (0.137855+0.000000i) * I0I2 + (-0.137855+0.000000i) * Z0I2 + (0.137855+0.000000i) * Z0Z2 + (-0.169845+0.000000i) * I0Z1 + (0.169845+0.000000i) * I0I1 + (-0.169845+0.000000i) * Z0I1 + (0.169845+0.000000i) * Z0Z1 + (0.733593+0.000000i) * Z7 + (-0.733593+0.000000i) * I7 + (0.733593+0.000000i) * Z6 + (-0.733593+0.000000i) * I6 + (0.777407+0.000000i) * Z5 + (-0.777407+0.000000i) * I5 + (0.777407+0.000000i) * Z4 + (-0.777407+0.000000i) * I4 + (1.263903+0.000000i) * Z3 + (-1.263903+0.000000i) * I3 + (1.263903+0.000000i) * Z2 + (-1.263903+0.000000i) * I2 + (1.249615+0.000000i) * Z1 + (-1.249615+0.000000i) * I1 + (1.249615+0.000000i) * Z0 + (-69.592091+0.000000i) + (-1.249615+0.000000i) * I0\n",
      "[Cudaq] Number of terms in the Qubit hamiltonian:  385\n"
     ]
    }
   ],
   "source": [
    "H2O_mol = \"qchem/H2O.xyz\"\n",
    "\n",
    "# Run HF, MP2, ccsd, casci and compute the active space spin molecular hamiltonian.\n",
    "# Inspect the active space from the natural orbitals. Natural orbitals are computed using MP2. \n",
    "# The active space is defined by 4 electrons and 4 orbitals.\n",
    "# The natural orbitals are used to compute the electron integrals.\n",
    "molecular_data = get_mol_hamiltonian(xyz=H2O_mol, spin=0, charge=0, basis='631g',nele_cas=4, norb_cas=4, \n",
    "                                     MP2=True, natorb=True, ccsd=True, casci=True, integrals_natorb=True, verbose=True)\n",
    "\n",
    "obi = molecular_data[0]\n",
    "tbi = molecular_data[1]\n",
    "ecore = molecular_data[2]\n",
    "nelectrons = molecular_data[3]\n",
    "norbitals = molecular_data[4]\n",
    "fermionic_hamiltonian = molecular_data[5]\n",
    "\n",
    "print('-------------------------------')\n",
    "print('Molecular data')\n",
    "print('-------------------------------')\n",
    "print('Number of electrons in the active space: ', nelectrons)\n",
    "print('Number of spatial orbitals in the active space: ', norbitals)\n",
    "print('Number of spin molecular orbitals: ', 2 * norbitals)\n",
    "print('Core energy: ', ecore)\n",
    "#print('Fermionic hamiltonian: ', fermionic_hamiltonian)\n",
    "\n",
    "print('-------------------------------')\n",
    "print('Jordan-Wigner transformation')\n",
    "print('-------------------------------')\n",
    "# Compute the qubit hamiltonian.\n",
    "spin_ham = jordan_wigner_fermion(obi, tbi, ecore)\n",
    "print('[Cudaq] Qubit hamiltonian: ', spin_ham)\n",
    "print('[Cudaq] Number of terms in the Qubit hamiltonian: ', spin_ham.get_term_count())\n"
   ]
  },
  {
   "cell_type": "markdown",
   "id": "aa3ce84f",
   "metadata": {},
   "source": [
    "#### (d) Generate the active space Hamiltonian computed from the CASSCF molecular orbitals"
   ]
  },
  {
   "cell_type": "code",
   "execution_count": 30,
   "id": "d2728947",
   "metadata": {},
   "outputs": [
    {
     "name": "stdout",
     "output_type": "stream",
     "text": [
      "overwrite output file: qchem/H2O-pyscf.log\n",
      "[pyscf] Total number of orbitals =  13\n",
      "[pyscf] Total number of electrons =  10\n",
      "[pyscf] HF energy =  -75.98397553727892\n",
      "[pyscf] R-MP2 energy=  -76.1128067006504\n",
      "[pyscf] Natural orbital occupation number from R-MP2: \n",
      "[1.99995663e+00 1.99012740e+00 1.98197049e+00 1.97722983e+00\n",
      " 1.97515174e+00 2.23585706e-02 2.09527832e-02 1.73621504e-02\n",
      " 1.00838241e-02 2.32351484e-03 1.74875097e-03 4.27482714e-04\n",
      " 3.06831462e-04]\n",
      "[pyscf] R-CASSCF energy using natural orbitals=  -76.03702384069328\n",
      "-------------------------------\n",
      "Molecular data\n",
      "-------------------------------\n",
      "Number of electrons in the active space:  4\n",
      "Number of spatial orbitals in the active space:  4\n",
      "Number of spin molecular orbitals:  8\n",
      "Core energy:  -69.14810818514475\n",
      "-------------------------------\n",
      "Jordan-Wigner transformation\n",
      "-------------------------------\n",
      "[Cudaq] Qubit hamiltonian:  (0.000000+0.000000i) * Y5Z6Y7 + (0.000000+0.000000i) * X5Z6X7 + (-0.000000+0.000000i) * X5I6X7 + (-0.000000+0.000000i) * Y5I6Y7 + (0.000000+0.000000i) * Y4Z5Y6I7 + (0.000000+0.000000i) * X4Z5X6I7 + (-0.000000+0.000000i) * X4Z5X6Z7 + (-0.000000+0.000000i) * Y4Z5Y6Z7 + (-0.028313+0.000000i) * X4X5Y6Y7 + (0.000000+0.000000i) * X4X5X6X7 + (0.000000+0.000000i) * X4Y5X6Y7 + (0.028313+0.000000i) * X4Y5Y6X7 + (0.028313+0.000000i) * Y4X5X6Y7 + (0.000000+0.000000i) * Y4X5Y6X7 + (-0.028313+0.000000i) * Y4Y5X6X7 + (0.000000+0.000000i) * Y4Y5Y6Y7 + (0.000000+0.000000i) * Y4Z5Y6 + (0.000000+0.000000i) * X4Z5X6 + (-0.000000+0.000000i) * X4I5X6 + (-0.000000+0.000000i) * Y4I5Y6 + (0.000000+0.000000i) * I4Y5Z6Y7 + (0.000000+0.000000i) * I4X5Z6X7 + (-0.000000+0.000000i) * Z4X5Z6X7 + (-0.000000+0.000000i) * Z4Y5Z6Y7 + (0.035898+0.000000i) * Y3Z4Y5I7 + (0.035898+0.000000i) * X3Z4X5I7 + (-0.035898+0.000000i) * X3Z4X5Z7 + (-0.035898+0.000000i) * Y3Z4Y5Z7 + (0.000000+0.000000i) * Y3Z4Z5Z6Y7 + (0.000000+0.000000i) * X3Z4Z5Z6X7 + (0.000000+0.000000i) * X3Z4Z5I6X7 + (0.000000+0.000000i) * Y3Z4Z5I6Y7 + (0.022804+0.000000i) * Y3Z4Y5I6 + (0.022804+0.000000i) * X3Z4X5I6 + (-0.022804+0.000000i) * X3Z4X5Z6 + (-0.022804+0.000000i) * Y3Z4Y5Z6 + (0.000000+0.000000i) * X3X4Y6Y7 + (0.013094+0.000000i) * X3X4X6X7 + (0.000000+0.000000i) * X3Y4X6Y7 + (0.013094+0.000000i) * X3Y4Y6X7 + (0.013094+0.000000i) * Y3X4X6Y7 + (0.000000+0.000000i) * Y3X4Y6X7 + (0.000000+0.000000i) * Y3Y4X6X7 + (0.013094+0.000000i) * Y3Y4Y6Y7 + (0.000000+0.000000i) * X3X4Y5Y6 + (0.000000+0.000000i) * X3X4X5X6 + (0.000000+0.000000i) * X3Y4X5Y6 + (-0.000000+0.000000i) * X3Y4Y5X6 + (-0.000000+0.000000i) * Y3X4X5Y6 + (0.000000+0.000000i) * Y3X4Y5X6 + (0.000000+0.000000i) * Y3Y4X5X6 + (0.000000+0.000000i) * Y3Y4Y5Y6 + (-0.000000+0.000000i) * X3Z4I5Z6X7 + (-0.000000+0.000000i) * Y3Z4I5Z6Y7 + (-0.000000+0.000000i) * I3Y5Z6Y7 + (-0.000000+0.000000i) * I3X5Z6X7 + (0.000000+0.000000i) * Z3X5Z6X7 + (0.000000+0.000000i) * Z3Y5Z6Y7 + (-0.000000+0.000000i) * X3I4Z5Z6X7 + (-0.000000+0.000000i) * Y3I4Z5Z6Y7 + (-0.143855+0.000000i) * Y3Z4Y5 + (-0.143855+0.000000i) * X3Z4X5 + (-0.036025+0.000000i) * X3I4X5 + (-0.036025+0.000000i) * Y3I4Y5 + (-0.000000+0.000000i) * I3Y4Z5Y6 + (-0.000000+0.000000i) * I3X4Z5X6 + (0.000000+0.000000i) * Z3X4Z5X6 + (0.000000+0.000000i) * Z3Y4Z5Y6 + (-0.000000+0.000000i) * Y2Z3Z4Z5Y6I7 + (-0.000000+0.000000i) * X2Z3Z4Z5X6I7 + (0.000000+0.000000i) * X2Z3Z4Z5X6Z7 + (0.000000+0.000000i) * Y2Z3Z4Z5Y6Z7 + (0.013094+0.000000i) * X2Z3Z4X5Y6Y7 + (0.000000+0.000000i) * X2Z3Z4X5X6X7 + (0.000000+0.000000i) * X2Z3Z4Y5X6Y7 + (-0.013094+0.000000i) * X2Z3Z4Y5Y6X7 + (-0.013094+0.000000i) * Y2Z3Z4X5X6Y7 + (0.000000+0.000000i) * Y2Z3Z4X5Y6X7 + (0.013094+0.000000i) * Y2Z3Z4Y5X6X7 + (0.000000+0.000000i) * Y2Z3Z4Y5Y6Y7 + (0.022804+0.000000i) * Y2Z3Y4I7 + (0.022804+0.000000i) * X2Z3X4I7 + (-0.022804+0.000000i) * X2Z3X4Z7 + (-0.022804+0.000000i) * Y2Z3Y4Z7 + (-0.000000+0.000000i) * X2Z3X4Y5Z6Y7 + (-0.000000+0.000000i) * X2Z3X4X5Z6X7 + (0.000000+0.000000i) * X2Z3Y4X5Z6Y7 + (0.000000+0.000000i) * X2Z3Y4Y5Z6X7 + (0.000000+0.000000i) * Y2Z3X4X5Z6Y7 + (0.000000+0.000000i) * Y2Z3X4Y5Z6X7 + (-0.000000+0.000000i) * Y2Z3Y4X5Z6X7 + (-0.000000+0.000000i) * Y2Z3Y4Y5Z6Y7 + (-0.016343+0.000000i) * X2X3Y6Y7 + (0.000000+0.000000i) * X2X3X6X7 + (0.000000+0.000000i) * X2Y3X6Y7 + (0.016343+0.000000i) * X2Y3Y6X7 + (0.016343+0.000000i) * Y2X3X6Y7 + (0.000000+0.000000i) * Y2X3Y6X7 + (-0.016343+0.000000i) * Y2Y3X6X7 + (0.000000+0.000000i) * Y2Y3Y6Y7 + (-0.000000+0.000000i) * X2X3Y4Z5Z6Y7 + (0.000000+0.000000i) * X2X3X4Z5Z6X7 + (0.000000+0.000000i) * X2Y3X4Z5Z6Y7 + (0.000000+0.000000i) * X2Y3Y4Z5Z6X7 + (0.000000+0.000000i) * Y2X3X4Z5Z6Y7 + (0.000000+0.000000i) * Y2X3Y4Z5Z6X7 + (-0.000000+0.000000i) * Y2Y3X4Z5Z6X7 + (0.000000+0.000000i) * Y2Y3Y4Z5Z6Y7 + (0.035898+0.000000i) * Y2Z3Y4I6 + (0.035898+0.000000i) * X2Z3X4I6 + (-0.035898+0.000000i) * X2Z3X4Z6 + (-0.035898+0.000000i) * Y2Z3Y4Z6 + (0.000000+0.000000i) * Y2Z3Z4Z5Y6 + (0.000000+0.000000i) * X2Z3Z4Z5X6 + (-0.000000+0.000000i) * X2Z3Z4I5X6 + (-0.000000+0.000000i) * Y2Z3Z4I5Y6 + (0.036025+0.000000i) * Y2Z3Y4I5 + (0.036025+0.000000i) * X2Z3X4I5 + (-0.036025+0.000000i) * X2Z3X4Z5 + (-0.036025+0.000000i) * Y2Z3Y4Z5 + (0.000000+0.000000i) * X2X3Y5Y6 + (-0.000000+0.000000i) * X2X3X5X6 + (0.000000+0.000000i) * X2Y3X5Y6 + (-0.000000+0.000000i) * X2Y3Y5X6 + (-0.000000+0.000000i) * Y2X3X5Y6 + (0.000000+0.000000i) * Y2X3Y5X6 + (0.000000+0.000000i) * Y2Y3X5X6 + (-0.000000+0.000000i) * Y2Y3Y5Y6 + (-0.043919+0.000000i) * X2X3Y4Y5 + (0.000000+0.000000i) * X2X3X4X5 + (0.000000+0.000000i) * X2Y3X4Y5 + (0.043919+0.000000i) * X2Y3Y4X5 + (0.043919+0.000000i) * Y2X3X4Y5 + (0.000000+0.000000i) * Y2X3Y4X5 + (-0.043919+0.000000i) * Y2Y3X4X5 + (0.000000+0.000000i) * Y2Y3Y4Y5 + (-0.000000+0.000000i) * I2Y5Z6Y7 + (-0.000000+0.000000i) * I2X5Z6X7 + (0.000000+0.000000i) * Z2X5Z6X7 + (0.000000+0.000000i) * Z2Y5Z6Y7 + (-0.000000+0.000000i) * X2Z3I4Z5X6 + (-0.000000+0.000000i) * Y2Z3I4Z5Y6 + (-0.000000+0.000000i) * I2Y4Z5Y6 + (-0.000000+0.000000i) * I2X4Z5X6 + (0.000000+0.000000i) * Z2X4Z5X6 + (0.000000+0.000000i) * Z2Y4Z5Y6 + (-0.000000+0.000000i) * X2I3Z4Z5X6 + (-0.000000+0.000000i) * Y2I3Z4Z5Y6 + (-0.149272+0.000000i) * Y2Z3Y4 + (-0.149272+0.000000i) * X2Z3X4 + (-0.030608+0.000000i) * X2I3X4 + (-0.030608+0.000000i) * Y2I3Y4 + (0.000000+0.000000i) * I2Y3Z4Z5Z6Y7 + (0.000000+0.000000i) * I2X3Z4Z5Z6X7 + (-0.000000+0.000000i) * Z2X3Z4Z5Z6X7 + (-0.000000+0.000000i) * Z2Y3Z4Z5Z6Y7 + (0.030608+0.000000i) * I2Y3Z4Y5 + (0.030608+0.000000i) * I2X3Z4X5 + (-0.030608+0.000000i) * Z2X3Z4X5 + (-0.030608+0.000000i) * Z2Y3Z4Y5 + (0.000000+0.000000i) * Y1Z2Z3Z4Y5I7 + (0.000000+0.000000i) * X1Z2Z3Z4X5I7 + (-0.000000+0.000000i) * X1Z2Z3Z4X5Z7 + (-0.000000+0.000000i) * Y1Z2Z3Z4Y5Z7 + (0.000000+0.000000i) * Y1Z2Y3I7 + (0.000000+0.000000i) * X1Z2X3I7 + (-0.000000+0.000000i) * X1Z2X3Z7 + (-0.000000+0.000000i) * Y1Z2Y3Z7 + (-0.009662+0.000000i) * X1Z2X3Y5Z6Y7 + (0.010850+0.000000i) * X1Z2X3X5Z6X7 + (0.000000+0.000000i) * X1Z2Y3X5Z6Y7 + (0.020512+0.000000i) * X1Z2Y3Y5Z6X7 + (0.020512+0.000000i) * Y1Z2X3X5Z6Y7 + (0.000000+0.000000i) * Y1Z2X3Y5Z6X7 + (-0.009662+0.000000i) * Y1Z2Y3X5Z6X7 + (0.010850+0.000000i) * Y1Z2Y3Y5Z6Y7 + (0.032549+0.000000i) * Y1Z2Z3Z4Z5Z6Y7 + (0.032549+0.000000i) * X1Z2Z3Z4Z5Z6X7 + (0.037984+0.000000i) * X1Z2Z3Z4Z5I6X7 + (0.037984+0.000000i) * Y1Z2Z3Z4Z5I6Y7 + (0.000000+0.000000i) * Y1Z2Z3Z4Y5I6 + (0.000000+0.000000i) * X1Z2Z3Z4X5I6 + (-0.000000+0.000000i) * X1Z2Z3Z4X5Z6 + (-0.000000+0.000000i) * Y1Z2Z3Z4Y5Z6 + (0.000000+0.000000i) * X1Z2Z3X4Y6Y7 + (0.000000+0.000000i) * X1Z2Z3X4X6X7 + (0.000000+0.000000i) * X1Z2Z3Y4X6Y7 + (0.000000+0.000000i) * X1Z2Z3Y4Y6X7 + (0.000000+0.000000i) * Y1Z2Z3X4X6Y7 + (0.000000+0.000000i) * Y1Z2Z3X4Y6X7 + (0.000000+0.000000i) * Y1Z2Z3Y4X6X7 + (0.000000+0.000000i) * Y1Z2Z3Y4Y6Y7 + (-0.010417+0.000000i) * X1Z2Z3X4Y5Y6 + (0.000000+0.000000i) * X1Z2Z3X4X5X6 + (0.000000+0.000000i) * X1Z2Z3Y4X5Y6 + (0.010417+0.000000i) * X1Z2Z3Y4Y5X6 + (0.010417+0.000000i) * Y1Z2Z3X4X5Y6 + (0.000000+0.000000i) * Y1Z2Z3X4Y5X6 + (-0.010417+0.000000i) * Y1Z2Z3Y4X5X6 + (0.000000+0.000000i) * Y1Z2Z3Y4Y5Y6 + (0.000000+0.000000i) * Y1Z2Y3I6 + (0.000000+0.000000i) * X1Z2X3I6 + (-0.000000+0.000000i) * X1Z2X3Z6 + (-0.000000+0.000000i) * Y1Z2Y3Z6 + (-0.023441+0.000000i) * X1Z2X3Y4Z5Y6 + (-0.023441+0.000000i) * X1Z2X3X4Z5X6 + (0.000000+0.000000i) * X1Z2Y3X4Z5Y6 + (0.000000+0.000000i) * X1Z2Y3Y4Z5X6 + (0.000000+0.000000i) * Y1Z2X3X4Z5Y6 + (0.000000+0.000000i) * Y1Z2X3Y4Z5X6 + (-0.023441+0.000000i) * Y1Z2Y3X4Z5X6 + (-0.023441+0.000000i) * Y1Z2Y3Y4Z5Y6 + (0.000000+0.000000i) * X1X2Y6Y7 + (-0.000000+0.000000i) * X1X2X6X7 + (0.000000+0.000000i) * X1Y2X6Y7 + (-0.000000+0.000000i) * X1Y2Y6X7 + (-0.000000+0.000000i) * Y1X2X6Y7 + (0.000000+0.000000i) * Y1X2Y6X7 + (0.000000+0.000000i) * Y1Y2X6X7 + (-0.000000+0.000000i) * Y1Y2Y6Y7 + (0.013779+0.000000i) * X1X2Y5Y6 + (0.000000+0.000000i) * X1X2X5X6 + (0.000000+0.000000i) * X1Y2X5Y6 + (-0.013779+0.000000i) * X1Y2Y5X6 + (-0.013779+0.000000i) * Y1X2X5Y6 + (0.000000+0.000000i) * Y1X2Y5X6 + (0.013779+0.000000i) * Y1Y2X5X6 + (0.000000+0.000000i) * Y1Y2Y5Y6 + (-0.009294+0.000000i) * X1X2Y3Z4Z5Y6 + (0.000000+0.000000i) * X1X2X3Z4Z5X6 + (0.000000+0.000000i) * X1Y2X3Z4Z5Y6 + (0.009294+0.000000i) * X1Y2Y3Z4Z5X6 + (0.009294+0.000000i) * Y1X2X3Z4Z5Y6 + (0.000000+0.000000i) * Y1X2Y3Z4Z5X6 + (-0.009294+0.000000i) * Y1Y2X3Z4Z5X6 + (0.000000+0.000000i) * Y1Y2Y3Z4Z5Y6 + (0.040525+0.000000i) * X1Z2Z3Z4I5Z6X7 + (0.040525+0.000000i) * Y1Z2Z3Z4I5Z6Y7 + (-0.000000+0.000000i) * Y1Z2Y3I5 + (-0.000000+0.000000i) * X1Z2X3I5 + (0.000000+0.000000i) * X1Z2X3Z5 + (0.000000+0.000000i) * Y1Z2Y3Z5 + (0.000000+0.000000i) * I1Y5Z6Y7 + (0.000000+0.000000i) * I1X5Z6X7 + (-0.000000+0.000000i) * Z1X5Z6X7 + (-0.000000+0.000000i) * Z1Y5Z6Y7 + (0.030108+0.000000i) * X1Z2Z3I4Z5Z6X7 + (0.030108+0.000000i) * Y1Z2Z3I4Z5Z6Y7 + (-0.000000+0.000000i) * Y1Z2Z3Z4Y5 + (-0.000000+0.000000i) * X1Z2Z3Z4X5 + (-0.000000+0.000000i) * X1Z2Z3I4X5 + (-0.000000+0.000000i) * Y1Z2Z3I4Y5 + (0.000000+0.000000i) * Y1Z2Y3I4 + (0.000000+0.000000i) * X1Z2X3I4 + (-0.000000+0.000000i) * X1Z2X3Z4 + (-0.000000+0.000000i) * Y1Z2Y3Z4 + (0.000000+0.000000i) * X1X2Y4Z5Z6Y7 + (0.034291+0.000000i) * X1X2X4Z5Z6X7 + (0.000000+0.000000i) * X1Y2X4Z5Z6Y7 + (0.034291+0.000000i) * X1Y2Y4Z5Z6X7 + (0.034291+0.000000i) * Y1X2X4Z5Z6Y7 + (0.000000+0.000000i) * Y1X2Y4Z5Z6X7 + (0.000000+0.000000i) * Y1Y2X4Z5Z6X7 + (0.034291+0.000000i) * Y1Y2Y4Z5Z6Y7 + (0.000000+0.000000i) * X1X2Y4Y5 + (-0.000000+0.000000i) * X1X2X4X5 + (0.000000+0.000000i) * X1Y2X4Y5 + (-0.000000+0.000000i) * X1Y2Y4X5 + (-0.000000+0.000000i) * Y1X2X4Y5 + (0.000000+0.000000i) * Y1X2Y4X5 + (0.000000+0.000000i) * Y1Y2X4X5 + (-0.000000+0.000000i) * Y1Y2Y4Y5 + (0.000000+0.000000i) * X1X2Y3Y4 + (0.000000+0.000000i) * X1X2X3X4 + (0.000000+0.000000i) * X1Y2X3Y4 + (-0.000000+0.000000i) * X1Y2Y3X4 + (-0.000000+0.000000i) * Y1X2X3Y4 + (0.000000+0.000000i) * Y1X2Y3X4 + (0.000000+0.000000i) * Y1Y2X3X4 + (0.000000+0.000000i) * Y1Y2Y3Y4 + (0.000000+0.000000i) * I1Y4Z5Y6 + (0.000000+0.000000i) * I1X4Z5X6 + (-0.000000+0.000000i) * Z1X4Z5X6 + (-0.000000+0.000000i) * Z1Y4Z5Y6 + (0.036264+0.000000i) * X1Z2I3Z4Z5Z6X7 + (0.036264+0.000000i) * Y1Z2I3Z4Z5Z6Y7 + (-0.000000+0.000000i) * X1Z2I3Z4X5 + (-0.000000+0.000000i) * Y1Z2I3Z4Y5 + (-0.000000+0.000000i) * I1Y3Z4Z5Z6Y7 + (-0.000000+0.000000i) * I1X3Z4Z5Z6X7 + (0.000000+0.000000i) * Z1X3Z4Z5Z6X7 + (0.000000+0.000000i) * Z1Y3Z4Z5Z6Y7 + (0.033755+0.000000i) * I1Y3Z4Y5 + (0.033755+0.000000i) * I1X3Z4X5 + (-0.033755+0.000000i) * Z1X3Z4X5 + (-0.033755+0.000000i) * Z1Y3Z4Y5 + (0.026970+0.000000i) * X1I2Z3Z4Z5Z6X7 + (0.026970+0.000000i) * Y1I2Z3Z4Z5Z6Y7 + (0.000000+0.000000i) * X1I2Z3Z4X5 + (0.000000+0.000000i) * Y1I2Z3Z4Y5 + (-0.000000+0.000000i) * Y1Z2Y3 + (-0.000000+0.000000i) * X1Z2X3 + (-0.000000+0.000000i) * X1I2X3 + (-0.000000+0.000000i) * Y1I2Y3 + (-0.000000+0.000000i) * I1Y2Z3Z4Z5Y6 + (-0.000000+0.000000i) * I1X2Z3Z4Z5X6 + (0.000000+0.000000i) * Z1X2Z3Z4Z5X6 + (0.000000+0.000000i) * Z1Y2Z3Z4Z5Y6 + (0.026459+0.000000i) * I1Y2Z3Y4 + (0.026459+0.000000i) * I1X2Z3X4 + (-0.026459+0.000000i) * Z1X2Z3X4 + (-0.026459+0.000000i) * Z1Y2Z3Y4 + (-0.037984+0.000000i) * Y0Z1Z2Z3Z4Z5Y6I7 + (-0.037984+0.000000i) * X0Z1Z2Z3Z4Z5X6I7 + (0.037984+0.000000i) * X0Z1Z2Z3Z4Z5X6Z7 + (0.037984+0.000000i) * Y0Z1Z2Z3Z4Z5Y6Z7 + (0.000000+0.000000i) * X0Z1Z2Z3Z4X5Y6Y7 + (0.000000+0.000000i) * X0Z1Z2Z3Z4X5X6X7 + (0.000000+0.000000i) * X0Z1Z2Z3Z4Y5X6Y7 + (-0.000000+0.000000i) * X0Z1Z2Z3Z4Y5Y6X7 + (-0.000000+0.000000i) * Y0Z1Z2Z3Z4X5X6Y7 + (0.000000+0.000000i) * Y0Z1Z2Z3Z4X5Y6X7 + (0.000000+0.000000i) * Y0Z1Z2Z3Z4Y5X6X7 + (0.000000+0.000000i) * Y0Z1Z2Z3Z4Y5Y6Y7 + (0.000000+0.000000i) * Y0Z1Z2Z3Y4I7 + (0.000000+0.000000i) * X0Z1Z2Z3X4I7 + (-0.000000+0.000000i) * X0Z1Z2Z3X4Z7 + (-0.000000+0.000000i) * Y0Z1Z2Z3Y4Z7 + (0.010417+0.000000i) * X0Z1Z2Z3X4Y5Z6Y7 + (0.010417+0.000000i) * X0Z1Z2Z3X4X5Z6X7 + (0.000000+0.000000i) * X0Z1Z2Z3Y4X5Z6Y7 + (0.000000+0.000000i) * X0Z1Z2Z3Y4Y5Z6X7 + (0.000000+0.000000i) * Y0Z1Z2Z3X4X5Z6Y7 + (0.000000+0.000000i) * Y0Z1Z2Z3X4Y5Z6X7 + (0.010417+0.000000i) * Y0Z1Z2Z3Y4X5Z6X7 + (0.010417+0.000000i) * Y0Z1Z2Z3Y4Y5Z6Y7 + (-0.000000+0.000000i) * X0Z1Z2X3Y6Y7 + (0.000000+0.000000i) * X0Z1Z2X3X6X7 + (0.000000+0.000000i) * X0Z1Z2Y3X6Y7 + (0.000000+0.000000i) * X0Z1Z2Y3Y6X7 + (0.000000+0.000000i) * Y0Z1Z2X3X6Y7 + (0.000000+0.000000i) * Y0Z1Z2X3Y6X7 + (-0.000000+0.000000i) * Y0Z1Z2Y3X6X7 + (0.000000+0.000000i) * Y0Z1Z2Y3Y6Y7 + (0.013779+0.000000i) * X0Z1Z2X3Y4Z5Z6Y7 + (0.000000+0.000000i) * X0Z1Z2X3X4Z5Z6X7 + (0.000000+0.000000i) * X0Z1Z2Y3X4Z5Z6Y7 + (-0.013779+0.000000i) * X0Z1Z2Y3Y4Z5Z6X7 + (-0.013779+0.000000i) * Y0Z1Z2X3X4Z5Z6Y7 + (0.000000+0.000000i) * Y0Z1Z2X3Y4Z5Z6X7 + (0.013779+0.000000i) * Y0Z1Z2Y3X4Z5Z6X7 + (0.000000+0.000000i) * Y0Z1Z2Y3Y4Z5Z6Y7 + (0.000000+0.000000i) * Y0Z1Y2I7 + (0.000000+0.000000i) * X0Z1X2I7 + (-0.000000+0.000000i) * X0Z1X2Z7 + (-0.000000+0.000000i) * Y0Z1Y2Z7 + (-0.023441+0.000000i) * X0Z1X2Y5Z6Y7 + (-0.023441+0.000000i) * X0Z1X2X5Z6X7 + (0.000000+0.000000i) * X0Z1Y2X5Z6Y7 + (0.000000+0.000000i) * X0Z1Y2Y5Z6X7 + (0.000000+0.000000i) * Y0Z1X2X5Z6Y7 + (0.000000+0.000000i) * Y0Z1X2Y5Z6X7 + (-0.023441+0.000000i) * Y0Z1Y2X5Z6X7 + (-0.023441+0.000000i) * Y0Z1Y2Y5Z6Y7 + (0.009294+0.000000i) * X0Z1X2Y3Z4Z5Z6Y7 + (0.009294+0.000000i) * X0Z1X2X3Z4Z5Z6X7 + (0.000000+0.000000i) * X0Z1Y2X3Z4Z5Z6Y7 + (0.000000+0.000000i) * X0Z1Y2Y3Z4Z5Z6X7 + (0.000000+0.000000i) * Y0Z1X2X3Z4Z5Z6Y7 + (0.000000+0.000000i) * Y0Z1X2Y3Z4Z5Z6X7 + (0.009294+0.000000i) * Y0Z1Y2X3Z4Z5Z6X7 + (0.009294+0.000000i) * Y0Z1Y2Y3Z4Z5Z6Y7 + (-0.043460+0.000000i) * X0X1Y6Y7 + (0.000000+0.000000i) * X0X1X6X7 + (0.000000+0.000000i) * X0Y1X6Y7 + (0.043460+0.000000i) * X0Y1Y6X7 + (0.043460+0.000000i) * Y0X1X6Y7 + (0.000000+0.000000i) * Y0X1Y6X7 + (-0.043460+0.000000i) * Y0Y1X6X7 + (0.000000+0.000000i) * Y0Y1Y6Y7 + (0.000000+0.000000i) * X0X1Y4Z5Z6Y7 + (0.000000+0.000000i) * X0X1X4Z5Z6X7 + (0.000000+0.000000i) * X0Y1X4Z5Z6Y7 + (-0.000000+0.000000i) * X0Y1Y4Z5Z6X7 + (-0.000000+0.000000i) * Y0X1X4Z5Z6Y7 + (0.000000+0.000000i) * Y0X1Y4Z5Z6X7 + (0.000000+0.000000i) * Y0Y1X4Z5Z6X7 + (0.000000+0.000000i) * Y0Y1Y4Z5Z6Y7 + (-0.000000+0.000000i) * X0X1Y2Z3Z4Z5Z6Y7 + (0.000000+0.000000i) * X0X1X2Z3Z4Z5Z6X7 + (0.000000+0.000000i) * X0Y1X2Z3Z4Z5Z6Y7 + (0.000000+0.000000i) * X0Y1Y2Z3Z4Z5Z6X7 + (0.000000+0.000000i) * Y0X1X2Z3Z4Z5Z6Y7 + (0.000000+0.000000i) * Y0X1Y2Z3Z4Z5Z6X7 + (-0.000000+0.000000i) * Y0Y1X2Z3Z4Z5Z6X7 + (0.000000+0.000000i) * Y0Y1Y2Z3Z4Z5Z6Y7 + (0.000000+0.000000i) * Y0Z1Z2Z3Y4I6 + (0.000000+0.000000i) * X0Z1Z2Z3X4I6 + (-0.000000+0.000000i) * X0Z1Z2Z3X4Z6 + (-0.000000+0.000000i) * Y0Z1Z2Z3Y4Z6 + (0.000000+0.000000i) * Y0Z1Y2I6 + (0.000000+0.000000i) * X0Z1X2I6 + (-0.000000+0.000000i) * X0Z1X2Z6 + (-0.000000+0.000000i) * Y0Z1Y2Z6 + (-0.009662+0.000000i) * X0Z1X2Y4Z5Y6 + (0.010850+0.000000i) * X0Z1X2X4Z5X6 + (0.000000+0.000000i) * X0Z1Y2X4Z5Y6 + (0.020512+0.000000i) * X0Z1Y2Y4Z5X6 + (0.020512+0.000000i) * Y0Z1X2X4Z5Y6 + (0.000000+0.000000i) * Y0Z1X2Y4Z5X6 + (-0.009662+0.000000i) * Y0Z1Y2X4Z5X6 + (0.010850+0.000000i) * Y0Z1Y2Y4Z5Y6 + (0.029970+0.000000i) * Y0Z1Z2Z3Z4Z5Y6 + (0.029970+0.000000i) * X0Z1Z2Z3Z4Z5X6 + (0.030108+0.000000i) * X0Z1Z2Z3Z4I5X6 + (0.030108+0.000000i) * Y0Z1Z2Z3Z4I5Y6 + (0.000000+0.000000i) * Y0Z1Z2Z3Y4I5 + (0.000000+0.000000i) * X0Z1Z2Z3X4I5 + (-0.000000+0.000000i) * X0Z1Z2Z3X4Z5 + (-0.000000+0.000000i) * Y0Z1Z2Z3Y4Z5 + (0.000000+0.000000i) * X0Z1Z2X3Y5Y6 + (0.034291+0.000000i) * X0Z1Z2X3X5X6 + (0.000000+0.000000i) * X0Z1Z2Y3X5Y6 + (0.034291+0.000000i) * X0Z1Z2Y3Y5X6 + (0.034291+0.000000i) * Y0Z1Z2X3X5Y6 + (0.000000+0.000000i) * Y0Z1Z2X3Y5X6 + (0.000000+0.000000i) * Y0Z1Z2Y3X5X6 + (0.034291+0.000000i) * Y0Z1Z2Y3Y5Y6 + (-0.000000+0.000000i) * X0Z1Z2X3Y4Y5 + (0.000000+0.000000i) * X0Z1Z2X3X4X5 + (0.000000+0.000000i) * X0Z1Z2Y3X4Y5 + (0.000000+0.000000i) * X0Z1Z2Y3Y4X5 + (0.000000+0.000000i) * Y0Z1Z2X3X4Y5 + (0.000000+0.000000i) * Y0Z1Z2X3Y4X5 + (-0.000000+0.000000i) * Y0Z1Z2Y3X4X5 + (0.000000+0.000000i) * Y0Z1Z2Y3Y4Y5 + (0.000000+0.000000i) * Y0Z1Y2I5 + (0.000000+0.000000i) * X0Z1X2I5 + (-0.000000+0.000000i) * X0Z1X2Z5 + (-0.000000+0.000000i) * Y0Z1Y2Z5 + (-0.000000+0.000000i) * X0Z1X2Y3Z4Y5 + (-0.000000+0.000000i) * X0Z1X2X3Z4X5 + (0.000000+0.000000i) * X0Z1Y2X3Z4Y5 + (0.000000+0.000000i) * X0Z1Y2Y3Z4X5 + (0.000000+0.000000i) * Y0Z1X2X3Z4Y5 + (0.000000+0.000000i) * Y0Z1X2Y3Z4X5 + (-0.000000+0.000000i) * Y0Z1Y2X3Z4X5 + (-0.000000+0.000000i) * Y0Z1Y2Y3Z4Y5 + (0.000000+0.000000i) * X0X1Y5Y6 + (0.000000+0.000000i) * X0X1X5X6 + (0.000000+0.000000i) * X0Y1X5Y6 + (0.000000+0.000000i) * X0Y1Y5X6 + (0.000000+0.000000i) * Y0X1X5Y6 + (0.000000+0.000000i) * Y0X1Y5X6 + (0.000000+0.000000i) * Y0Y1X5X6 + (0.000000+0.000000i) * Y0Y1Y5Y6 + (-0.012211+0.000000i) * X0X1Y4Y5 + (0.000000+0.000000i) * X0X1X4X5 + (0.000000+0.000000i) * X0Y1X4Y5 + (0.012211+0.000000i) * X0Y1Y4X5 + (0.012211+0.000000i) * Y0X1X4Y5 + (0.000000+0.000000i) * Y0X1Y4X5 + (-0.012211+0.000000i) * Y0Y1X4X5 + (0.000000+0.000000i) * Y0Y1Y4Y5 + (0.007296+0.000000i) * X0X1Y2Z3Z4Y5 + (0.000000+0.000000i) * X0X1X2Z3Z4X5 + (0.000000+0.000000i) * X0Y1X2Z3Z4Y5 + (-0.007296+0.000000i) * X0Y1Y2Z3Z4X5 + (-0.007296+0.000000i) * Y0X1X2Z3Z4Y5 + (0.000000+0.000000i) * Y0X1Y2Z3Z4X5 + (0.007296+0.000000i) * Y0Y1X2Z3Z4X5 + (0.000000+0.000000i) * Y0Y1Y2Z3Z4Y5 + (0.000000+0.000000i) * I0Y5Z6Y7 + (0.000000+0.000000i) * I0X5Z6X7 + (-0.000000+0.000000i) * Z0X5Z6X7 + (-0.000000+0.000000i) * Z0Y5Z6Y7 + (0.040525+0.000000i) * X0Z1Z2Z3I4Z5X6 + (0.040525+0.000000i) * Y0Z1Z2Z3I4Z5Y6 + (-0.000000+0.000000i) * Y0Z1Y2I4 + (-0.000000+0.000000i) * X0Z1X2I4 + (0.000000+0.000000i) * X0Z1X2Z4 + (0.000000+0.000000i) * Y0Z1Y2Z4 + (0.000000+0.000000i) * I0Y4Z5Y6 + (0.000000+0.000000i) * I0X4Z5X6 + (-0.000000+0.000000i) * Z0X4Z5X6 + (-0.000000+0.000000i) * Z0Y4Z5Y6 + (0.026970+0.000000i) * X0Z1Z2I3Z4Z5X6 + (0.026970+0.000000i) * Y0Z1Z2I3Z4Z5Y6 + (-0.000000+0.000000i) * Y0Z1Z2Z3Y4 + (-0.000000+0.000000i) * X0Z1Z2Z3X4 + (0.000000+0.000000i) * X0Z1Z2I3X4 + (0.000000+0.000000i) * Y0Z1Z2I3Y4 + (0.000000+0.000000i) * Y0Z1Y2I3 + (0.000000+0.000000i) * X0Z1X2I3 + (-0.000000+0.000000i) * X0Z1X2Z3 + (-0.000000+0.000000i) * Y0Z1Y2Z3 + (0.000000+0.000000i) * X0X1Y3Z4Z5Y6 + (-0.000000+0.000000i) * X0X1X3Z4Z5X6 + (0.000000+0.000000i) * X0Y1X3Z4Z5Y6 + (-0.000000+0.000000i) * X0Y1Y3Z4Z5X6 + (-0.000000+0.000000i) * Y0X1X3Z4Z5Y6 + (0.000000+0.000000i) * Y0X1Y3Z4Z5X6 + (0.000000+0.000000i) * Y0Y1X3Z4Z5X6 + (-0.000000+0.000000i) * Y0Y1Y3Z4Z5Y6 + (0.000000+0.000000i) * X0X1Y3Y4 + (0.007296+0.000000i) * X0X1X3X4 + (0.000000+0.000000i) * X0Y1X3Y4 + (0.007296+0.000000i) * X0Y1Y3X4 + (0.007296+0.000000i) * Y0X1X3Y4 + (0.000000+0.000000i) * Y0X1Y3X4 + (0.000000+0.000000i) * Y0Y1X3X4 + (0.007296+0.000000i) * Y0Y1Y3Y4 + (-0.023124+0.000000i) * X0X1Y2Y3 + (0.000000+0.000000i) * X0X1X2X3 + (0.000000+0.000000i) * X0Y1X2Y3 + (0.023124+0.000000i) * X0Y1Y2X3 + (0.023124+0.000000i) * Y0X1X2Y3 + (0.000000+0.000000i) * Y0X1Y2X3 + (-0.023124+0.000000i) * Y0Y1X2X3 + (0.000000+0.000000i) * Y0Y1Y2Y3 + (-0.000000+0.000000i) * I0Y3Z4Z5Z6Y7 + (-0.000000+0.000000i) * I0X3Z4Z5Z6X7 + (0.000000+0.000000i) * Z0X3Z4Z5Z6X7 + (0.000000+0.000000i) * Z0Y3Z4Z5Z6Y7 + (0.026459+0.000000i) * I0Y3Z4Y5 + (0.026459+0.000000i) * I0X3Z4X5 + (-0.026459+0.000000i) * Z0X3Z4X5 + (-0.026459+0.000000i) * Z0Y3Z4Y5 + (0.036264+0.000000i) * X0Z1I2Z3Z4Z5X6 + (0.036264+0.000000i) * Y0Z1I2Z3Z4Z5Y6 + (-0.000000+0.000000i) * X0Z1I2Z3X4 + (-0.000000+0.000000i) * Y0Z1I2Z3Y4 + (-0.000000+0.000000i) * I0Y2Z3Z4Z5Y6 + (-0.000000+0.000000i) * I0X2Z3Z4Z5X6 + (0.000000+0.000000i) * Z0X2Z3Z4Z5X6 + (0.000000+0.000000i) * Z0Y2Z3Z4Z5Y6 + (0.033755+0.000000i) * I0Y2Z3Y4 + (0.033755+0.000000i) * I0X2Z3X4 + (-0.033755+0.000000i) * Z0X2Z3X4 + (-0.033755+0.000000i) * Z0Y2Z3Y4 + (0.040563+0.000000i) * X0I1Z2Z3Z4Z5X6 + (0.040563+0.000000i) * Y0I1Z2Z3Z4Z5Y6 + (-0.000000+0.000000i) * X0I1Z2Z3X4 + (-0.000000+0.000000i) * Y0I1Z2Z3Y4 + (-0.000000+0.000000i) * Y0Z1Y2 + (-0.000000+0.000000i) * X0Z1X2 + (-0.000000+0.000000i) * X0I1X2 + (-0.000000+0.000000i) * Y0I1Y2 + (-0.040563+0.000000i) * I0Y1Z2Z3Z4Z5Z6Y7 + (-0.040563+0.000000i) * I0X1Z2Z3Z4Z5Z6X7 + (0.040563+0.000000i) * Z0X1Z2Z3Z4Z5Z6X7 + (0.040563+0.000000i) * Z0Y1Z2Z3Z4Z5Z6Y7 + (0.000000+0.000000i) * I0Y1Z2Z3Z4Y5 + (0.000000+0.000000i) * I0X1Z2Z3Z4X5 + (-0.000000+0.000000i) * Z0X1Z2Z3Z4X5 + (-0.000000+0.000000i) * Z0Y1Z2Z3Z4Y5 + (0.000000+0.000000i) * I0Y1Z2Y3 + (0.000000+0.000000i) * I0X1Z2X3 + (-0.000000+0.000000i) * Z0X1Z2X3 + (-0.000000+0.000000i) * Z0Y1Z2Y3 + (-0.176899+0.000000i) * I6Z7 + (0.176899+0.000000i) * I6I7 + (-0.176899+0.000000i) * Z6I7 + (0.176899+0.000000i) * Z6Z7 + (-0.133367+0.000000i) * I5Z7 + (0.133367+0.000000i) * I5I7 + (-0.133367+0.000000i) * Z5I7 + (0.133367+0.000000i) * Z5Z7 + (-0.161680+0.000000i) * I5Z6 + (0.161680+0.000000i) * I5I6 + (-0.161680+0.000000i) * Z5I6 + (0.161680+0.000000i) * Z5Z6 + (-0.161680+0.000000i) * I4Z7 + (0.161680+0.000000i) * I4I7 + (-0.161680+0.000000i) * Z4I7 + (0.161680+0.000000i) * Z4Z7 + (-0.133367+0.000000i) * I4Z6 + (0.133367+0.000000i) * I4I6 + (-0.133367+0.000000i) * Z4I6 + (0.133367+0.000000i) * Z4Z6 + (-0.173287+0.000000i) * I4Z5 + (0.173287+0.000000i) * I4I5 + (-0.173287+0.000000i) * Z4I5 + (0.173287+0.000000i) * Z4Z5 + (-0.139625+0.000000i) * I3Z7 + (0.139625+0.000000i) * I3I7 + (-0.139625+0.000000i) * Z3I7 + (0.139625+0.000000i) * Z3Z7 + (-0.155968+0.000000i) * I3Z6 + (0.155968+0.000000i) * I3I6 + (-0.155968+0.000000i) * Z3I6 + (0.155968+0.000000i) * Z3Z6 + (-0.119773+0.000000i) * I3Z5 + (0.119773+0.000000i) * I3I5 + (-0.119773+0.000000i) * Z3I5 + (0.119773+0.000000i) * Z3Z5 + (-0.163692+0.000000i) * I3Z4 + (0.163692+0.000000i) * I3I4 + (-0.163692+0.000000i) * Z3I4 + (0.163692+0.000000i) * Z3Z4 + (-0.155968+0.000000i) * I2Z7 + (0.155968+0.000000i) * I2I7 + (-0.155968+0.000000i) * Z2I7 + (0.155968+0.000000i) * Z2Z7 + (-0.139625+0.000000i) * I2Z6 + (0.139625+0.000000i) * I2I6 + (-0.139625+0.000000i) * Z2I6 + (0.139625+0.000000i) * Z2Z6 + (-0.163692+0.000000i) * I2Z5 + (0.163692+0.000000i) * I2I5 + (-0.163692+0.000000i) * Z2I5 + (0.163692+0.000000i) * Z2Z5 + (-0.119773+0.000000i) * I2Z4 + (0.119773+0.000000i) * I2I4 + (-0.119773+0.000000i) * Z2I4 + (0.119773+0.000000i) * Z2Z4 + (-0.163669+0.000000i) * I2Z3 + (0.163669+0.000000i) * I2I3 + (-0.163669+0.000000i) * Z2I3 + (0.163669+0.000000i) * Z2Z3 + (-0.130427+0.000000i) * I1Z7 + (0.130427+0.000000i) * I1I7 + (-0.130427+0.000000i) * Z1I7 + (0.130427+0.000000i) * Z1Z7 + (-0.173887+0.000000i) * I1Z6 + (0.173887+0.000000i) * I1I6 + (-0.173887+0.000000i) * Z1I6 + (0.173887+0.000000i) * Z1Z6 + (-0.147141+0.000000i) * I1Z5 + (0.147141+0.000000i) * I1I5 + (-0.147141+0.000000i) * Z1I5 + (0.147141+0.000000i) * Z1Z5 + (-0.159353+0.000000i) * I1Z4 + (0.159353+0.000000i) * I1I4 + (-0.159353+0.000000i) * Z1I4 + (0.159353+0.000000i) * Z1Z4 + (-0.135721+0.000000i) * I1Z3 + (0.135721+0.000000i) * I1I3 + (-0.135721+0.000000i) * Z1I3 + (0.135721+0.000000i) * Z1Z3 + (-0.158846+0.000000i) * I1Z2 + (0.158846+0.000000i) * I1I2 + (-0.158846+0.000000i) * Z1I2 + (0.158846+0.000000i) * Z1Z2 + (-0.173887+0.000000i) * I0Z7 + (0.173887+0.000000i) * I0I7 + (-0.173887+0.000000i) * Z0I7 + (0.173887+0.000000i) * Z0Z7 + (-0.130427+0.000000i) * I0Z6 + (0.130427+0.000000i) * I0I6 + (-0.130427+0.000000i) * Z0I6 + (0.130427+0.000000i) * Z0Z6 + (-0.159353+0.000000i) * I0Z5 + (0.159353+0.000000i) * I0I5 + (-0.159353+0.000000i) * Z0I5 + (0.159353+0.000000i) * Z0Z5 + (-0.147141+0.000000i) * I0Z4 + (0.147141+0.000000i) * I0I4 + (-0.147141+0.000000i) * Z0I4 + (0.147141+0.000000i) * Z0Z4 + (-0.158846+0.000000i) * I0Z3 + (0.158846+0.000000i) * I0I3 + (-0.158846+0.000000i) * Z0I3 + (0.158846+0.000000i) * Z0Z3 + (-0.135721+0.000000i) * I0Z2 + (0.135721+0.000000i) * I0I2 + (-0.135721+0.000000i) * Z0I2 + (0.135721+0.000000i) * Z0Z2 + (-0.181709+0.000000i) * I0Z1 + (0.181709+0.000000i) * I0I1 + (-0.181709+0.000000i) * Z0I1 + (0.181709+0.000000i) * Z0Z1 + (0.826424+0.000000i) * Z7 + (-0.826424+0.000000i) * I7 + (0.826424+0.000000i) * Z6 + (-0.826424+0.000000i) * I6 + (0.795762+0.000000i) * Z5 + (-0.795762+0.000000i) * I5 + (0.795762+0.000000i) * Z4 + (-0.795762+0.000000i) * I4 + (1.270250+0.000000i) * Z3 + (-1.270250+0.000000i) * I3 + (1.270250+0.000000i) * Z2 + (-1.270250+0.000000i) * I2 + (1.373084+0.000000i) * Z1 + (-1.373084+0.000000i) * I1 + (1.373084+0.000000i) * Z0 + (-69.148108+0.000000i) + (-1.373084+0.000000i) * I0\n",
      "[Cudaq] Number of terms in the Qubit hamiltonian:  689\n"
     ]
    }
   ],
   "source": [
    "H2O_mol = \"qchem/H2O.xyz\"\n",
    "\n",
    "# Run HF, MP2, casscf and compute the active space spin molecular hamiltonian.\n",
    "# Inspect and the active space from the natural orbitals. Natural orbitals are computed using MP2. \n",
    "# The natural orbitals are used with casscf calaculations.\n",
    "# The casscf  orbitals are used to compute the electron integrals.\n",
    "\n",
    "molecular_data = get_mol_hamiltonian(xyz=H2O_mol, spin=0, charge=0, basis='631g', nele_cas=4, norb_cas=4, \n",
    "                                     MP2=True, natorb=True, casscf=True, integrals_casscf=True, verbose=True)\n",
    "\n",
    "# If do not want to use the natural orbitals to inspect active space, set natorb=False (default).\n",
    "#molecular_data = get_mol_hamiltonian(xyz=H2O_mol, spin=0, charge=0, basis='631g', nele_cas=4, norb_cas=4, \n",
    "#                                    casscf=True, integrals_casscf=True, verbose=True)\n",
    "\n",
    "obi = molecular_data[0]\n",
    "tbi = molecular_data[1]\n",
    "ecore = molecular_data[2]\n",
    "nelectrons = molecular_data[3]\n",
    "norbitals = molecular_data[4]\n",
    "fermionic_hamiltonian = molecular_data[5]\n",
    "\n",
    "print('-------------------------------')\n",
    "print('Molecular data')\n",
    "print('-------------------------------')\n",
    "print('Number of electrons in the active space: ', nelectrons)\n",
    "print('Number of spatial orbitals in the active space: ', norbitals)\n",
    "print('Number of spin molecular orbitals: ', 2 * norbitals)\n",
    "print('Core energy: ', ecore)\n",
    "#print('Fermionic hamiltonian: ', fermionic_hamiltonian)\n",
    "\n",
    "print('-------------------------------')\n",
    "print('Jordan-Wigner transformation')\n",
    "print('-------------------------------')\n",
    "# Compute the qubit hamiltonian.\n",
    "spin_ham = jordan_wigner_fermion(obi, tbi, ecore)\n",
    "print('[Cudaq] Qubit hamiltonian: ', spin_ham)\n",
    "print('[Cudaq] Number of terms in the Qubit hamiltonian: ', spin_ham.get_term_count())"
   ]
  }
 ],
 "metadata": {
  "kernelspec": {
   "display_name": "Python 3 (ipykernel)",
   "language": "python",
   "name": "python3"
  },
  "language_info": {
   "codemirror_mode": {
    "name": "ipython",
    "version": 3
   },
   "file_extension": ".py",
   "mimetype": "text/x-python",
   "name": "python",
   "nbconvert_exporter": "python",
   "pygments_lexer": "ipython3",
   "version": "3.10.12"
  }
 },
 "nbformat": 4,
 "nbformat_minor": 5
}
